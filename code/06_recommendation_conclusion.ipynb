{
 "cells": [
  {
   "cell_type": "code",
   "execution_count": 16,
   "id": "1a7bdf62",
   "metadata": {},
   "outputs": [],
   "source": [
    "%run utils.ipynb\n",
    "%run transformers.ipynb"
   ]
  },
  {
   "cell_type": "code",
   "execution_count": 17,
   "id": "1a2950f8",
   "metadata": {},
   "outputs": [],
   "source": [
    "warnings.filterwarnings('ignore')"
   ]
  },
  {
   "cell_type": "code",
   "execution_count": 18,
   "id": "20985e33",
   "metadata": {},
   "outputs": [],
   "source": [
    "df=pd.read_csv(\"../data/train.csv\")\n",
    "\n",
    "#drop some useless columns\n",
    "cols_to_drop=[\"Id\",\"PID\"]\n",
    "df=df.drop(columns=cols_to_drop)\n",
    "\n",
    "#drop outliers identified in part 1\n",
    "df=df[df['Gr Liv Area']<=4500]\n",
    "df=df[df['SalePrice']>np.expm1(10)]\n",
    "\n",
    "df_copy=df.copy()"
   ]
  },
  {
   "cell_type": "code",
   "execution_count": 20,
   "id": "92c21619",
   "metadata": {},
   "outputs": [],
   "source": [
    "features_to_keep=['Gr Liv Area', 'Overall Qual', 'Year Built', 'Total Bsmt SF', 'Fireplace Qu',\n",
    " 'BsmtFin SF 1', 'Overall Cond', 'Garage Cars', 'Functional', 'Year Remod/Add', 'Exter Qual',\n",
    " 'Foundation_PConc', 'Garage Type_Attchd', 'Kitchen Qual', 'Garage Type_Detchd', 'Lot Frontage',\n",
    " 'Lot Area']\n",
    "\n",
    "cols_to_impute_with_none=[\"Pool QC\",\"Misc Feature\",\"Alley\",\"Fence\",\"Fireplace Qu\",\n",
    "                          \"Garage Finish\",\"Garage Qual\",\"Garage Cond\",\"Garage Type\",\n",
    "                         \"Bsmt Exposure\",\"BsmtFin Type 2\",\"Bsmt Cond\",\"Bsmt Qual\",\"BsmtFin Type 1\",\n",
    "                         \"Mas Vnr Type\"]\n",
    "\n",
    "cols_to_impute_with_zero=[\"Garage Yr Blt\",\"Mas Vnr Area\",\"Bsmt Full Bath\",\"Bsmt Half Bath\",\"Garage Area\",\n",
    "                         \"Garage Cars\",\"Total Bsmt SF\",\"Bsmt Unf SF\",\"BsmtFin SF 2\",\"BsmtFin SF 1\"]\n",
    "\n",
    "cols_to_impute_with_mode=[\"Electrical\"]\n",
    "\n",
    "correlated_to_drop=[\"1st Flr SF\",\"Garage Yr Blt\",\"TotRms AbvGrd\",\"Garage Area\"]"
   ]
  },
  {
   "cell_type": "code",
   "execution_count": 21,
   "id": "cd424689",
   "metadata": {},
   "outputs": [],
   "source": [
    "#Create a regressor to dynamically creates a pipeline\n",
    "def create_regressor(model,**kwargs):\n",
    "    '''\n",
    "    model: estimator instance\n",
    "    return: TransformedTargetRegressor\n",
    "    '''\n",
    "    pipeline=Pipeline(steps=[\n",
    "        ('drop_correlated',DropCorrelated(correlated_to_drop)),\n",
    "        ('ms_subclass_convert',MSSubClassConvert()),\n",
    "        ('standard_impute',StandardImpute(none=cols_to_impute_with_none,\n",
    "                                          zero=cols_to_impute_with_zero,\n",
    "                                          mode=cols_to_impute_with_mode)),\n",
    "        ('lot_frotage_impute',LotFrontageImpute()),\n",
    "        ('ordinal_to_numerical',OrdinalToNumeric()),\n",
    "        ('onehotencode',OneHotEncode()),\n",
    "        ('align_train_and_predict',AlignTrainPredict(**kwargs)), #This is to align the train and predict DF in case they are different\n",
    "        ('passthrough',Passthrough()), #Passthrough step, does nothing. Only exists to allow external code to retrieve feature names.\n",
    "        ('robustscalar',RobustScaler()),\n",
    "        ('model',model)\n",
    "    ])\n",
    "    \n",
    "    return TransformedTargetRegressor(regressor=pipeline,\n",
    "                                    func=np.log1p,\n",
    "                                    inverse_func=np.expm1\n",
    "                                    )"
   ]
  },
  {
   "cell_type": "code",
   "execution_count": 22,
   "id": "8d4f3191",
   "metadata": {},
   "outputs": [],
   "source": [
    "#set up X and Y\n",
    "X=df.drop(columns=\"SalePrice\")\n",
    "y=df[\"SalePrice\"]\n",
    "\n",
    "#make a backup copy\n",
    "X_copy=X.copy()\n",
    "y_copy=y.copy()"
   ]
  },
  {
   "cell_type": "markdown",
   "id": "d6c42455",
   "metadata": {},
   "source": [
    "### Investigate the coefficients"
   ]
  },
  {
   "cell_type": "code",
   "execution_count": 23,
   "id": "ec778a7e",
   "metadata": {
    "scrolled": true
   },
   "outputs": [],
   "source": [
    "#create regressor and instruct to keep only numerical features\n",
    "reg=create_regressor(LinearRegression(),feature_names=features_to_keep)\n",
    "\n",
    "reg.fit(X,y)"
   ]
  },
  {
   "cell_type": "code",
   "execution_count": 46,
   "id": "fc13f8d4",
   "metadata": {},
   "outputs": [
    {
     "data": {
      "text/html": [
       "<div>\n",
       "<style scoped>\n",
       "    .dataframe tbody tr th:only-of-type {\n",
       "        vertical-align: middle;\n",
       "    }\n",
       "\n",
       "    .dataframe tbody tr th {\n",
       "        vertical-align: top;\n",
       "    }\n",
       "\n",
       "    .dataframe thead th {\n",
       "        text-align: right;\n",
       "    }\n",
       "</style>\n",
       "<table border=\"1\" class=\"dataframe\">\n",
       "  <thead>\n",
       "    <tr style=\"text-align: right;\">\n",
       "      <th></th>\n",
       "      <th>Coefficient</th>\n",
       "    </tr>\n",
       "    <tr>\n",
       "      <th>Feature</th>\n",
       "      <th></th>\n",
       "    </tr>\n",
       "  </thead>\n",
       "  <tbody>\n",
       "    <tr>\n",
       "      <th>Gr Liv Area</th>\n",
       "      <td>0.167945</td>\n",
       "    </tr>\n",
       "    <tr>\n",
       "      <th>Year Built</th>\n",
       "      <td>0.136201</td>\n",
       "    </tr>\n",
       "    <tr>\n",
       "      <th>Overall Qual</th>\n",
       "      <td>0.134753</td>\n",
       "    </tr>\n",
       "    <tr>\n",
       "      <th>BsmtFin SF 1</th>\n",
       "      <td>0.082303</td>\n",
       "    </tr>\n",
       "    <tr>\n",
       "      <th>Fireplace Qu</th>\n",
       "      <td>0.071773</td>\n",
       "    </tr>\n",
       "    <tr>\n",
       "      <th>Total Bsmt SF</th>\n",
       "      <td>0.062022</td>\n",
       "    </tr>\n",
       "    <tr>\n",
       "      <th>Overall Cond</th>\n",
       "      <td>0.050476</td>\n",
       "    </tr>\n",
       "    <tr>\n",
       "      <th>Garage Cars</th>\n",
       "      <td>0.037378</td>\n",
       "    </tr>\n",
       "    <tr>\n",
       "      <th>Garage Type_Attchd</th>\n",
       "      <td>0.033139</td>\n",
       "    </tr>\n",
       "    <tr>\n",
       "      <th>Functional</th>\n",
       "      <td>0.032356</td>\n",
       "    </tr>\n",
       "    <tr>\n",
       "      <th>Year Remod/Add</th>\n",
       "      <td>0.031895</td>\n",
       "    </tr>\n",
       "    <tr>\n",
       "      <th>Exter Qual</th>\n",
       "      <td>0.031802</td>\n",
       "    </tr>\n",
       "    <tr>\n",
       "      <th>Kitchen Qual</th>\n",
       "      <td>0.030558</td>\n",
       "    </tr>\n",
       "    <tr>\n",
       "      <th>Foundation_PConc</th>\n",
       "      <td>0.028773</td>\n",
       "    </tr>\n",
       "    <tr>\n",
       "      <th>Garage Type_Detchd</th>\n",
       "      <td>0.026780</td>\n",
       "    </tr>\n",
       "    <tr>\n",
       "      <th>Lot Frontage</th>\n",
       "      <td>0.020466</td>\n",
       "    </tr>\n",
       "    <tr>\n",
       "      <th>Lot Area</th>\n",
       "      <td>0.017608</td>\n",
       "    </tr>\n",
       "  </tbody>\n",
       "</table>\n",
       "</div>"
      ],
      "text/plain": [
       "                    Coefficient\n",
       "Feature                        \n",
       "Gr Liv Area            0.167945\n",
       "Year Built             0.136201\n",
       "Overall Qual           0.134753\n",
       "BsmtFin SF 1           0.082303\n",
       "Fireplace Qu           0.071773\n",
       "Total Bsmt SF          0.062022\n",
       "Overall Cond           0.050476\n",
       "Garage Cars            0.037378\n",
       "Garage Type_Attchd     0.033139\n",
       "Functional             0.032356\n",
       "Year Remod/Add         0.031895\n",
       "Exter Qual             0.031802\n",
       "Kitchen Qual           0.030558\n",
       "Foundation_PConc       0.028773\n",
       "Garage Type_Detchd     0.026780\n",
       "Lot Frontage           0.020466\n",
       "Lot Area               0.017608"
      ]
     },
     "execution_count": 46,
     "metadata": {},
     "output_type": "execute_result"
    }
   ],
   "source": [
    "df_coeff=pd.DataFrame([reg.regressor_['passthrough'].get_feature_names(),\n",
    "             reg.regressor_['model'].coef_]).T\n",
    "df_coeff.columns=['Feature','Coefficient']\n",
    "df_coeff['Coefficient']=df_coeff['Coefficient'].map(np.expm1)\n",
    "df_coeff=df_coeff.set_index(\"Feature\")\n",
    "df_coeff.sort_values(by=\"Coefficient\",ascending=False)"
   ]
  },
  {
   "attachments": {},
   "cell_type": "markdown",
   "id": "5a383787",
   "metadata": {},
   "source": [
    "We can break down the features into 2 main categories for practicality purpose:  \n",
    "**Major features**:<br>\n",
    "`Gr Liv Area`,  `Year Built`, `Overall Qual`.<br>\n",
    "**Minor features**:  <br>\n",
    "`BsmtFin SF 1`, `Fireplace Qu`, `Total Bsmt SF`, `Overall Cond`  "
   ]
  },
  {
   "cell_type": "markdown",
   "id": "218cdf30",
   "metadata": {},
   "source": [
    "## Recommendation"
   ]
  },
  {
   "cell_type": "markdown",
   "id": "98d3fc77",
   "metadata": {},
   "source": [
    "We recommend a simplified framework of assessing houses using a mixture of Major and Minor features.  \n",
    "The framework which comprises major and minor allow the assessor to make judgement on how significant a feature is, on-the-spot, in the absence of a computer.  \n",
    "  \n",
    "It will be useful for anyone who is viewing a house and has to make a rough decision on how to valuate the property on the spot."
   ]
  },
  {
   "cell_type": "markdown",
   "id": "8f961231",
   "metadata": {},
   "source": [
    "## Conclusion"
   ]
  },
  {
   "cell_type": "markdown",
   "id": "10e178f4",
   "metadata": {},
   "source": [
    "We have used several features in attempt to model the price of a property.  \n",
    "Upon confirmation that the model is reliable, we then extracted the features which were identified as significant from the model, and created a framework for humans to make decision - without the use of a computer."
   ]
  }
 ],
 "metadata": {
  "kernelspec": {
   "display_name": "Python 3 (ipykernel)",
   "language": "python",
   "name": "python3"
  },
  "language_info": {
   "codemirror_mode": {
    "name": "ipython",
    "version": 3
   },
   "file_extension": ".py",
   "mimetype": "text/x-python",
   "name": "python",
   "nbconvert_exporter": "python",
   "pygments_lexer": "ipython3",
   "version": "3.9.12"
  }
 },
 "nbformat": 4,
 "nbformat_minor": 5
}
