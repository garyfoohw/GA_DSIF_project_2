{
 "cells": [
  {
   "cell_type": "code",
   "execution_count": 1,
   "id": "1a7bdf62",
   "metadata": {},
   "outputs": [],
   "source": [
    "%run utils.ipynb"
   ]
  },
  {
   "cell_type": "code",
   "execution_count": 2,
   "id": "1a2950f8",
   "metadata": {},
   "outputs": [],
   "source": [
    "warnings.filterwarnings('ignore')"
   ]
  },
  {
   "cell_type": "code",
   "execution_count": 3,
   "id": "1376d951",
   "metadata": {},
   "outputs": [],
   "source": [
    "pd.set_option(\"display.max_rows\",None)\n",
    "pd.set_option(\"display.max_columns\",None)"
   ]
  },
  {
   "cell_type": "code",
   "execution_count": 4,
   "id": "20985e33",
   "metadata": {},
   "outputs": [],
   "source": [
    "df=pd.read_csv(\"../data/train.csv\")\n",
    "\n",
    "#drop some useless columns\n",
    "cols_to_drop=[\"Id\",\"PID\"]\n",
    "df=df.drop(columns=cols_to_drop)\n",
    "\n",
    "#drop outliers identified in part 1\n",
    "df=df[df['Gr Liv Area']<=4500]\n",
    "df=df[df['SalePrice']>np.expm1(10)]\n",
    "\n",
    "df_copy=df.copy()"
   ]
  },
  {
   "cell_type": "code",
   "execution_count": 5,
   "id": "8e51603b",
   "metadata": {},
   "outputs": [],
   "source": [
    "features_to_keep=['Gr Liv Area', 'Overall Qual', 'Year Built', 'Total Bsmt SF', 'Fireplace Qu',\n",
    " 'BsmtFin SF 1', 'Overall Cond', 'Garage Cars', 'Functional', 'Year Remod/Add', 'Exter Qual',\n",
    " 'Foundation_PConc', 'Garage Type_Attchd', 'Kitchen Qual', 'Garage Type_Detchd', 'Lot Frontage',\n",
    " 'Lot Area']"
   ]
  },
  {
   "cell_type": "code",
   "execution_count": 6,
   "id": "92c21619",
   "metadata": {},
   "outputs": [],
   "source": [
    "cols_to_impute_with_none=[\"Pool QC\",\"Misc Feature\",\"Alley\",\"Fence\",\"Fireplace Qu\",\n",
    "                          \"Garage Finish\",\"Garage Qual\",\"Garage Cond\",\"Garage Type\",\n",
    "                         \"Bsmt Exposure\",\"BsmtFin Type 2\",\"Bsmt Cond\",\"Bsmt Qual\",\"BsmtFin Type 1\",\n",
    "                         \"Mas Vnr Type\"]\n",
    "\n",
    "cols_to_impute_with_zero=[\"Garage Yr Blt\",\"Mas Vnr Area\",\"Bsmt Full Bath\",\"Bsmt Half Bath\",\"Garage Area\",\n",
    "                         \"Garage Cars\",\"Total Bsmt SF\",\"Bsmt Unf SF\",\"BsmtFin SF 2\",\"BsmtFin SF 1\"]\n",
    "\n",
    "cols_to_impute_with_mode=[\"Electrical\"]\n",
    "\n",
    "correlated_to_drop=[\"1st Flr SF\",\"Garage Yr Blt\",\"TotRms AbvGrd\",\"Garage Area\"]"
   ]
  },
  {
   "cell_type": "code",
   "execution_count": 7,
   "id": "cd424689",
   "metadata": {},
   "outputs": [],
   "source": [
    "#Create a regressor to dynamically creates a pipeline\n",
    "def create_regressor(model,**kwargs):\n",
    "    '''\n",
    "    model: estimator instance\n",
    "    return: TransformedTargetRegressor\n",
    "    '''\n",
    "    pipeline=Pipeline(steps=[\n",
    "        ('drop_correlated',DropCorrelated(correlated_to_drop)),\n",
    "        ('ms_subclass_convert',MSSubClassConvert()),\n",
    "        ('standard_impute',StandardImpute(none=cols_to_impute_with_none,\n",
    "                                          zero=cols_to_impute_with_zero,\n",
    "                                          mode=cols_to_impute_with_mode)),\n",
    "        ('lot_frotage_impute',LotFrontageImpute()),\n",
    "        ('ordinal_to_numerical',OrdinalToNumeric()),\n",
    "        ('onehotencode',OneHotEncode()),\n",
    "        ('align_train_and_predict',AlignTrainPredict(**kwargs)), #This is to align the train and predict DF in case they are different\n",
    "        ('passthrough',Passthrough()), #Passthrough step, does nothing. Only exists to allow external code to retrieve feature names.\n",
    "        ('robustscalar',RobustScaler()),\n",
    "        ('model',model)\n",
    "    ])\n",
    "    \n",
    "    return TransformedTargetRegressor(regressor=pipeline,\n",
    "                                    func=np.log1p,\n",
    "                                    inverse_func=np.expm1\n",
    "                                    )"
   ]
  },
  {
   "cell_type": "code",
   "execution_count": 8,
   "id": "8d4f3191",
   "metadata": {},
   "outputs": [],
   "source": [
    "#set up X and Y\n",
    "X=df.drop(columns=\"SalePrice\")\n",
    "y=df[\"SalePrice\"]\n",
    "\n",
    "#make a backup copy\n",
    "X_copy=X.copy()\n",
    "y_copy=y.copy()"
   ]
  },
  {
   "cell_type": "markdown",
   "id": "d6c42455",
   "metadata": {},
   "source": [
    "#### Without any regularization"
   ]
  },
  {
   "cell_type": "code",
   "execution_count": 9,
   "id": "7b8ee3d1",
   "metadata": {},
   "outputs": [
    {
     "data": {
      "text/plain": [
       "24207.397640972507"
      ]
     },
     "metadata": {},
     "output_type": "display_data"
    }
   ],
   "source": [
    "#create regressor and instruct to keep only numerical features\n",
    "reg=create_regressor(LinearRegression(),feature_names=features_to_keep)\n",
    "\n",
    "grid = GridSearchCV(reg,cv=5,param_grid={'regressor__model__fit_intercept':[True]},\n",
    "                    scoring='neg_root_mean_squared_error')\n",
    "grid.fit(X,y)\n",
    "\n",
    "display(-1*grid.best_score_)"
   ]
  },
  {
   "cell_type": "markdown",
   "id": "4c39b385",
   "metadata": {},
   "source": [
    "#### With L1 regularization"
   ]
  },
  {
   "cell_type": "code",
   "execution_count": 10,
   "id": "3047a081",
   "metadata": {},
   "outputs": [
    {
     "data": {
      "text/plain": [
       "24207.397640972526"
      ]
     },
     "metadata": {},
     "output_type": "display_data"
    },
    {
     "data": {
      "text/plain": [
       "{'regressor__model__alpha': 0.0}"
      ]
     },
     "metadata": {},
     "output_type": "display_data"
    }
   ],
   "source": [
    "L1_alpha=np.linspace(0,1,10)\n",
    "\n",
    "#create regressor and instruct to keep only numerical features\n",
    "reg=create_regressor(Lasso(),feature_names=features_to_keep)\n",
    "\n",
    "grid = GridSearchCV(reg,param_grid={'regressor__model__alpha':L1_alpha},\n",
    "                   cv=5,\n",
    "                    scoring='neg_root_mean_squared_error')\n",
    "grid.fit(X,y)\n",
    "\n",
    "display(-1*grid.best_score_)\n",
    "display(grid.best_params_)"
   ]
  },
  {
   "cell_type": "markdown",
   "id": "dd3df5e3",
   "metadata": {},
   "source": [
    "Best L1 model is when $\\alpha = 0$"
   ]
  },
  {
   "cell_type": "markdown",
   "id": "2c1633f0",
   "metadata": {},
   "source": [
    "#### With L2 regularization"
   ]
  },
  {
   "cell_type": "code",
   "execution_count": null,
   "id": "3b6a4f81",
   "metadata": {
    "scrolled": true
   },
   "outputs": [],
   "source": [
    "L2_alpha=np.linspace(0,100,10)\n",
    "\n",
    "#create regressor and instruct to keep only numerical features\n",
    "reg=create_regressor(Lasso(),feature_names=features_to_keep)\n",
    "\n",
    "grid = GridSearchCV(reg,param_grid={'regressor__model__alpha':L2_alpha},\n",
    "                   cv=5,scoring='neg_root_mean_squared_error')\n",
    "grid.fit(X,y)\n",
    "\n",
    "display(-1*grid.best_score_)\n",
    "display(grid.best_params_)"
   ]
  },
  {
   "cell_type": "markdown",
   "id": "7d3547e6",
   "metadata": {},
   "source": [
    "With Elastic Net regularization"
   ]
  },
  {
   "cell_type": "code",
   "execution_count": null,
   "id": "63d1a1be",
   "metadata": {},
   "outputs": [],
   "source": [
    "EN_alpha=np.linspace(0,1,10)\n",
    "EN_l1_ratio=np.linspace(0,1,10)\n",
    "\n",
    "#create regressor and instruct to keep only numerical features\n",
    "reg=create_regressor(ElasticNet(),feature_names=features_to_keep)\n",
    "\n",
    "grid = GridSearchCV(reg,param_grid={'regressor__model__alpha':EN_alpha,\n",
    "                                   'regressor__model__l1_ratio':EN_l1_ratio},\n",
    "                   cv=5,scoring='neg_root_mean_squared_error')\n",
    "grid.fit(X,y)\n",
    "\n",
    "display(-1*grid.best_score_)\n",
    "display(grid.best_params_)"
   ]
  },
  {
   "cell_type": "markdown",
   "id": "ae280bf4",
   "metadata": {},
   "source": [
    "It appears the best model is still the linear model with no regularization."
   ]
  },
  {
   "cell_type": "markdown",
   "id": "c7303f5c",
   "metadata": {},
   "source": [
    "### Try a submission"
   ]
  },
  {
   "cell_type": "code",
   "execution_count": null,
   "id": "6422eaa1",
   "metadata": {},
   "outputs": [],
   "source": [
    "#Instantiate a copy of Tester helper class\n",
    "tester=Tester(\"../data/test.csv\")"
   ]
  },
  {
   "cell_type": "code",
   "execution_count": null,
   "id": "7d2cec02",
   "metadata": {},
   "outputs": [],
   "source": [
    "#obtain a copy of the test set\n",
    "df_test=tester.get_test_df()"
   ]
  },
  {
   "cell_type": "code",
   "execution_count": null,
   "id": "4cf64c83",
   "metadata": {},
   "outputs": [],
   "source": [
    "#reset the df\n",
    "X=X_copy.copy()\n",
    "\n",
    "#instantiate and train the model using the entire dataset\n",
    "lr=create_regressor(LinearRegression(),feature_names=features_to_keep)\n",
    "lr.fit(X,y)"
   ]
  },
  {
   "cell_type": "code",
   "execution_count": null,
   "id": "1f5b0963",
   "metadata": {},
   "outputs": [],
   "source": [
    "#make prediction\n",
    "ypred=lr.predict(df_test)"
   ]
  },
  {
   "cell_type": "code",
   "execution_count": null,
   "id": "69fd1f76",
   "metadata": {},
   "outputs": [],
   "source": [
    "tester.write_submission(ypred,\"../data/05_final.csv\")"
   ]
  }
 ],
 "metadata": {
  "kernelspec": {
   "display_name": "Python 3 (ipykernel)",
   "language": "python",
   "name": "python3"
  },
  "language_info": {
   "codemirror_mode": {
    "name": "ipython",
    "version": 3
   },
   "file_extension": ".py",
   "mimetype": "text/x-python",
   "name": "python",
   "nbconvert_exporter": "python",
   "pygments_lexer": "ipython3",
   "version": "3.9.12"
  }
 },
 "nbformat": 4,
 "nbformat_minor": 5
}
