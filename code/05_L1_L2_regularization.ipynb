{
 "cells": [
  {
   "cell_type": "code",
   "execution_count": 1,
   "id": "1a7bdf62",
   "metadata": {},
   "outputs": [],
   "source": [
    "%run utils.ipynb\n",
    "%run transformers.ipynb"
   ]
  },
  {
   "cell_type": "code",
   "execution_count": 2,
   "id": "1a2950f8",
   "metadata": {},
   "outputs": [],
   "source": [
    "warnings.filterwarnings('ignore')"
   ]
  },
  {
   "cell_type": "raw",
   "id": "edbd3efd",
   "metadata": {},
   "source": [
    "pd.set_option(\"display.max_rows\",None)\n",
    "pd.set_option(\"display.max_columns\",None)"
   ]
  },
  {
   "cell_type": "code",
   "execution_count": 3,
   "id": "20985e33",
   "metadata": {},
   "outputs": [],
   "source": [
    "df=pd.read_csv(\"../data/train.csv\")\n",
    "\n",
    "#drop some useless columns\n",
    "cols_to_drop=[\"Id\",\"PID\"]\n",
    "df=df.drop(columns=cols_to_drop)\n",
    "\n",
    "#drop outliers identified in part 1\n",
    "df=df[df['Gr Liv Area']<=4500]\n",
    "df=df[df['SalePrice']>np.expm1(10)]\n",
    "\n",
    "df_copy=df.copy()"
   ]
  },
  {
   "cell_type": "code",
   "execution_count": 4,
   "id": "8e51603b",
   "metadata": {},
   "outputs": [],
   "source": [
    "features_to_keep=['Gr Liv Area', 'Overall Qual', 'Year Built', 'Total Bsmt SF', 'Fireplace Qu',\n",
    " 'BsmtFin SF 1', 'Overall Cond', 'Garage Cars', 'Functional', 'Year Remod/Add', 'Exter Qual',\n",
    " 'Foundation_PConc', 'Garage Type_Attchd', 'Kitchen Qual', 'Garage Type_Detchd', 'Lot Frontage',\n",
    " 'Lot Area']"
   ]
  },
  {
   "cell_type": "code",
   "execution_count": 5,
   "id": "92c21619",
   "metadata": {},
   "outputs": [],
   "source": [
    "cols_to_impute_with_none=[\"Pool QC\",\"Misc Feature\",\"Alley\",\"Fence\",\"Fireplace Qu\",\n",
    "                          \"Garage Finish\",\"Garage Qual\",\"Garage Cond\",\"Garage Type\",\n",
    "                         \"Bsmt Exposure\",\"BsmtFin Type 2\",\"Bsmt Cond\",\"Bsmt Qual\",\"BsmtFin Type 1\",\n",
    "                         \"Mas Vnr Type\"]\n",
    "\n",
    "cols_to_impute_with_zero=[\"Garage Yr Blt\",\"Mas Vnr Area\",\"Bsmt Full Bath\",\"Bsmt Half Bath\",\"Garage Area\",\n",
    "                         \"Garage Cars\",\"Total Bsmt SF\",\"Bsmt Unf SF\",\"BsmtFin SF 2\",\"BsmtFin SF 1\"]\n",
    "\n",
    "cols_to_impute_with_mode=[\"Electrical\"]\n",
    "\n",
    "correlated_to_drop=[\"1st Flr SF\",\"Garage Yr Blt\",\"TotRms AbvGrd\",\"Garage Area\"]"
   ]
  },
  {
   "cell_type": "code",
   "execution_count": 6,
   "id": "cd424689",
   "metadata": {},
   "outputs": [],
   "source": [
    "#Create a regressor to dynamically creates a pipeline\n",
    "def create_regressor(model,**kwargs):\n",
    "    '''\n",
    "    model: estimator instance\n",
    "    return: TransformedTargetRegressor\n",
    "    '''\n",
    "    pipeline=Pipeline(steps=[\n",
    "        ('drop_correlated',DropCorrelated(correlated_to_drop)),\n",
    "        ('ms_subclass_convert',MSSubClassConvert()),\n",
    "        ('standard_impute',StandardImpute(none=cols_to_impute_with_none,\n",
    "                                          zero=cols_to_impute_with_zero,\n",
    "                                          mode=cols_to_impute_with_mode)),\n",
    "        ('lot_frotage_impute',LotFrontageImpute()),\n",
    "        ('ordinal_to_numerical',OrdinalToNumeric()),\n",
    "        ('onehotencode',OneHotEncode()),\n",
    "        ('align_train_and_predict',AlignTrainPredict(**kwargs)), #This is to align the train and predict DF in case they are different\n",
    "        ('passthrough',Passthrough()), #Passthrough step, does nothing. Only exists to allow external code to retrieve feature names.\n",
    "        ('robustscalar',RobustScaler()),\n",
    "        ('model',model)\n",
    "    ])\n",
    "    \n",
    "    return TransformedTargetRegressor(regressor=pipeline,\n",
    "                                    func=np.log1p,\n",
    "                                    inverse_func=np.expm1\n",
    "                                    )"
   ]
  },
  {
   "cell_type": "code",
   "execution_count": 7,
   "id": "8d4f3191",
   "metadata": {},
   "outputs": [],
   "source": [
    "#set up X and Y\n",
    "X=df.drop(columns=\"SalePrice\")\n",
    "y=df[\"SalePrice\"]\n",
    "\n",
    "#make a backup copy\n",
    "X_copy=X.copy()\n",
    "y_copy=y.copy()"
   ]
  },
  {
   "cell_type": "markdown",
   "id": "d6c42455",
   "metadata": {},
   "source": [
    "#### Without any regularization"
   ]
  },
  {
   "cell_type": "code",
   "execution_count": 8,
   "id": "ec778a7e",
   "metadata": {},
   "outputs": [
    {
     "data": {
      "text/plain": [
       "24207.397640972507"
      ]
     },
     "metadata": {},
     "output_type": "display_data"
    }
   ],
   "source": [
    "#create regressor and instruct to keep only numerical features\n",
    "reg=create_regressor(LinearRegression(),feature_names=features_to_keep)\n",
    "\n",
    "grid = GridSearchCV(reg,cv=5,param_grid={'regressor__model__fit_intercept':[True]},\n",
    "                    scoring='neg_root_mean_squared_error')\n",
    "grid.fit(X,y)\n",
    "\n",
    "display(-1*grid.best_score_)"
   ]
  },
  {
   "cell_type": "markdown",
   "id": "4c39b385",
   "metadata": {},
   "source": [
    "#### With L1 regularization"
   ]
  },
  {
   "cell_type": "code",
   "execution_count": 9,
   "id": "9d5c5d60",
   "metadata": {},
   "outputs": [
    {
     "data": {
      "text/plain": [
       "24207.397640972526"
      ]
     },
     "metadata": {},
     "output_type": "display_data"
    },
    {
     "data": {
      "text/plain": [
       "{'regressor__model__alpha': 0.0}"
      ]
     },
     "metadata": {},
     "output_type": "display_data"
    }
   ],
   "source": [
    "L1_alpha=np.linspace(0,1,10)\n",
    "\n",
    "#create regressor and instruct to keep only numerical features\n",
    "reg=create_regressor(Lasso(),feature_names=features_to_keep)\n",
    "\n",
    "grid = GridSearchCV(reg,param_grid={'regressor__model__alpha':L1_alpha},\n",
    "                   cv=5,\n",
    "                    scoring='neg_root_mean_squared_error')\n",
    "grid.fit(X,y)\n",
    "\n",
    "display(-1*grid.best_score_)\n",
    "display(grid.best_params_)"
   ]
  },
  {
   "cell_type": "markdown",
   "id": "a22a3720",
   "metadata": {},
   "source": [
    "Best L1 model is when $\\alpha = 0$"
   ]
  },
  {
   "cell_type": "markdown",
   "id": "2c1633f0",
   "metadata": {},
   "source": [
    "#### With L2 regularization"
   ]
  },
  {
   "cell_type": "code",
   "execution_count": 10,
   "id": "3b6a4f81",
   "metadata": {
    "scrolled": true
   },
   "outputs": [
    {
     "data": {
      "text/plain": [
       "24207.397640972526"
      ]
     },
     "metadata": {},
     "output_type": "display_data"
    },
    {
     "data": {
      "text/plain": [
       "{'regressor__model__alpha': 0.0}"
      ]
     },
     "metadata": {},
     "output_type": "display_data"
    }
   ],
   "source": [
    "L2_alpha=np.linspace(0,100,10)\n",
    "\n",
    "#create regressor and instruct to keep only numerical features\n",
    "reg=create_regressor(Lasso(),feature_names=features_to_keep)\n",
    "\n",
    "grid = GridSearchCV(reg,param_grid={'regressor__model__alpha':L2_alpha},\n",
    "                   cv=5,scoring='neg_root_mean_squared_error')\n",
    "grid.fit(X,y)\n",
    "\n",
    "display(-1*grid.best_score_)\n",
    "display(grid.best_params_)"
   ]
  },
  {
   "cell_type": "markdown",
   "id": "4fee57f7",
   "metadata": {},
   "source": [
    "#### With Elastic Net regularization"
   ]
  },
  {
   "cell_type": "code",
   "execution_count": 11,
   "id": "bbd48e5f",
   "metadata": {},
   "outputs": [
    {
     "data": {
      "text/plain": [
       "24207.397640972526"
      ]
     },
     "metadata": {},
     "output_type": "display_data"
    },
    {
     "data": {
      "text/plain": [
       "{'regressor__model__alpha': 0.0, 'regressor__model__l1_ratio': 0.0}"
      ]
     },
     "metadata": {},
     "output_type": "display_data"
    }
   ],
   "source": [
    "EN_alpha=np.linspace(0,1,10)\n",
    "EN_l1_ratio=np.linspace(0,1,10)\n",
    "\n",
    "#create regressor and instruct to keep only numerical features\n",
    "reg=create_regressor(ElasticNet(),feature_names=features_to_keep)\n",
    "\n",
    "grid = GridSearchCV(reg,param_grid={'regressor__model__alpha':EN_alpha,\n",
    "                                   'regressor__model__l1_ratio':EN_l1_ratio},\n",
    "                   cv=5,scoring='neg_root_mean_squared_error')\n",
    "grid.fit(X,y)\n",
    "\n",
    "display(-1*grid.best_score_)\n",
    "display(grid.best_params_)"
   ]
  },
  {
   "cell_type": "markdown",
   "id": "a0fd8138",
   "metadata": {},
   "source": [
    "It appears the best model is still the linear model where $\\alpha =0$"
   ]
  },
  {
   "cell_type": "markdown",
   "id": "c7303f5c",
   "metadata": {},
   "source": [
    "### Try a submission"
   ]
  },
  {
   "cell_type": "code",
   "execution_count": 12,
   "id": "6422eaa1",
   "metadata": {},
   "outputs": [],
   "source": [
    "#Instantiate a copy of Tester helper class\n",
    "tester=Tester(\"../data/test.csv\")"
   ]
  },
  {
   "cell_type": "code",
   "execution_count": 13,
   "id": "7d2cec02",
   "metadata": {},
   "outputs": [],
   "source": [
    "#obtain a copy of the test set\n",
    "df_test=tester.get_test_df()"
   ]
  },
  {
   "cell_type": "code",
   "execution_count": 14,
   "id": "4cf64c83",
   "metadata": {},
   "outputs": [
    {
     "data": {
      "text/html": [
       "<style>#sk-container-id-1 {color: black;background-color: white;}#sk-container-id-1 pre{padding: 0;}#sk-container-id-1 div.sk-toggleable {background-color: white;}#sk-container-id-1 label.sk-toggleable__label {cursor: pointer;display: block;width: 100%;margin-bottom: 0;padding: 0.3em;box-sizing: border-box;text-align: center;}#sk-container-id-1 label.sk-toggleable__label-arrow:before {content: \"▸\";float: left;margin-right: 0.25em;color: #696969;}#sk-container-id-1 label.sk-toggleable__label-arrow:hover:before {color: black;}#sk-container-id-1 div.sk-estimator:hover label.sk-toggleable__label-arrow:before {color: black;}#sk-container-id-1 div.sk-toggleable__content {max-height: 0;max-width: 0;overflow: hidden;text-align: left;background-color: #f0f8ff;}#sk-container-id-1 div.sk-toggleable__content pre {margin: 0.2em;color: black;border-radius: 0.25em;background-color: #f0f8ff;}#sk-container-id-1 input.sk-toggleable__control:checked~div.sk-toggleable__content {max-height: 200px;max-width: 100%;overflow: auto;}#sk-container-id-1 input.sk-toggleable__control:checked~label.sk-toggleable__label-arrow:before {content: \"▾\";}#sk-container-id-1 div.sk-estimator input.sk-toggleable__control:checked~label.sk-toggleable__label {background-color: #d4ebff;}#sk-container-id-1 div.sk-label input.sk-toggleable__control:checked~label.sk-toggleable__label {background-color: #d4ebff;}#sk-container-id-1 input.sk-hidden--visually {border: 0;clip: rect(1px 1px 1px 1px);clip: rect(1px, 1px, 1px, 1px);height: 1px;margin: -1px;overflow: hidden;padding: 0;position: absolute;width: 1px;}#sk-container-id-1 div.sk-estimator {font-family: monospace;background-color: #f0f8ff;border: 1px dotted black;border-radius: 0.25em;box-sizing: border-box;margin-bottom: 0.5em;}#sk-container-id-1 div.sk-estimator:hover {background-color: #d4ebff;}#sk-container-id-1 div.sk-parallel-item::after {content: \"\";width: 100%;border-bottom: 1px solid gray;flex-grow: 1;}#sk-container-id-1 div.sk-label:hover label.sk-toggleable__label {background-color: #d4ebff;}#sk-container-id-1 div.sk-serial::before {content: \"\";position: absolute;border-left: 1px solid gray;box-sizing: border-box;top: 0;bottom: 0;left: 50%;z-index: 0;}#sk-container-id-1 div.sk-serial {display: flex;flex-direction: column;align-items: center;background-color: white;padding-right: 0.2em;padding-left: 0.2em;position: relative;}#sk-container-id-1 div.sk-item {position: relative;z-index: 1;}#sk-container-id-1 div.sk-parallel {display: flex;align-items: stretch;justify-content: center;background-color: white;position: relative;}#sk-container-id-1 div.sk-item::before, #sk-container-id-1 div.sk-parallel-item::before {content: \"\";position: absolute;border-left: 1px solid gray;box-sizing: border-box;top: 0;bottom: 0;left: 50%;z-index: -1;}#sk-container-id-1 div.sk-parallel-item {display: flex;flex-direction: column;z-index: 1;position: relative;background-color: white;}#sk-container-id-1 div.sk-parallel-item:first-child::after {align-self: flex-end;width: 50%;}#sk-container-id-1 div.sk-parallel-item:last-child::after {align-self: flex-start;width: 50%;}#sk-container-id-1 div.sk-parallel-item:only-child::after {width: 0;}#sk-container-id-1 div.sk-dashed-wrapped {border: 1px dashed gray;margin: 0 0.4em 0.5em 0.4em;box-sizing: border-box;padding-bottom: 0.4em;background-color: white;}#sk-container-id-1 div.sk-label label {font-family: monospace;font-weight: bold;display: inline-block;line-height: 1.2em;}#sk-container-id-1 div.sk-label-container {text-align: center;}#sk-container-id-1 div.sk-container {/* jupyter's `normalize.less` sets `[hidden] { display: none; }` but bootstrap.min.css set `[hidden] { display: none !important; }` so we also need the `!important` here to be able to override the default hidden behavior on the sphinx rendered scikit-learn.org. See: https://github.com/scikit-learn/scikit-learn/issues/21755 */display: inline-block !important;position: relative;}#sk-container-id-1 div.sk-text-repr-fallback {display: none;}</style><div id=\"sk-container-id-1\" class=\"sk-top-container\"><div class=\"sk-text-repr-fallback\"><pre>TransformedTargetRegressor(func=&lt;ufunc &#x27;log1p&#x27;&gt;, inverse_func=&lt;ufunc &#x27;expm1&#x27;&gt;,\n",
       "                           regressor=Pipeline(steps=[(&#x27;drop_correlated&#x27;,\n",
       "                                                      DropCorrelated(drop=[&#x27;1st &#x27;\n",
       "                                                                           &#x27;Flr &#x27;\n",
       "                                                                           &#x27;SF&#x27;,\n",
       "                                                                           &#x27;Garage &#x27;\n",
       "                                                                           &#x27;Yr &#x27;\n",
       "                                                                           &#x27;Blt&#x27;,\n",
       "                                                                           &#x27;TotRms &#x27;\n",
       "                                                                           &#x27;AbvGrd&#x27;,\n",
       "                                                                           &#x27;Garage &#x27;\n",
       "                                                                           &#x27;Area&#x27;])),\n",
       "                                                     (&#x27;ms_subclass_convert&#x27;,\n",
       "                                                      MSSubClassConvert()),\n",
       "                                                     (&#x27;standard_impute&#x27;,\n",
       "                                                      StandardImpute(mode=[&#x27;Electrical&#x27;],\n",
       "                                                                     none=[&#x27;Pool &#x27;\n",
       "                                                                           &#x27;QC&#x27;,\n",
       "                                                                           &#x27;Misc &#x27;\n",
       "                                                                           &#x27;Feature&#x27;,\n",
       "                                                                           &#x27;Alley&#x27;,\n",
       "                                                                           &#x27;F...\n",
       "                                                                                       &#x27;Qual&#x27;,\n",
       "                                                                                       &#x27;Year &#x27;\n",
       "                                                                                       &#x27;Built&#x27;,\n",
       "                                                                                       &#x27;Total &#x27;\n",
       "                                                                                       &#x27;Bsmt &#x27;\n",
       "                                                                                       &#x27;SF&#x27;,\n",
       "                                                                                       &#x27;Fireplace &#x27;\n",
       "                                                                                       &#x27;Qu&#x27;,\n",
       "                                                                                       &#x27;BsmtFin &#x27;\n",
       "                                                                                       &#x27;SF &#x27;\n",
       "                                                                                       &#x27;1&#x27;,\n",
       "                                                                                       &#x27;Overall &#x27;\n",
       "                                                                                       &#x27;Cond&#x27;,\n",
       "                                                                                       &#x27;Garage &#x27;\n",
       "                                                                                       &#x27;Cars&#x27;,\n",
       "                                                                                       &#x27;Functional&#x27;,\n",
       "                                                                                       &#x27;Year &#x27;\n",
       "                                                                                       &#x27;Remod/Add&#x27;,\n",
       "                                                                                       &#x27;Exter &#x27;\n",
       "                                                                                       &#x27;Qual&#x27;,\n",
       "                                                                                       &#x27;Foundation_PConc&#x27;,\n",
       "                                                                                       &#x27;Garage &#x27;\n",
       "                                                                                       &#x27;Type_Attchd&#x27;,\n",
       "                                                                                       &#x27;Kitchen &#x27;\n",
       "                                                                                       &#x27;Qual&#x27;,\n",
       "                                                                                       &#x27;Garage &#x27;\n",
       "                                                                                       &#x27;Type_Detchd&#x27;,\n",
       "                                                                                       &#x27;Lot &#x27;\n",
       "                                                                                       &#x27;Frontage&#x27;,\n",
       "                                                                                       &#x27;Lot &#x27;\n",
       "                                                                                       &#x27;Area&#x27;])),\n",
       "                                                     (&#x27;passthrough&#x27;,\n",
       "                                                      Passthrough()),\n",
       "                                                     (&#x27;robustscalar&#x27;,\n",
       "                                                      RobustScaler()),\n",
       "                                                     (&#x27;model&#x27;,\n",
       "                                                      LinearRegression())]))</pre><b>In a Jupyter environment, please rerun this cell to show the HTML representation or trust the notebook. <br />On GitHub, the HTML representation is unable to render, please try loading this page with nbviewer.org.</b></div><div class=\"sk-container\" hidden><div class=\"sk-item sk-dashed-wrapped\"><div class=\"sk-label-container\"><div class=\"sk-label sk-toggleable\"><input class=\"sk-toggleable__control sk-hidden--visually\" id=\"sk-estimator-id-1\" type=\"checkbox\" ><label for=\"sk-estimator-id-1\" class=\"sk-toggleable__label sk-toggleable__label-arrow\">TransformedTargetRegressor</label><div class=\"sk-toggleable__content\"><pre>TransformedTargetRegressor(func=&lt;ufunc &#x27;log1p&#x27;&gt;, inverse_func=&lt;ufunc &#x27;expm1&#x27;&gt;,\n",
       "                           regressor=Pipeline(steps=[(&#x27;drop_correlated&#x27;,\n",
       "                                                      DropCorrelated(drop=[&#x27;1st &#x27;\n",
       "                                                                           &#x27;Flr &#x27;\n",
       "                                                                           &#x27;SF&#x27;,\n",
       "                                                                           &#x27;Garage &#x27;\n",
       "                                                                           &#x27;Yr &#x27;\n",
       "                                                                           &#x27;Blt&#x27;,\n",
       "                                                                           &#x27;TotRms &#x27;\n",
       "                                                                           &#x27;AbvGrd&#x27;,\n",
       "                                                                           &#x27;Garage &#x27;\n",
       "                                                                           &#x27;Area&#x27;])),\n",
       "                                                     (&#x27;ms_subclass_convert&#x27;,\n",
       "                                                      MSSubClassConvert()),\n",
       "                                                     (&#x27;standard_impute&#x27;,\n",
       "                                                      StandardImpute(mode=[&#x27;Electrical&#x27;],\n",
       "                                                                     none=[&#x27;Pool &#x27;\n",
       "                                                                           &#x27;QC&#x27;,\n",
       "                                                                           &#x27;Misc &#x27;\n",
       "                                                                           &#x27;Feature&#x27;,\n",
       "                                                                           &#x27;Alley&#x27;,\n",
       "                                                                           &#x27;F...\n",
       "                                                                                       &#x27;Qual&#x27;,\n",
       "                                                                                       &#x27;Year &#x27;\n",
       "                                                                                       &#x27;Built&#x27;,\n",
       "                                                                                       &#x27;Total &#x27;\n",
       "                                                                                       &#x27;Bsmt &#x27;\n",
       "                                                                                       &#x27;SF&#x27;,\n",
       "                                                                                       &#x27;Fireplace &#x27;\n",
       "                                                                                       &#x27;Qu&#x27;,\n",
       "                                                                                       &#x27;BsmtFin &#x27;\n",
       "                                                                                       &#x27;SF &#x27;\n",
       "                                                                                       &#x27;1&#x27;,\n",
       "                                                                                       &#x27;Overall &#x27;\n",
       "                                                                                       &#x27;Cond&#x27;,\n",
       "                                                                                       &#x27;Garage &#x27;\n",
       "                                                                                       &#x27;Cars&#x27;,\n",
       "                                                                                       &#x27;Functional&#x27;,\n",
       "                                                                                       &#x27;Year &#x27;\n",
       "                                                                                       &#x27;Remod/Add&#x27;,\n",
       "                                                                                       &#x27;Exter &#x27;\n",
       "                                                                                       &#x27;Qual&#x27;,\n",
       "                                                                                       &#x27;Foundation_PConc&#x27;,\n",
       "                                                                                       &#x27;Garage &#x27;\n",
       "                                                                                       &#x27;Type_Attchd&#x27;,\n",
       "                                                                                       &#x27;Kitchen &#x27;\n",
       "                                                                                       &#x27;Qual&#x27;,\n",
       "                                                                                       &#x27;Garage &#x27;\n",
       "                                                                                       &#x27;Type_Detchd&#x27;,\n",
       "                                                                                       &#x27;Lot &#x27;\n",
       "                                                                                       &#x27;Frontage&#x27;,\n",
       "                                                                                       &#x27;Lot &#x27;\n",
       "                                                                                       &#x27;Area&#x27;])),\n",
       "                                                     (&#x27;passthrough&#x27;,\n",
       "                                                      Passthrough()),\n",
       "                                                     (&#x27;robustscalar&#x27;,\n",
       "                                                      RobustScaler()),\n",
       "                                                     (&#x27;model&#x27;,\n",
       "                                                      LinearRegression())]))</pre></div></div></div><div class=\"sk-parallel\"><div class=\"sk-parallel-item\"><div class=\"sk-item\"><div class=\"sk-label-container\"><div class=\"sk-label sk-toggleable\"><input class=\"sk-toggleable__control sk-hidden--visually\" id=\"sk-estimator-id-2\" type=\"checkbox\" ><label for=\"sk-estimator-id-2\" class=\"sk-toggleable__label sk-toggleable__label-arrow\">regressor: Pipeline</label><div class=\"sk-toggleable__content\"><pre>Pipeline(steps=[(&#x27;drop_correlated&#x27;,\n",
       "                 DropCorrelated(drop=[&#x27;1st Flr SF&#x27;, &#x27;Garage Yr Blt&#x27;,\n",
       "                                      &#x27;TotRms AbvGrd&#x27;, &#x27;Garage Area&#x27;])),\n",
       "                (&#x27;ms_subclass_convert&#x27;, MSSubClassConvert()),\n",
       "                (&#x27;standard_impute&#x27;,\n",
       "                 StandardImpute(mode=[&#x27;Electrical&#x27;],\n",
       "                                none=[&#x27;Pool QC&#x27;, &#x27;Misc Feature&#x27;, &#x27;Alley&#x27;,\n",
       "                                      &#x27;Fence&#x27;, &#x27;Fireplace Qu&#x27;, &#x27;Garage Finish&#x27;,\n",
       "                                      &#x27;Garage Qual&#x27;, &#x27;Garage Cond&#x27;,\n",
       "                                      &#x27;Garage Type&#x27;, &#x27;Bsmt Exposure&#x27;,\n",
       "                                      &#x27;BsmtFin Type...\n",
       "                 AlignTrainPredict(feature_names=[&#x27;Gr Liv Area&#x27;, &#x27;Overall Qual&#x27;,\n",
       "                                                  &#x27;Year Built&#x27;, &#x27;Total Bsmt SF&#x27;,\n",
       "                                                  &#x27;Fireplace Qu&#x27;,\n",
       "                                                  &#x27;BsmtFin SF 1&#x27;,\n",
       "                                                  &#x27;Overall Cond&#x27;, &#x27;Garage Cars&#x27;,\n",
       "                                                  &#x27;Functional&#x27;,\n",
       "                                                  &#x27;Year Remod/Add&#x27;,\n",
       "                                                  &#x27;Exter Qual&#x27;,\n",
       "                                                  &#x27;Foundation_PConc&#x27;,\n",
       "                                                  &#x27;Garage Type_Attchd&#x27;,\n",
       "                                                  &#x27;Kitchen Qual&#x27;,\n",
       "                                                  &#x27;Garage Type_Detchd&#x27;,\n",
       "                                                  &#x27;Lot Frontage&#x27;,\n",
       "                                                  &#x27;Lot Area&#x27;])),\n",
       "                (&#x27;passthrough&#x27;, Passthrough()),\n",
       "                (&#x27;robustscalar&#x27;, RobustScaler()),\n",
       "                (&#x27;model&#x27;, LinearRegression())])</pre></div></div></div><div class=\"sk-serial\"><div class=\"sk-item\"><div class=\"sk-serial\"><div class=\"sk-item\"><div class=\"sk-estimator sk-toggleable\"><input class=\"sk-toggleable__control sk-hidden--visually\" id=\"sk-estimator-id-3\" type=\"checkbox\" ><label for=\"sk-estimator-id-3\" class=\"sk-toggleable__label sk-toggleable__label-arrow\">DropCorrelated</label><div class=\"sk-toggleable__content\"><pre>DropCorrelated(drop=[&#x27;1st Flr SF&#x27;, &#x27;Garage Yr Blt&#x27;, &#x27;TotRms AbvGrd&#x27;,\n",
       "                     &#x27;Garage Area&#x27;])</pre></div></div></div><div class=\"sk-item\"><div class=\"sk-estimator sk-toggleable\"><input class=\"sk-toggleable__control sk-hidden--visually\" id=\"sk-estimator-id-4\" type=\"checkbox\" ><label for=\"sk-estimator-id-4\" class=\"sk-toggleable__label sk-toggleable__label-arrow\">MSSubClassConvert</label><div class=\"sk-toggleable__content\"><pre>MSSubClassConvert()</pre></div></div></div><div class=\"sk-item\"><div class=\"sk-estimator sk-toggleable\"><input class=\"sk-toggleable__control sk-hidden--visually\" id=\"sk-estimator-id-5\" type=\"checkbox\" ><label for=\"sk-estimator-id-5\" class=\"sk-toggleable__label sk-toggleable__label-arrow\">StandardImpute</label><div class=\"sk-toggleable__content\"><pre>StandardImpute(mode=[&#x27;Electrical&#x27;],\n",
       "               none=[&#x27;Pool QC&#x27;, &#x27;Misc Feature&#x27;, &#x27;Alley&#x27;, &#x27;Fence&#x27;,\n",
       "                     &#x27;Fireplace Qu&#x27;, &#x27;Garage Finish&#x27;, &#x27;Garage Qual&#x27;,\n",
       "                     &#x27;Garage Cond&#x27;, &#x27;Garage Type&#x27;, &#x27;Bsmt Exposure&#x27;,\n",
       "                     &#x27;BsmtFin Type 2&#x27;, &#x27;Bsmt Cond&#x27;, &#x27;Bsmt Qual&#x27;,\n",
       "                     &#x27;BsmtFin Type 1&#x27;, &#x27;Mas Vnr Type&#x27;],\n",
       "               zero=[&#x27;Garage Yr Blt&#x27;, &#x27;Mas Vnr Area&#x27;, &#x27;Bsmt Full Bath&#x27;,\n",
       "                     &#x27;Bsmt Half Bath&#x27;, &#x27;Garage Area&#x27;, &#x27;Garage Cars&#x27;,\n",
       "                     &#x27;Total Bsmt SF&#x27;, &#x27;Bsmt Unf SF&#x27;, &#x27;BsmtFin SF 2&#x27;,\n",
       "                     &#x27;BsmtFin SF 1&#x27;])</pre></div></div></div><div class=\"sk-item\"><div class=\"sk-estimator sk-toggleable\"><input class=\"sk-toggleable__control sk-hidden--visually\" id=\"sk-estimator-id-6\" type=\"checkbox\" ><label for=\"sk-estimator-id-6\" class=\"sk-toggleable__label sk-toggleable__label-arrow\">LotFrontageImpute</label><div class=\"sk-toggleable__content\"><pre>LotFrontageImpute()</pre></div></div></div><div class=\"sk-item\"><div class=\"sk-estimator sk-toggleable\"><input class=\"sk-toggleable__control sk-hidden--visually\" id=\"sk-estimator-id-7\" type=\"checkbox\" ><label for=\"sk-estimator-id-7\" class=\"sk-toggleable__label sk-toggleable__label-arrow\">OrdinalToNumeric</label><div class=\"sk-toggleable__content\"><pre>OrdinalToNumeric()</pre></div></div></div><div class=\"sk-item\"><div class=\"sk-estimator sk-toggleable\"><input class=\"sk-toggleable__control sk-hidden--visually\" id=\"sk-estimator-id-8\" type=\"checkbox\" ><label for=\"sk-estimator-id-8\" class=\"sk-toggleable__label sk-toggleable__label-arrow\">OneHotEncode</label><div class=\"sk-toggleable__content\"><pre>OneHotEncode()</pre></div></div></div><div class=\"sk-item\"><div class=\"sk-estimator sk-toggleable\"><input class=\"sk-toggleable__control sk-hidden--visually\" id=\"sk-estimator-id-9\" type=\"checkbox\" ><label for=\"sk-estimator-id-9\" class=\"sk-toggleable__label sk-toggleable__label-arrow\">AlignTrainPredict</label><div class=\"sk-toggleable__content\"><pre>AlignTrainPredict(feature_names=[&#x27;Gr Liv Area&#x27;, &#x27;Overall Qual&#x27;, &#x27;Year Built&#x27;,\n",
       "                                 &#x27;Total Bsmt SF&#x27;, &#x27;Fireplace Qu&#x27;,\n",
       "                                 &#x27;BsmtFin SF 1&#x27;, &#x27;Overall Cond&#x27;, &#x27;Garage Cars&#x27;,\n",
       "                                 &#x27;Functional&#x27;, &#x27;Year Remod/Add&#x27;, &#x27;Exter Qual&#x27;,\n",
       "                                 &#x27;Foundation_PConc&#x27;, &#x27;Garage Type_Attchd&#x27;,\n",
       "                                 &#x27;Kitchen Qual&#x27;, &#x27;Garage Type_Detchd&#x27;,\n",
       "                                 &#x27;Lot Frontage&#x27;, &#x27;Lot Area&#x27;])</pre></div></div></div><div class=\"sk-item\"><div class=\"sk-estimator sk-toggleable\"><input class=\"sk-toggleable__control sk-hidden--visually\" id=\"sk-estimator-id-10\" type=\"checkbox\" ><label for=\"sk-estimator-id-10\" class=\"sk-toggleable__label sk-toggleable__label-arrow\">Passthrough</label><div class=\"sk-toggleable__content\"><pre>Passthrough()</pre></div></div></div><div class=\"sk-item\"><div class=\"sk-estimator sk-toggleable\"><input class=\"sk-toggleable__control sk-hidden--visually\" id=\"sk-estimator-id-11\" type=\"checkbox\" ><label for=\"sk-estimator-id-11\" class=\"sk-toggleable__label sk-toggleable__label-arrow\">RobustScaler</label><div class=\"sk-toggleable__content\"><pre>RobustScaler()</pre></div></div></div><div class=\"sk-item\"><div class=\"sk-estimator sk-toggleable\"><input class=\"sk-toggleable__control sk-hidden--visually\" id=\"sk-estimator-id-12\" type=\"checkbox\" ><label for=\"sk-estimator-id-12\" class=\"sk-toggleable__label sk-toggleable__label-arrow\">LinearRegression</label><div class=\"sk-toggleable__content\"><pre>LinearRegression()</pre></div></div></div></div></div></div></div></div></div></div></div></div>"
      ],
      "text/plain": [
       "TransformedTargetRegressor(func=<ufunc 'log1p'>, inverse_func=<ufunc 'expm1'>,\n",
       "                           regressor=Pipeline(steps=[('drop_correlated',\n",
       "                                                      DropCorrelated(drop=['1st '\n",
       "                                                                           'Flr '\n",
       "                                                                           'SF',\n",
       "                                                                           'Garage '\n",
       "                                                                           'Yr '\n",
       "                                                                           'Blt',\n",
       "                                                                           'TotRms '\n",
       "                                                                           'AbvGrd',\n",
       "                                                                           'Garage '\n",
       "                                                                           'Area'])),\n",
       "                                                     ('ms_subclass_convert',\n",
       "                                                      MSSubClassConvert()),\n",
       "                                                     ('standard_impute',\n",
       "                                                      StandardImpute(mode=['Electrical'],\n",
       "                                                                     none=['Pool '\n",
       "                                                                           'QC',\n",
       "                                                                           'Misc '\n",
       "                                                                           'Feature',\n",
       "                                                                           'Alley',\n",
       "                                                                           'F...\n",
       "                                                                                       'Qual',\n",
       "                                                                                       'Year '\n",
       "                                                                                       'Built',\n",
       "                                                                                       'Total '\n",
       "                                                                                       'Bsmt '\n",
       "                                                                                       'SF',\n",
       "                                                                                       'Fireplace '\n",
       "                                                                                       'Qu',\n",
       "                                                                                       'BsmtFin '\n",
       "                                                                                       'SF '\n",
       "                                                                                       '1',\n",
       "                                                                                       'Overall '\n",
       "                                                                                       'Cond',\n",
       "                                                                                       'Garage '\n",
       "                                                                                       'Cars',\n",
       "                                                                                       'Functional',\n",
       "                                                                                       'Year '\n",
       "                                                                                       'Remod/Add',\n",
       "                                                                                       'Exter '\n",
       "                                                                                       'Qual',\n",
       "                                                                                       'Foundation_PConc',\n",
       "                                                                                       'Garage '\n",
       "                                                                                       'Type_Attchd',\n",
       "                                                                                       'Kitchen '\n",
       "                                                                                       'Qual',\n",
       "                                                                                       'Garage '\n",
       "                                                                                       'Type_Detchd',\n",
       "                                                                                       'Lot '\n",
       "                                                                                       'Frontage',\n",
       "                                                                                       'Lot '\n",
       "                                                                                       'Area'])),\n",
       "                                                     ('passthrough',\n",
       "                                                      Passthrough()),\n",
       "                                                     ('robustscalar',\n",
       "                                                      RobustScaler()),\n",
       "                                                     ('model',\n",
       "                                                      LinearRegression())]))"
      ]
     },
     "execution_count": 14,
     "metadata": {},
     "output_type": "execute_result"
    }
   ],
   "source": [
    "#reset the df\n",
    "X=X_copy.copy()\n",
    "\n",
    "#instantiate and train the model using the entire dataset\n",
    "lr=create_regressor(LinearRegression(),feature_names=features_to_keep)\n",
    "lr.fit(X,y)"
   ]
  },
  {
   "cell_type": "code",
   "execution_count": 15,
   "id": "1f5b0963",
   "metadata": {},
   "outputs": [],
   "source": [
    "#make prediction\n",
    "ypred=lr.predict(df_test)"
   ]
  },
  {
   "cell_type": "code",
   "execution_count": 16,
   "id": "69fd1f76",
   "metadata": {
    "scrolled": true
   },
   "outputs": [
    {
     "name": "stdout",
     "output_type": "stream",
     "text": [
      "Output saved to ../data/05_final.csv\n"
     ]
    }
   ],
   "source": [
    "tester.write_submission(ypred,\"../data/05_final.csv\")"
   ]
  },
  {
   "cell_type": "markdown",
   "id": "efa3b6e8",
   "metadata": {},
   "source": [
    "**Results**  \n",
    "Score:25366  \n",
    "Private score: 23227"
   ]
  }
 ],
 "metadata": {
  "kernelspec": {
   "display_name": "Python 3 (ipykernel)",
   "language": "python",
   "name": "python3"
  },
  "language_info": {
   "codemirror_mode": {
    "name": "ipython",
    "version": 3
   },
   "file_extension": ".py",
   "mimetype": "text/x-python",
   "name": "python",
   "nbconvert_exporter": "python",
   "pygments_lexer": "ipython3",
   "version": "3.9.12"
  }
 },
 "nbformat": 4,
 "nbformat_minor": 5
}
