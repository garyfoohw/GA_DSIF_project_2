{
 "cells": [
  {
   "cell_type": "code",
   "execution_count": 1,
   "id": "1a7bdf62",
   "metadata": {},
   "outputs": [],
   "source": [
    "%run utils.ipynb"
   ]
  },
  {
   "cell_type": "code",
   "execution_count": 2,
   "id": "1a2950f8",
   "metadata": {},
   "outputs": [],
   "source": [
    "warnings.filterwarnings('ignore')"
   ]
  },
  {
   "cell_type": "code",
   "execution_count": 3,
   "id": "1376d951",
   "metadata": {},
   "outputs": [],
   "source": [
    "pd.set_option(\"display.max_rows\",None)\n",
    "pd.set_option(\"display.max_columns\",None)"
   ]
  },
  {
   "cell_type": "code",
   "execution_count": 4,
   "id": "20985e33",
   "metadata": {},
   "outputs": [],
   "source": [
    "df=pd.read_csv(\"../data/train.csv\")\n",
    "\n",
    "#drop some useless columns\n",
    "cols_to_drop=[\"Id\",\"PID\"]\n",
    "df=df.drop(columns=cols_to_drop)\n",
    "\n",
    "#drop outliers identified in part 1\n",
    "df=df[df['Gr Liv Area']<=4500]\n",
    "df=df[df['SalePrice']>np.expm1(10)]\n",
    "\n",
    "df_copy=df.copy()"
   ]
  },
  {
   "cell_type": "raw",
   "id": "8a05b40e",
   "metadata": {},
   "source": [
    "#get a full list of one-hot-encoded feature names, as this will become misaligned once KFold splits up the training set.\n",
    "full_ohe_list=list(pd.get_dummies(df.select_dtypes(exclude='number'),drop_first=True).columns)"
   ]
  },
  {
   "cell_type": "code",
   "execution_count": 5,
   "id": "14207264",
   "metadata": {},
   "outputs": [
    {
     "data": {
      "image/png": "[encoded data removed]",
      "text/plain": [
       "<Figure size 72x720 with 2 Axes>"
      ]
     },
     "metadata": {
      "needs_background": "light"
     },
     "output_type": "display_data"
    }
   ],
   "source": [
    "#change SalePrice to log_SalePrice\n",
    "df=log_and_return(df_copy.copy(),\"SalePrice\",drop=True)\n",
    "\n",
    "#one hot encode only categorical features\n",
    "df_new=onehot_encode_categorical_features(df,return_number=False,label=\"log_SalePrice\")\n",
    "\n",
    "# display(df_new.dtypes)\n",
    "#look at correlation to log_saleprice\n",
    "categorical_features_to_keep=single_correlation_map(df_new,\"log_SalePrice\",corr_threshold=0.4)"
   ]
  },
  {
   "cell_type": "markdown",
   "id": "1b1546f1",
   "metadata": {},
   "source": [
    "Okay, so we'll add these few features to our list of features from part 3."
   ]
  },
  {
   "cell_type": "code",
   "execution_count": 6,
   "id": "8e51603b",
   "metadata": {},
   "outputs": [],
   "source": [
    "features_to_keep=['Bsmt Unf SF', 'Total Bsmt SF', 'BsmtFin SF 1', 'BsmtFin SF 2', 'Gr Liv Area',\n",
    " 'Overall Qual', 'Year Built', 'Overall Cond', 'Functional', 'Garage Cars', 'Lot Area', 'Lot Frontage',\n",
    " 'Year Remod/Add', 'Exter Qual', 'Fireplace Qu', 'Kitchen Qual', *categorical_features_to_keep]"
   ]
  },
  {
   "cell_type": "code",
   "execution_count": 7,
   "id": "92c21619",
   "metadata": {},
   "outputs": [],
   "source": [
    "cols_to_impute_with_none=[\"Pool QC\",\"Misc Feature\",\"Alley\",\"Fence\",\"Fireplace Qu\",\n",
    "                          \"Garage Finish\",\"Garage Qual\",\"Garage Cond\",\"Garage Type\",\n",
    "                         \"Bsmt Exposure\",\"BsmtFin Type 2\",\"Bsmt Cond\",\"Bsmt Qual\",\"BsmtFin Type 1\",\n",
    "                         \"Mas Vnr Type\"]\n",
    "\n",
    "cols_to_impute_with_zero=[\"Garage Yr Blt\",\"Mas Vnr Area\",\"Bsmt Full Bath\",\"Bsmt Half Bath\",\"Garage Area\",\n",
    "                         \"Garage Cars\",\"Total Bsmt SF\",\"Bsmt Unf SF\",\"BsmtFin SF 2\",\"BsmtFin SF 1\"]\n",
    "\n",
    "cols_to_impute_with_mode=[\"Electrical\"]"
   ]
  },
  {
   "cell_type": "code",
   "execution_count": 8,
   "id": "e7c24518",
   "metadata": {},
   "outputs": [],
   "source": [
    "correlated_to_drop=[\"1st Flr SF\",\"Garage Yr Blt\",\"TotRms AbvGrd\",\"Garage Area\"]"
   ]
  },
  {
   "cell_type": "code",
   "execution_count": 9,
   "id": "cd424689",
   "metadata": {},
   "outputs": [],
   "source": [
    "#Create a regressor to dynamically creates a pipeline\n",
    "def create_regressor(model,**kwargs):\n",
    "    '''\n",
    "    model: estimator instance\n",
    "    return: TransformedTargetRegressor\n",
    "    '''\n",
    "    pipeline=Pipeline(steps=[\n",
    "        ('drop_correlated',DropCorrelated(correlated_to_drop)),\n",
    "        ('ms_subclass_convert',MSSubClassConvert()),\n",
    "        ('standard_impute',StandardImpute(none=cols_to_impute_with_none,\n",
    "                                          zero=cols_to_impute_with_zero,\n",
    "                                          mode=cols_to_impute_with_mode)),\n",
    "        ('lot_frotage_impute',LotFrontageImpute()),\n",
    "        ('ordinal_to_numerical',OrdinalToNumeric()),\n",
    "        ('onehotencode',OneHotEncode()),\n",
    "#         ('feature_selector',FeatureSelector(**kwargs)),\n",
    "        ('align_train_and_predict',AlignTrainPredict(**kwargs)), #This is to align the train and predict DF in case they are different\n",
    "        ('passthrough',Passthrough()), #Passthrough step, does nothing. Only exists to allow external code to retrieve feature names.\n",
    "        ('robustscalar',RobustScaler()),\n",
    "        ('model',model)\n",
    "    ])\n",
    "    \n",
    "    return TransformedTargetRegressor(regressor=pipeline,\n",
    "                                    func=np.log1p,\n",
    "                                    inverse_func=np.expm1\n",
    "                                    )"
   ]
  },
  {
   "cell_type": "code",
   "execution_count": 10,
   "id": "8d4f3191",
   "metadata": {},
   "outputs": [],
   "source": [
    "df=df_copy.copy()\n",
    "\n",
    "#set up X and Y\n",
    "X=df.drop(columns=\"SalePrice\")\n",
    "y=df[\"SalePrice\"]\n",
    "\n",
    "#make a backup copy\n",
    "X_copy=X.copy()\n",
    "y_copy=y.copy()"
   ]
  },
  {
   "cell_type": "code",
   "execution_count": 11,
   "id": "e2a65f8d",
   "metadata": {},
   "outputs": [
    {
     "data": {
      "application/vnd.jupyter.widget-view+json": {
       "model_id": "5937a828f26d4d9abcc460c74f708c99",
       "version_major": 2,
       "version_minor": 0
      },
      "text/plain": [
       "0it [00:00, ?it/s]"
      ]
     },
     "metadata": {},
     "output_type": "display_data"
    }
   ],
   "source": [
    "RMSE=[]\n",
    "coefficients=[]\n",
    "feature_names=None\n",
    "\n",
    "#create regressor and instruct to keep only numerical features\n",
    "lr=create_regressor(LinearRegression(),feature_names=features_to_keep)\n",
    "\n",
    "#run 10 K Folds and store the coefficients and RMSE to a list.\n",
    "kf=KFold(n_splits=5,random_state=30,shuffle=True)\n",
    "for train_index, test_index in tqdm(kf.split(X_copy.copy())):\n",
    "    X_train, X_test = X.iloc[train_index], X.iloc[test_index]\n",
    "    y_train, y_test = y.iloc[train_index], y.iloc[test_index]\n",
    "    \n",
    "    lr.fit(X_train,y_train)\n",
    "    ypred=lr.predict(X_test)\n",
    "    RMSE.append(mean_squared_error(y_test,ypred,squared=False))\n",
    "    coefficients.append(lr.regressor_['model'].coef_)\n",
    "    feature_names=list(lr.regressor_['passthrough'].get_feature_names())"
   ]
  },
  {
   "cell_type": "code",
   "execution_count": 12,
   "id": "24277147",
   "metadata": {
    "scrolled": false
   },
   "outputs": [
    {
     "data": {
      "text/plain": [
       "22657.117510963883"
      ]
     },
     "execution_count": 12,
     "metadata": {},
     "output_type": "execute_result"
    }
   ],
   "source": [
    "np.mean(RMSE)"
   ]
  },
  {
   "cell_type": "code",
   "execution_count": 13,
   "id": "0908fcc9",
   "metadata": {},
   "outputs": [
    {
     "data": {
      "text/plain": [
       "['Bsmt Unf SF',\n",
       " 'Total Bsmt SF',\n",
       " 'BsmtFin SF 1',\n",
       " 'BsmtFin SF 2',\n",
       " 'Gr Liv Area',\n",
       " 'Overall Qual',\n",
       " 'Year Built',\n",
       " 'Overall Cond',\n",
       " 'Functional',\n",
       " 'Garage Cars',\n",
       " 'Lot Area',\n",
       " 'Lot Frontage',\n",
       " 'Year Remod/Add',\n",
       " 'Exter Qual',\n",
       " 'Fireplace Qu',\n",
       " 'Kitchen Qual',\n",
       " 'Foundation_PConc',\n",
       " 'Exter Qual_Gd',\n",
       " 'BsmtFin Type 1_GLQ',\n",
       " 'Garage Type_Attchd',\n",
       " 'Garage Type_Detchd',\n",
       " 'Mas Vnr Type_None',\n",
       " 'Garage Finish_Unf',\n",
       " 'Bsmt Qual_TA',\n",
       " 'Kitchen Qual_TA',\n",
       " 'Exter Qual_TA']"
      ]
     },
     "execution_count": 13,
     "metadata": {},
     "output_type": "execute_result"
    }
   ],
   "source": [
    "feature_names"
   ]
  },
  {
   "cell_type": "markdown",
   "id": "c1e6a1e5",
   "metadata": {},
   "source": [
    "Looks reasonable. Let's look at the coefficients once more."
   ]
  },
  {
   "cell_type": "code",
   "execution_count": 14,
   "id": "c70408d7",
   "metadata": {},
   "outputs": [],
   "source": [
    "#sort the coefficients from the regressor\n",
    "dfcoeff=np.abs(pd.DataFrame(coefficients,columns=feature_names).mean()).sort_values(ascending=False)"
   ]
  },
  {
   "cell_type": "code",
   "execution_count": 15,
   "id": "97143c9f",
   "metadata": {},
   "outputs": [
    {
     "data": {
      "text/plain": [
       "Gr Liv Area           1.551539e-01\n",
       "Overall Qual          1.285110e-01\n",
       "Year Built            1.270616e-01\n",
       "Total Bsmt SF         7.128060e-02\n",
       "Fireplace Qu          6.935099e-02\n",
       "BsmtFin SF 1          6.364296e-02\n",
       "Overall Cond          4.807237e-02\n",
       "Garage Cars           3.688087e-02\n",
       "Functional            3.359052e-02\n",
       "Year Remod/Add        3.286243e-02\n",
       "Exter Qual            3.220487e-02\n",
       "Foundation_PConc      3.126500e-02\n",
       "Garage Type_Attchd    2.982593e-02\n",
       "Kitchen Qual          2.922271e-02\n",
       "Garage Type_Detchd    2.530864e-02\n",
       "Lot Frontage          2.046379e-02\n",
       "Lot Area              1.792209e-02\n",
       "Bsmt Unf SF           1.533706e-02\n",
       "Mas Vnr Type_None     5.473898e-03\n",
       "BsmtFin SF 2          4.613639e-05\n",
       "Exter Qual_Gd         1.387779e-18\n",
       "BsmtFin Type 1_GLQ    5.204170e-19\n",
       "Garage Finish_Unf     0.000000e+00\n",
       "Bsmt Qual_TA          0.000000e+00\n",
       "Kitchen Qual_TA       0.000000e+00\n",
       "Exter Qual_TA         0.000000e+00\n",
       "dtype: float64"
      ]
     },
     "execution_count": 15,
     "metadata": {},
     "output_type": "execute_result"
    }
   ],
   "source": [
    "dfcoeff"
   ]
  },
  {
   "cell_type": "code",
   "execution_count": null,
   "id": "8e369962",
   "metadata": {},
   "outputs": [
    {
     "data": {
      "application/vnd.jupyter.widget-view+json": {
       "model_id": "ca6f4dd63fe34a2ea87443812d8f2c2f",
       "version_major": 2,
       "version_minor": 0
      },
      "text/plain": [
       "  0%|          | 0/24 [00:00<?, ?it/s]"
      ]
     },
     "metadata": {},
     "output_type": "display_data"
    }
   ],
   "source": [
    "results=[]\n",
    "\n",
    "for coeff_top_x in tqdm(range(3,len(feature_names)+1)):\n",
    "    # features_to_keep\n",
    "    features_to_keep=list(dfcoeff.head(coeff_top_x).index)\n",
    "    \n",
    "    RMSE=[]\n",
    "\n",
    "    lr=create_regressor(LinearRegression(),feature_names=features_to_keep)\n",
    "\n",
    "    kf=KFold(n_splits=10,random_state=30,shuffle=True)\n",
    "    for train_index, test_index in kf.split(X_copy.copy()):\n",
    "        X_train, X_test = X.iloc[train_index], X.iloc[test_index]\n",
    "        y_train, y_test = y.iloc[train_index], y.iloc[test_index]\n",
    "\n",
    "        lr.fit(X_train,y_train)\n",
    "        ypred=lr.predict(X_test)\n",
    "        RMSE.append(mean_squared_error(y_test,ypred,squared=False))\n",
    "\n",
    "    results.append({'Feature Count':coeff_top_x,'RMSE':np.mean(RMSE)})"
   ]
  },
  {
   "cell_type": "code",
   "execution_count": null,
   "id": "72342ba2",
   "metadata": {},
   "outputs": [],
   "source": [
    "RMSE_vs_feat_count(pd.DataFrame(results))"
   ]
  },
  {
   "cell_type": "markdown",
   "id": "5ded6e78",
   "metadata": {},
   "source": [
    "Sweet spot seems to be a sweet spot at 17, about 23 RMSE.\n",
    "Let's pick the top 17 features here."
   ]
  },
  {
   "cell_type": "code",
   "execution_count": null,
   "id": "05628c07",
   "metadata": {},
   "outputs": [],
   "source": [
    "features_to_keep=list(dfcoeff.head(17).index)\n",
    "features_to_keep"
   ]
  },
  {
   "cell_type": "markdown",
   "id": "c7303f5c",
   "metadata": {},
   "source": [
    "### Try a submission"
   ]
  },
  {
   "cell_type": "code",
   "execution_count": null,
   "id": "6422eaa1",
   "metadata": {},
   "outputs": [],
   "source": [
    "#Instantiate a copy of Tester helper class\n",
    "tester=Tester(\"../data/test.csv\")"
   ]
  },
  {
   "cell_type": "code",
   "execution_count": null,
   "id": "7d2cec02",
   "metadata": {},
   "outputs": [],
   "source": [
    "lr.fit(X, y)#obtain a copy of the test set\n",
    "df_test=tester.get_test_df()"
   ]
  },
  {
   "cell_type": "code",
   "execution_count": null,
   "id": "4cf64c83",
   "metadata": {},
   "outputs": [],
   "source": [
    "#reset the df\n",
    "X=X_copy.copy()\n",
    "\n",
    "#instantiate and train the model using the entire dataset\n",
    "lr=create_regressor(LinearRegression(),feature_names=features_to_keep)\n",
    "lr.fit(X,y)"
   ]
  },
  {
   "cell_type": "code",
   "execution_count": null,
   "id": "1f5b0963",
   "metadata": {},
   "outputs": [],
   "source": [
    "#make prediction\n",
    "ypred=lr.predict(df_test)"
   ]
  },
  {
   "cell_type": "code",
   "execution_count": null,
   "id": "69fd1f76",
   "metadata": {},
   "outputs": [],
   "source": [
    "tester.write_submission(ypred,\"../data/04_categorical_features.csv\")"
   ]
  },
  {
   "cell_type": "code",
   "execution_count": null,
   "id": "7de8a661",
   "metadata": {},
   "outputs": [],
   "source": []
  }
 ],
 "metadata": {
  "kernelspec": {
   "display_name": "Python 3 (ipykernel)",
   "language": "python",
   "name": "python3"
  },
  "language_info": {
   "codemirror_mode": {
    "name": "ipython",
    "version": 3
   },
   "file_extension": ".py",
   "mimetype": "text/x-python",
   "name": "python",
   "nbconvert_exporter": "python",
   "pygments_lexer": "ipython3",
   "version": "3.9.12"
  }
 },
 "nbformat": 4,
 "nbformat_minor": 5
}
