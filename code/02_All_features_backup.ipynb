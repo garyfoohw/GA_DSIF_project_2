{
 "cells": [
  {
   "cell_type": "code",
   "execution_count": 1,
   "id": "510558b4",
   "metadata": {},
   "outputs": [],
   "source": [
    "%run utils.ipynb"
   ]
  },
  {
   "cell_type": "code",
   "execution_count": 2,
   "id": "04283e34",
   "metadata": {},
   "outputs": [],
   "source": [
    "warnings.filterwarnings('ignore')"
   ]
  },
  {
   "cell_type": "code",
   "execution_count": 3,
   "id": "85ff2627",
   "metadata": {},
   "outputs": [],
   "source": [
    "pd.set_option(\"display.max_rows\",None)\n",
    "pd.set_option(\"display.max_columns\",None)"
   ]
  },
  {
   "cell_type": "code",
   "execution_count": 4,
   "id": "6328dc0e",
   "metadata": {},
   "outputs": [],
   "source": [
    "df=pd.read_csv(\"../data/train.csv\")\n",
    "df_copy=df.copy()"
   ]
  },
  {
   "cell_type": "raw",
   "id": "834cfcac",
   "metadata": {},
   "source": [
    "#drop some useless columns\n",
    "cols_to_drop=[\"Id\",\"PID\"]\n",
    "df=df.drop(columns=cols_to_drop)"
   ]
  },
  {
   "cell_type": "raw",
   "id": "0e30f35c",
   "metadata": {},
   "source": [
    "#change SalePrice to log_SalePrice\n",
    "df=log_and_return(df,\"SalePrice\",drop=True)"
   ]
  },
  {
   "cell_type": "raw",
   "id": "3c2ae74e",
   "metadata": {},
   "source": [
    "#look at categorical columns\n",
    "df_c=df.select_dtypes(exclude='number')\n",
    "\n",
    "#look at numerical columns\n",
    "df_n=df.select_dtypes(include='number')"
   ]
  },
  {
   "cell_type": "markdown",
   "id": "225fe69e",
   "metadata": {},
   "source": [
    "Let's look at the perecentage of null in each feature."
   ]
  },
  {
   "cell_type": "code",
   "execution_count": 5,
   "id": "098883e9",
   "metadata": {},
   "outputs": [
    {
     "data": {
      "text/plain": [
       "Pool QC            99.561190\n",
       "Misc Feature       96.830814\n",
       "Alley              93.174061\n",
       "Fence              80.497318\n",
       "Fireplace Qu       48.756704\n",
       "Lot Frontage       16.089712\n",
       "Garage Finish       5.558264\n",
       "Garage Qual         5.558264\n",
       "Garage Yr Blt       5.558264\n",
       "Garage Cond         5.558264\n",
       "Garage Type         5.509508\n",
       "Bsmt Exposure       2.827889\n",
       "BsmtFin Type 2      2.730375\n",
       "BsmtFin Type 1      2.681619\n",
       "Bsmt Cond           2.681619\n",
       "Bsmt Qual           2.681619\n",
       "Mas Vnr Area        1.072647\n",
       "Mas Vnr Type        1.072647\n",
       "Bsmt Half Bath      0.097513\n",
       "Bsmt Full Bath      0.097513\n",
       "Garage Area         0.048757\n",
       "Total Bsmt SF       0.048757\n",
       "Bsmt Unf SF         0.048757\n",
       "BsmtFin SF 2        0.048757\n",
       "BsmtFin SF 1        0.048757\n",
       "Garage Cars         0.048757\n",
       "Mo Sold             0.000000\n",
       "Sale Type           0.000000\n",
       "Full Bath           0.000000\n",
       "Half Bath           0.000000\n",
       "Bedroom AbvGr       0.000000\n",
       "Kitchen AbvGr       0.000000\n",
       "Kitchen Qual        0.000000\n",
       "Yr Sold             0.000000\n",
       "Misc Val            0.000000\n",
       "Pool Area           0.000000\n",
       "Screen Porch        0.000000\n",
       "TotRms AbvGrd       0.000000\n",
       "Functional          0.000000\n",
       "Fireplaces          0.000000\n",
       "3Ssn Porch          0.000000\n",
       "Enclosed Porch      0.000000\n",
       "Open Porch SF       0.000000\n",
       "Wood Deck SF        0.000000\n",
       "Gr Liv Area         0.000000\n",
       "Paved Drive         0.000000\n",
       "Id                  0.000000\n",
       "Heating             0.000000\n",
       "Low Qual Fin SF     0.000000\n",
       "Overall Qual        0.000000\n",
       "MS SubClass         0.000000\n",
       "MS Zoning           0.000000\n",
       "Lot Area            0.000000\n",
       "Street              0.000000\n",
       "Lot Shape           0.000000\n",
       "Land Contour        0.000000\n",
       "Utilities           0.000000\n",
       "Lot Config          0.000000\n",
       "Land Slope          0.000000\n",
       "Neighborhood        0.000000\n",
       "Condition 1         0.000000\n",
       "Condition 2         0.000000\n",
       "Bldg Type           0.000000\n",
       "House Style         0.000000\n",
       "Overall Cond        0.000000\n",
       "2nd Flr SF          0.000000\n",
       "Year Built          0.000000\n",
       "Year Remod/Add      0.000000\n",
       "Roof Style          0.000000\n",
       "Roof Matl           0.000000\n",
       "Exterior 1st        0.000000\n",
       "Exterior 2nd        0.000000\n",
       "Exter Qual          0.000000\n",
       "Exter Cond          0.000000\n",
       "Foundation          0.000000\n",
       "PID                 0.000000\n",
       "Heating QC          0.000000\n",
       "Central Air         0.000000\n",
       "Electrical          0.000000\n",
       "1st Flr SF          0.000000\n",
       "SalePrice           0.000000\n",
       "dtype: float64"
      ]
     },
     "execution_count": 5,
     "metadata": {},
     "output_type": "execute_result"
    }
   ],
   "source": [
    "df_null=df.isnull().mean().sort_values(ascending=False)*100\n",
    "df_null"
   ]
  },
  {
   "cell_type": "markdown",
   "id": "330daff7",
   "metadata": {},
   "source": [
    "### Missing values"
   ]
  },
  {
   "cell_type": "code",
   "execution_count": 6,
   "id": "b54ef75b",
   "metadata": {},
   "outputs": [],
   "source": [
    "cols_to_impute_with_none=[\"Pool QC\",\"Misc Feature\",\"Alley\",\"Fence\",\"Fireplace Qu\",\n",
    "                          \"Garage Finish\",\"Garage Qual\",\"Garage Cond\",\"Garage Type\",\n",
    "                         \"Bsmt Exposure\",\"BsmtFin Type 2\",\"Bsmt Cond\",\"Bsmt Qual\",\"BsmtFin Type 1\",\n",
    "                         \"Mas Vnr Type\"]\n",
    "\n",
    "cols_to_impute_with_zero=[\"Garage Yr Blt\",\"Mas Vnr Area\",\"Bsmt Full Bath\",\"Bsmt Half Bath\",\"Garage Area\",\n",
    "                         \"Garage Cars\",\"Total Bsmt SF\",\"Bsmt Unf SF\",\"BsmtFin SF 2\",\"BsmtFin SF 1\"]\n",
    "\n",
    "cols_to_impute_with_mode=[\"Electrical\"]"
   ]
  },
  {
   "cell_type": "raw",
   "id": "8dd79205",
   "metadata": {},
   "source": [
    "for i in cols_to_impute_with_none:\n",
    "    df[i]=df[i].fillna(\"None\")\n",
    "    \n",
    "for j in cols_to_impute_with_zero:\n",
    "    df[j]=df[j].fillna(0)"
   ]
  },
  {
   "cell_type": "raw",
   "id": "99fab154",
   "metadata": {},
   "source": [
    "#Replace Lot Frontage with the median of the Neighborhood\n",
    "df['Lot Frontage']=df.groupby(by=\"Neighborhood\")['Lot Frontage'].transform(\n",
    "    lambda x: x.fillna(x.median() if not np.isnan(x.median()) else df['Lot Frontage'].median()))"
   ]
  },
  {
   "cell_type": "raw",
   "id": "d639634f",
   "metadata": {},
   "source": [
    "#Should show as 0, to ensure no more nulls\n",
    "df.isnull().sum().sum()"
   ]
  },
  {
   "cell_type": "markdown",
   "id": "30316523",
   "metadata": {},
   "source": [
    "Ok! everything looks good now."
   ]
  },
  {
   "cell_type": "markdown",
   "id": "16ced6a5",
   "metadata": {},
   "source": [
    "### We will change ordinal features to numerical"
   ]
  },
  {
   "cell_type": "raw",
   "id": "22d165d7",
   "metadata": {},
   "source": [
    "df=ordinal_to_rank(df)"
   ]
  },
  {
   "cell_type": "raw",
   "id": "bc43d8a1",
   "metadata": {},
   "source": [
    "#look at categorical columns\n",
    "df_c=df.select_dtypes(exclude='number')\n",
    "\n",
    "#look at numerical columns\n",
    "df_n=df.select_dtypes(include='number')\n",
    "\n",
    "df_c=pd.get_dummies(df_c,drop_first=True)\n",
    "\n",
    "df_new=pd.concat([df_n,df_c],axis=1)"
   ]
  },
  {
   "cell_type": "markdown",
   "id": "6ddda9ab",
   "metadata": {},
   "source": [
    "### We will one hot encode categorical features"
   ]
  },
  {
   "cell_type": "raw",
   "id": "cc656a93",
   "metadata": {},
   "source": [
    "df_new=onehot_encode_categorical_features(df)"
   ]
  },
  {
   "cell_type": "raw",
   "id": "f4a665f5",
   "metadata": {},
   "source": []
  },
  {
   "cell_type": "raw",
   "id": "33e86144",
   "metadata": {},
   "source": [
    "corrmap=df.corr()['log_SalePrice']"
   ]
  },
  {
   "cell_type": "raw",
   "id": "b9854dd9",
   "metadata": {},
   "source": [
    "corrmap.sort_values(ascending=False)[1:]*100"
   ]
  },
  {
   "cell_type": "markdown",
   "id": "a57b853d",
   "metadata": {},
   "source": [
    "Let's take a look at the correlation heatmap"
   ]
  },
  {
   "cell_type": "raw",
   "id": "74cb46ad",
   "metadata": {
    "scrolled": true
   },
   "source": [
    "correlation_map(df_new,title=\"Correlation map of all features\")"
   ]
  },
  {
   "cell_type": "markdown",
   "id": "32e79cd8",
   "metadata": {},
   "source": [
    "Not very useful, so let's just ignore for now."
   ]
  },
  {
   "cell_type": "raw",
   "id": "9ac484eb",
   "metadata": {},
   "source": [
    "single_correlation_map(df_new,\"log_SalePrice\")"
   ]
  },
  {
   "cell_type": "markdown",
   "id": "2a4054d8",
   "metadata": {},
   "source": [
    "From the 7 primary variables we had from part 1,  \n",
    "`Overall Qual`, `Gr Liv Area`, `Garage Cars`, `Year Built`, `Total Bsmt SF`, `Year Remod/Add`, `Full Bath`,   \n",
    "we now have a few more:  \n",
    "`Exter Qual`, `Kitchen Qual`, `Bsmt Qual`, `Garage Finish`, `Foundation_PConc`,`Fireplace Qu`, `Heating QC`."
   ]
  },
  {
   "cell_type": "raw",
   "id": "d8ff2408",
   "metadata": {},
   "source": [
    "features_to_keep=['Overall Qual','Gr Liv Area','Garage Cars','Year Built','Total Bsmt SF','Year Remod/Add','Full Bath',\n",
    "             'Exter Qual', 'Kitchen Qual', 'Bsmt Qual', 'Garage Finish', 'Foundation_PConc','Fireplace Qu', 'Heating QC']\n",
    "#include the label 'SalePrice' as all columns to keep\n",
    "cols_to_keep=[*features_to_keep,'SalePrice'] "
   ]
  },
  {
   "cell_type": "raw",
   "id": "a5f770e5",
   "metadata": {},
   "source": [
    "features_to_keep=['Overall Qual','Gr Liv Area','Garage Cars','Year Built','Total Bsmt SF','Year Remod/Add','Full Bath']\n",
    "#include the label 'SalePrice' as all columns to keep\n",
    "cols_to_keep=[*features_to_keep,'SalePrice'] "
   ]
  },
  {
   "cell_type": "markdown",
   "id": "4c1ce25b",
   "metadata": {},
   "source": [
    "### Let's run a simple Linear Regression using all the numerical features"
   ]
  },
  {
   "cell_type": "markdown",
   "id": "cfc7f3e8",
   "metadata": {},
   "source": [
    "### Set up model"
   ]
  },
  {
   "cell_type": "code",
   "execution_count": 7,
   "id": "718c58d1",
   "metadata": {},
   "outputs": [],
   "source": [
    "#retrieve df_train from backup\n",
    "df=df_copy.copy()\n",
    "\n",
    "#set up X and Y\n",
    "X=df.drop(columns=\"SalePrice\")\n",
    "y=df[\"SalePrice\"]\n",
    "\n",
    "#make a backup copy\n",
    "X_copy=X.copy()\n",
    "y_copy=y.copy()"
   ]
  },
  {
   "cell_type": "markdown",
   "id": "feb447c2",
   "metadata": {},
   "source": [
    "#### Set up a `TransformedTargetRegressor` to handle the log / exponential transformation of the label  \n",
    "Uses Pipeline to perform preprocessing and prediction"
   ]
  },
  {
   "cell_type": "code",
   "execution_count": 8,
   "id": "68234628",
   "metadata": {},
   "outputs": [],
   "source": [
    "#Create a regressor to dynamically creates a pipeline\n",
    "def create_regressor(model,**kwargs):\n",
    "    '''\n",
    "    model: estimator instance\n",
    "    return: TransformedTargetRegressor\n",
    "    '''\n",
    "    pipeline=Pipeline(steps=[\n",
    "        ('selector',FeatureSelector(**kwargs)),\n",
    "        ('simple_imputer',SimpleImputer(strategy=\"constant\",fill_value=0)),\n",
    "#         ('standard_impute',StandardImpute(none=cols_to_impute_with_none,\n",
    "#                                           zero=cols_to_impute_with_zero,\n",
    "#                                           mode=cols_to_impute_with_mode)),\n",
    "#         ('lot_frontage_impute',LotFrontageImpute()),\n",
    "#         ('ordinal_to_numerical',OrdinalToNumeric()),\n",
    "#         ('numerical_scaling',Scaling()) reserved for scaling\n",
    "#         ('onehotencode',OneHotEncode()),\n",
    "#         ('selector',FeatureSelector(features_to_keep)),\n",
    "        \n",
    "        \n",
    "#         ('categorical_numerical_split',Categorical_Numerical_Split),\n",
    "        ('align_train_and_predict',AlignTrainPredict()),\n",
    "        ('display',DispStep()),\n",
    "        ('model',model)\n",
    "    ])\n",
    "    \n",
    "#     display(pipeline)\n",
    "    \n",
    "    return TransformedTargetRegressor(regressor=pipeline,\n",
    "                                    func=np.log1p,\n",
    "                                    inverse_func=np.expm1)"
   ]
  },
  {
   "cell_type": "raw",
   "id": "3a77b338",
   "metadata": {},
   "source": [
    "#Create a regressor to dynamically creates a pipeline\n",
    "def create_regressor(model,**kwargs):\n",
    "    '''\n",
    "    model: estimator instance\n",
    "    return: TransformedTargetRegressor\n",
    "    '''\n",
    "    pipeline=Pipeline(steps=[\n",
    "        ('standard_impute',StandardImpute(none=cols_to_impute_with_none,\n",
    "                                          zero=cols_to_impute_with_zero,\n",
    "                                          mode=cols_to_impute_with_mode)),\n",
    "        ('lot_frontage_impute',LotFrontageImpute()),\n",
    "        ('ordinal_to_numerical',OrdinalToNumeric()),\n",
    "#         ('numerical_scaling',Scaling()) reserved for scaling\n",
    "#         ('onehotencode',OneHotEncode()),\n",
    "#         ('selector',FeatureSelector(features_to_keep)),\n",
    "        ('selector',FeatureSelector(**kwargs)),\n",
    "        \n",
    "#         ('categorical_numerical_split',Categorical_Numerical_Split),\n",
    "        ('align_train_and_predict',AlignTrainPredict()),\n",
    "        ('display',DispStep()),\n",
    "        ('model',model)\n",
    "    ])\n",
    "    \n",
    "#     display(pipeline)\n",
    "    \n",
    "    return TransformedTargetRegressor(regressor=pipeline,\n",
    "                                    func=np.log1p,\n",
    "                                    inverse_func=np.expm1)"
   ]
  },
  {
   "cell_type": "raw",
   "id": "7ccb868c",
   "metadata": {
    "scrolled": true
   },
   "source": [
    "lr=create_regressor(LinearRegression())\n",
    "lr.fit(X, y)"
   ]
  },
  {
   "cell_type": "raw",
   "id": "874c5b9c",
   "metadata": {},
   "source": [
    "#Look at Training RMSE\n",
    "X=X_copy.copy()\n",
    "mean_squared_error(y,lr.predict(X),squared=False)"
   ]
  },
  {
   "cell_type": "code",
   "execution_count": 10,
   "id": "929f7c9b",
   "metadata": {
    "scrolled": true
   },
   "outputs": [],
   "source": [
    "X=X_copy.copy()\n",
    "\n",
    "lr=create_regressor(LinearRegression(),by=\"numerical\")\n",
    "\n",
    "# np.sqrt(-cross_val_score(lr,X,y,cv=5,scoring='neg_mean_squared_error')).mean()"
   ]
  },
  {
   "cell_type": "code",
   "execution_count": 12,
   "id": "3e89b293",
   "metadata": {},
   "outputs": [
    {
     "ename": "AttributeError",
     "evalue": "'numpy.ndarray' object has no attribute 'columns'",
     "output_type": "error",
     "traceback": [
      "\u001b[1;31m---------------------------------------------------------------------------\u001b[0m",
      "\u001b[1;31mAttributeError\u001b[0m                            Traceback (most recent call last)",
      "Input \u001b[1;32mIn [12]\u001b[0m, in \u001b[0;36m<cell line: 1>\u001b[1;34m()\u001b[0m\n\u001b[1;32m----> 1\u001b[0m \u001b[43mlr\u001b[49m\u001b[38;5;241;43m.\u001b[39;49m\u001b[43mfit\u001b[49m\u001b[43m(\u001b[49m\u001b[43mX\u001b[49m\u001b[43m,\u001b[49m\u001b[43my\u001b[49m\u001b[43m)\u001b[49m\n",
      "File \u001b[1;32m~\\anaconda3\\lib\\site-packages\\sklearn\\compose\\_target.py:252\u001b[0m, in \u001b[0;36mTransformedTargetRegressor.fit\u001b[1;34m(self, X, y, **fit_params)\u001b[0m\n\u001b[0;32m    249\u001b[0m \u001b[38;5;28;01melse\u001b[39;00m:\n\u001b[0;32m    250\u001b[0m     \u001b[38;5;28mself\u001b[39m\u001b[38;5;241m.\u001b[39mregressor_ \u001b[38;5;241m=\u001b[39m clone(\u001b[38;5;28mself\u001b[39m\u001b[38;5;241m.\u001b[39mregressor)\n\u001b[1;32m--> 252\u001b[0m \u001b[38;5;28mself\u001b[39m\u001b[38;5;241m.\u001b[39mregressor_\u001b[38;5;241m.\u001b[39mfit(X, y_trans, \u001b[38;5;241m*\u001b[39m\u001b[38;5;241m*\u001b[39mfit_params)\n\u001b[0;32m    254\u001b[0m \u001b[38;5;28;01mif\u001b[39;00m \u001b[38;5;28mhasattr\u001b[39m(\u001b[38;5;28mself\u001b[39m\u001b[38;5;241m.\u001b[39mregressor_, \u001b[38;5;124m\"\u001b[39m\u001b[38;5;124mfeature_names_in_\u001b[39m\u001b[38;5;124m\"\u001b[39m):\n\u001b[0;32m    255\u001b[0m     \u001b[38;5;28mself\u001b[39m\u001b[38;5;241m.\u001b[39mfeature_names_in_ \u001b[38;5;241m=\u001b[39m \u001b[38;5;28mself\u001b[39m\u001b[38;5;241m.\u001b[39mregressor_\u001b[38;5;241m.\u001b[39mfeature_names_in_\n",
      "File \u001b[1;32m~\\anaconda3\\lib\\site-packages\\sklearn\\pipeline.py:378\u001b[0m, in \u001b[0;36mPipeline.fit\u001b[1;34m(self, X, y, **fit_params)\u001b[0m\n\u001b[0;32m    352\u001b[0m \u001b[38;5;124;03m\"\"\"Fit the model.\u001b[39;00m\n\u001b[0;32m    353\u001b[0m \n\u001b[0;32m    354\u001b[0m \u001b[38;5;124;03mFit all the transformers one after the other and transform the\u001b[39;00m\n\u001b[1;32m   (...)\u001b[0m\n\u001b[0;32m    375\u001b[0m \u001b[38;5;124;03m    Pipeline with fitted steps.\u001b[39;00m\n\u001b[0;32m    376\u001b[0m \u001b[38;5;124;03m\"\"\"\u001b[39;00m\n\u001b[0;32m    377\u001b[0m fit_params_steps \u001b[38;5;241m=\u001b[39m \u001b[38;5;28mself\u001b[39m\u001b[38;5;241m.\u001b[39m_check_fit_params(\u001b[38;5;241m*\u001b[39m\u001b[38;5;241m*\u001b[39mfit_params)\n\u001b[1;32m--> 378\u001b[0m Xt \u001b[38;5;241m=\u001b[39m \u001b[38;5;28mself\u001b[39m\u001b[38;5;241m.\u001b[39m_fit(X, y, \u001b[38;5;241m*\u001b[39m\u001b[38;5;241m*\u001b[39mfit_params_steps)\n\u001b[0;32m    379\u001b[0m \u001b[38;5;28;01mwith\u001b[39;00m _print_elapsed_time(\u001b[38;5;124m\"\u001b[39m\u001b[38;5;124mPipeline\u001b[39m\u001b[38;5;124m\"\u001b[39m, \u001b[38;5;28mself\u001b[39m\u001b[38;5;241m.\u001b[39m_log_message(\u001b[38;5;28mlen\u001b[39m(\u001b[38;5;28mself\u001b[39m\u001b[38;5;241m.\u001b[39msteps) \u001b[38;5;241m-\u001b[39m \u001b[38;5;241m1\u001b[39m)):\n\u001b[0;32m    380\u001b[0m     \u001b[38;5;28;01mif\u001b[39;00m \u001b[38;5;28mself\u001b[39m\u001b[38;5;241m.\u001b[39m_final_estimator \u001b[38;5;241m!=\u001b[39m \u001b[38;5;124m\"\u001b[39m\u001b[38;5;124mpassthrough\u001b[39m\u001b[38;5;124m\"\u001b[39m:\n",
      "File \u001b[1;32m~\\anaconda3\\lib\\site-packages\\sklearn\\pipeline.py:336\u001b[0m, in \u001b[0;36mPipeline._fit\u001b[1;34m(self, X, y, **fit_params_steps)\u001b[0m\n\u001b[0;32m    334\u001b[0m     cloned_transformer \u001b[38;5;241m=\u001b[39m clone(transformer)\n\u001b[0;32m    335\u001b[0m \u001b[38;5;66;03m# Fit or load from cache the current transformer\u001b[39;00m\n\u001b[1;32m--> 336\u001b[0m X, fitted_transformer \u001b[38;5;241m=\u001b[39m fit_transform_one_cached(\n\u001b[0;32m    337\u001b[0m     cloned_transformer,\n\u001b[0;32m    338\u001b[0m     X,\n\u001b[0;32m    339\u001b[0m     y,\n\u001b[0;32m    340\u001b[0m     \u001b[38;5;28;01mNone\u001b[39;00m,\n\u001b[0;32m    341\u001b[0m     message_clsname\u001b[38;5;241m=\u001b[39m\u001b[38;5;124m\"\u001b[39m\u001b[38;5;124mPipeline\u001b[39m\u001b[38;5;124m\"\u001b[39m,\n\u001b[0;32m    342\u001b[0m     message\u001b[38;5;241m=\u001b[39m\u001b[38;5;28mself\u001b[39m\u001b[38;5;241m.\u001b[39m_log_message(step_idx),\n\u001b[0;32m    343\u001b[0m     \u001b[38;5;241m*\u001b[39m\u001b[38;5;241m*\u001b[39mfit_params_steps[name],\n\u001b[0;32m    344\u001b[0m )\n\u001b[0;32m    345\u001b[0m \u001b[38;5;66;03m# Replace the transformer of the step with the fitted\u001b[39;00m\n\u001b[0;32m    346\u001b[0m \u001b[38;5;66;03m# transformer. This is necessary when loading the transformer\u001b[39;00m\n\u001b[0;32m    347\u001b[0m \u001b[38;5;66;03m# from the cache.\u001b[39;00m\n\u001b[0;32m    348\u001b[0m \u001b[38;5;28mself\u001b[39m\u001b[38;5;241m.\u001b[39msteps[step_idx] \u001b[38;5;241m=\u001b[39m (name, fitted_transformer)\n",
      "File \u001b[1;32m~\\anaconda3\\lib\\site-packages\\joblib\\memory.py:349\u001b[0m, in \u001b[0;36mNotMemorizedFunc.__call__\u001b[1;34m(self, *args, **kwargs)\u001b[0m\n\u001b[0;32m    348\u001b[0m \u001b[38;5;28;01mdef\u001b[39;00m \u001b[38;5;21m__call__\u001b[39m(\u001b[38;5;28mself\u001b[39m, \u001b[38;5;241m*\u001b[39margs, \u001b[38;5;241m*\u001b[39m\u001b[38;5;241m*\u001b[39mkwargs):\n\u001b[1;32m--> 349\u001b[0m     \u001b[38;5;28;01mreturn\u001b[39;00m \u001b[38;5;28mself\u001b[39m\u001b[38;5;241m.\u001b[39mfunc(\u001b[38;5;241m*\u001b[39margs, \u001b[38;5;241m*\u001b[39m\u001b[38;5;241m*\u001b[39mkwargs)\n",
      "File \u001b[1;32m~\\anaconda3\\lib\\site-packages\\sklearn\\pipeline.py:870\u001b[0m, in \u001b[0;36m_fit_transform_one\u001b[1;34m(transformer, X, y, weight, message_clsname, message, **fit_params)\u001b[0m\n\u001b[0;32m    868\u001b[0m \u001b[38;5;28;01mwith\u001b[39;00m _print_elapsed_time(message_clsname, message):\n\u001b[0;32m    869\u001b[0m     \u001b[38;5;28;01mif\u001b[39;00m \u001b[38;5;28mhasattr\u001b[39m(transformer, \u001b[38;5;124m\"\u001b[39m\u001b[38;5;124mfit_transform\u001b[39m\u001b[38;5;124m\"\u001b[39m):\n\u001b[1;32m--> 870\u001b[0m         res \u001b[38;5;241m=\u001b[39m transformer\u001b[38;5;241m.\u001b[39mfit_transform(X, y, \u001b[38;5;241m*\u001b[39m\u001b[38;5;241m*\u001b[39mfit_params)\n\u001b[0;32m    871\u001b[0m     \u001b[38;5;28;01melse\u001b[39;00m:\n\u001b[0;32m    872\u001b[0m         res \u001b[38;5;241m=\u001b[39m transformer\u001b[38;5;241m.\u001b[39mfit(X, y, \u001b[38;5;241m*\u001b[39m\u001b[38;5;241m*\u001b[39mfit_params)\u001b[38;5;241m.\u001b[39mtransform(X)\n",
      "File \u001b[1;32m~\\anaconda3\\lib\\site-packages\\sklearn\\base.py:870\u001b[0m, in \u001b[0;36mTransformerMixin.fit_transform\u001b[1;34m(self, X, y, **fit_params)\u001b[0m\n\u001b[0;32m    867\u001b[0m     \u001b[38;5;28;01mreturn\u001b[39;00m \u001b[38;5;28mself\u001b[39m\u001b[38;5;241m.\u001b[39mfit(X, \u001b[38;5;241m*\u001b[39m\u001b[38;5;241m*\u001b[39mfit_params)\u001b[38;5;241m.\u001b[39mtransform(X)\n\u001b[0;32m    868\u001b[0m \u001b[38;5;28;01melse\u001b[39;00m:\n\u001b[0;32m    869\u001b[0m     \u001b[38;5;66;03m# fit method of arity 2 (supervised transformation)\u001b[39;00m\n\u001b[1;32m--> 870\u001b[0m     \u001b[38;5;28;01mreturn\u001b[39;00m \u001b[38;5;28mself\u001b[39m\u001b[38;5;241m.\u001b[39mfit(X, y, \u001b[38;5;241m*\u001b[39m\u001b[38;5;241m*\u001b[39mfit_params)\u001b[38;5;241m.\u001b[39mtransform(X)\n",
      "File \u001b[1;32m~\\AppData\\Local\\Temp\\ipykernel_12652\\2790288539.py:9\u001b[0m, in \u001b[0;36mAlignTrainPredict.fit\u001b[1;34m(self, X, y)\u001b[0m\n\u001b[0;32m      8\u001b[0m     \u001b[38;5;28;01mdef\u001b[39;00m \u001b[38;5;21mfit\u001b[39m(\u001b[38;5;28mself\u001b[39m, X, y \u001b[38;5;241m=\u001b[39m \u001b[38;5;28;01mNone\u001b[39;00m):\n\u001b[1;32m----> 9\u001b[0m         \u001b[38;5;28mself\u001b[39m\u001b[38;5;241m.\u001b[39mpredict_features\u001b[38;5;241m=\u001b[39m\u001b[38;5;28mlist\u001b[39m(\u001b[43mX\u001b[49m\u001b[38;5;241;43m.\u001b[39;49m\u001b[43mcolumns\u001b[49m)\n\u001b[0;32m     10\u001b[0m \u001b[38;5;66;03m#         print(len(self.predict_features))\u001b[39;00m\n\u001b[0;32m     11\u001b[0m         \u001b[38;5;28;01mreturn\u001b[39;00m \u001b[38;5;28mself\u001b[39m\n",
      "\u001b[1;31mAttributeError\u001b[0m: 'numpy.ndarray' object has no attribute 'columns'"
     ]
    }
   ],
   "source": [
    "lr.fit(X,y)"
   ]
  },
  {
   "cell_type": "code",
   "execution_count": null,
   "id": "a9aff821",
   "metadata": {},
   "outputs": [],
   "source": [
    "RMSE=[]\n",
    "coefficients=[]\n",
    "feature_names=None"
   ]
  },
  {
   "cell_type": "code",
   "execution_count": null,
   "id": "256e9559",
   "metadata": {},
   "outputs": [],
   "source": [
    "kf=KFold(n_splits=10,random_state=30,shuffle=True)\n",
    "for train_index, test_index in kf.split(X_copy.copy()):\n",
    "    X_train, X_test = X.iloc[train_index], X.iloc[test_index]\n",
    "    y_train, y_test = y[train_index], y[test_index]\n",
    "    \n",
    "    lr.fit(X_train,y_train)\n",
    "    ypred=lr.predict(X_test)\n",
    "    RMSE.append(mean_squared_error(y_test,ypred,squared=False))\n",
    "#     display(lr.regressor_['model'].coef_)\n",
    "    coefficients.append(lr.regressor_['model'].coef_)\n",
    "    feature_names=list(lr.regressor_['display'].get_feature_names())"
   ]
  },
  {
   "cell_type": "code",
   "execution_count": null,
   "id": "310090bb",
   "metadata": {},
   "outputs": [],
   "source": [
    "np.mean(RMSE)"
   ]
  },
  {
   "cell_type": "markdown",
   "id": "cdd34898",
   "metadata": {},
   "source": [
    "Ok, this is slightly better!"
   ]
  },
  {
   "cell_type": "code",
   "execution_count": null,
   "id": "12ff266b",
   "metadata": {},
   "outputs": [],
   "source": [
    "dfcoeff=pd.DataFrame(coefficients,columns=feature_names)"
   ]
  },
  {
   "cell_type": "code",
   "execution_count": null,
   "id": "e84435d9",
   "metadata": {},
   "outputs": [],
   "source": [
    "features_to_keep=list(dfcoeff.mean().loc[lambda x:np.abs(x)>0.01].index)\n",
    "features_to_keep"
   ]
  },
  {
   "cell_type": "markdown",
   "id": "e735313b",
   "metadata": {},
   "source": [
    "Let's look at coefficient."
   ]
  },
  {
   "cell_type": "markdown",
   "id": "fd7b2f30",
   "metadata": {},
   "source": [
    "### Try a submission"
   ]
  },
  {
   "cell_type": "code",
   "execution_count": null,
   "id": "8c1227e0",
   "metadata": {},
   "outputs": [],
   "source": [
    "#Instantiate a copy of Tester helper class\n",
    "tester=Tester(\"../data/test.csv\")"
   ]
  },
  {
   "cell_type": "code",
   "execution_count": null,
   "id": "9f4fdeae",
   "metadata": {},
   "outputs": [],
   "source": [
    "#obtain a copy of the test set\n",
    "df_test=tester.get_test_df()"
   ]
  },
  {
   "cell_type": "code",
   "execution_count": null,
   "id": "1a5dd3e6",
   "metadata": {},
   "outputs": [],
   "source": [
    "#reset the df\n",
    "X=X_copy.copy()\n",
    "\n",
    "#instantiate and train the model\n",
    "lr=create_regressor(LinearRegression())\n",
    "lr.fit(X,y)"
   ]
  },
  {
   "cell_type": "raw",
   "id": "a5ac3fbf",
   "metadata": {},
   "source": [
    "df_test=ordinal_to_rank(df_test)\n",
    "df_test=onehot_encode_categorical_features(df_test)"
   ]
  },
  {
   "cell_type": "code",
   "execution_count": null,
   "id": "c7d060b6",
   "metadata": {},
   "outputs": [],
   "source": [
    "#make prediction\n",
    "ypred=lr.predict(df_test)"
   ]
  },
  {
   "cell_type": "raw",
   "id": "6bec5995",
   "metadata": {},
   "source": [
    "#retain columns required for modelling\n",
    "df_test=df_test[cols_to_keep]\n",
    "\n",
    "#predict SalePrice. Remmber to np.exp to reverse the log.\n",
    "ypred=np.exp(lr.predict(df_test))"
   ]
  },
  {
   "cell_type": "code",
   "execution_count": null,
   "id": "a22015b9",
   "metadata": {},
   "outputs": [],
   "source": [
    "tester.write_submission(ypred,\"../data/02_all_features_submission.csv\")"
   ]
  }
 ],
 "metadata": {
  "kernelspec": {
   "display_name": "Python 3 (ipykernel)",
   "language": "python",
   "name": "python3"
  },
  "language_info": {
   "codemirror_mode": {
    "name": "ipython",
    "version": 3
   },
   "file_extension": ".py",
   "mimetype": "text/x-python",
   "name": "python",
   "nbconvert_exporter": "python",
   "pygments_lexer": "ipython3",
   "version": "3.9.12"
  }
 },
 "nbformat": 4,
 "nbformat_minor": 5
}
