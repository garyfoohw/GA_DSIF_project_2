{
 "cells": [
  {
   "cell_type": "code",
   "execution_count": null,
   "id": "00fcdeda",
   "metadata": {},
   "outputs": [],
   "source": [
    "import seaborn as sns\n",
    "from scipy import stats\n",
    "import matplotlib.pyplot as plt\n",
    "import pandas as pd"
   ]
  },
  {
   "cell_type": "code",
   "execution_count": 1,
   "id": "f1181043",
   "metadata": {},
   "outputs": [],
   "source": [
    "def show_hist_qq(df,x,hist_title=\"\"):\n",
    "    '''\n",
    "    Plots a univariate histogram and Q-Q plot\n",
    "        \n",
    "    string: DataFrame which contains the variable to be plot as a column\n",
    "    x: Name of column to plot\n",
    "    title: Title of Histogram\n",
    "    return: None.\n",
    "    '''\n",
    "    fig,axes=plt.subplots(1,2)\n",
    "    fig.set_size_inches(18, 5)\n",
    "    _=sns.histplot(data=df, x=x, kde=True, ax=axes[0]).set(title=hist_title)\n",
    "    _=stats.probplot(df[x],plot=axes[1])\n",
    "    print(f\"Skew: {df[x].skew():.2f}\")"
   ]
  },
  {
   "cell_type": "code",
   "execution_count": null,
   "id": "db7dd225",
   "metadata": {},
   "outputs": [],
   "source": [
    "class Tester():\n",
    "    '''\n",
    "    This class is to help with reading and submission of Kaggle test file\n",
    "    '''\n",
    "    def __init__(self,path):\n",
    "        '''\n",
    "        Instantiates the Tester object, read from test file, and save ID sequence\n",
    "        '''\n",
    "        self.df=pd.read_csv(path)\n",
    "        self.df_id=self.df[['Id']]\n",
    "    \n",
    "    def get_test_df(self):\n",
    "        '''\n",
    "        return: Test DataFrame\n",
    "        '''\n",
    "        return self.df\n",
    "    \n",
    "    def get_length(self):\n",
    "        '''\n",
    "        return: Lenth of test file\n",
    "        '''\n",
    "        return self.df_id.shape[0]\n",
    "    \n",
    "    def write_submission(self,pred,output):\n",
    "        '''\n",
    "        Takes a prediction and output path, and writes a Kaggle format csv to file\n",
    "        pred: list, whose length must be equal to length of test file\n",
    "        output: output path of .csv (must end with \".csv\")\n",
    "        '''\n",
    "        \n",
    "        #check if length of pred is correct\n",
    "        if len(pred) != self.get_length():\n",
    "            print(\"Length mismatch\")\n",
    "            return 1\n",
    "        \n",
    "        #merge the ID and predicted SalePrice\n",
    "        self.df_result=pd.concat([self.df_id,pd.DataFrame(pred)],axis=1)\n",
    "\n",
    "        #rename the columns\n",
    "        self.df_result.rename(columns={self.df_result.columns[1]: \"SalePrice\"}, inplace = True)\n",
    "        \n",
    "        #save to csv\n",
    "        self.df_result.to_csv(output,index=False)\n",
    "        \n",
    "        print(f\"Output saved to {output}\")"
   ]
  }
 ],
 "metadata": {
  "kernelspec": {
   "display_name": "Python 3 (ipykernel)",
   "language": "python",
   "name": "python3"
  },
  "language_info": {
   "codemirror_mode": {
    "name": "ipython",
    "version": 3
   },
   "file_extension": ".py",
   "mimetype": "text/x-python",
   "name": "python",
   "nbconvert_exporter": "python",
   "pygments_lexer": "ipython3",
   "version": "3.9.12"
  }
 },
 "nbformat": 4,
 "nbformat_minor": 5
}
