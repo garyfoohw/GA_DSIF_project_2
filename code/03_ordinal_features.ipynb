{
 "cells": [
  {
   "cell_type": "code",
   "execution_count": null,
   "id": "3e745084",
   "metadata": {},
   "outputs": [],
   "source": [
    "import numpy as np\n",
    "import pandas as pd\n",
    "import matplotlib.pyplot as plt\n",
    "import seaborn as sns\n",
    "\n",
    "from sklearn.pipeline import Pipeline\n",
    "from sklearn.linear_model import LinearRegression\n",
    "from sklearn.compose import TransformedTargetRegressor\n",
    "from sklearn.model_selection import KFold\n",
    "from sklearn.metrics import mean_squared_error\n",
    "from sklearn.preprocessing import RobustScaler\n",
    "\n",
    "from utils import RMSE_vs_feat_count\n",
    "from transformers import DropCorrelated, MSSubClassConvert, StandardImpute, LotFrontageImpute, OrdinalToNumeric, \\\n",
    "    FeatureSelector, Passthrough\n",
    "from tester import Tester\n",
    "\n",
    "from tqdm.notebook import tqdm\n",
    "import warnings"
   ]
  },
  {
   "cell_type": "code",
   "execution_count": null,
   "id": "e81425e2",
   "metadata": {},
   "outputs": [],
   "source": [
    "warnings.filterwarnings('ignore')"
   ]
  },
  {
   "cell_type": "code",
   "execution_count": null,
   "id": "4cb3c4a8",
   "metadata": {},
   "outputs": [],
   "source": [
    "df=pd.read_csv(\"../data/train.csv\")\n",
    "\n",
    "#drop some useless columns\n",
    "cols_to_drop=[\"Id\",\"PID\"]\n",
    "df=df.drop(columns=cols_to_drop)\n",
    "\n",
    "#drop outliers identified in part 1\n",
    "df=df[df['Gr Liv Area']<=4500]\n",
    "df=df[df['SalePrice']>np.expm1(10)]\n",
    "\n",
    "df_copy=df.copy()"
   ]
  },
  {
   "cell_type": "markdown",
   "id": "e40837a2",
   "metadata": {},
   "source": [
    "Let's look at the rows which have null, and the number of nulls in them."
   ]
  },
  {
   "cell_type": "code",
   "execution_count": null,
   "id": "945a8343",
   "metadata": {},
   "outputs": [],
   "source": [
    "df_null=df.isnull().sum().sort_values(ascending=False).loc[lambda x: x>0]"
   ]
  },
  {
   "cell_type": "code",
   "execution_count": null,
   "id": "873e479f",
   "metadata": {},
   "outputs": [],
   "source": [
    "plt.figure(figsize=(16,4))\n",
    "sns.barplot(x=df_null.index, y=df_null).set_title(\"Feature names and their null row count\")\n",
    "_=plt.xticks(rotation=90)"
   ]
  },
  {
   "cell_type": "markdown",
   "id": "7da72e47",
   "metadata": {},
   "source": [
    "We will impute them according to their description, as outlined [here](http://jse.amstat.org/v19n3/decock/DataDocumentation.txt)."
   ]
  },
  {
   "cell_type": "code",
   "execution_count": null,
   "id": "fef9cbeb",
   "metadata": {},
   "outputs": [],
   "source": [
    "cols_to_impute_with_none=[\"Pool QC\",\"Misc Feature\",\"Alley\",\"Fence\",\"Fireplace Qu\",\n",
    "                          \"Garage Finish\",\"Garage Qual\",\"Garage Cond\",\"Garage Type\",\n",
    "                         \"Bsmt Exposure\",\"BsmtFin Type 2\",\"Bsmt Cond\",\"Bsmt Qual\",\"BsmtFin Type 1\",\n",
    "                         \"Mas Vnr Type\"]\n",
    "\n",
    "cols_to_impute_with_zero=[\"Garage Yr Blt\",\"Mas Vnr Area\",\"Bsmt Full Bath\",\"Bsmt Half Bath\",\"Garage Area\",\n",
    "                         \"Garage Cars\",\"Total Bsmt SF\",\"Bsmt Unf SF\",\"BsmtFin SF 2\",\"BsmtFin SF 1\"]\n",
    "\n",
    "cols_to_impute_with_mode=[\"Electrical\"]"
   ]
  },
  {
   "cell_type": "code",
   "execution_count": null,
   "id": "724def13",
   "metadata": {},
   "outputs": [],
   "source": [
    "correlated_to_drop=[\"1st Flr SF\",\"Garage Yr Blt\",\"TotRms AbvGrd\",\"Garage Area\"]"
   ]
  },
  {
   "cell_type": "code",
   "execution_count": null,
   "id": "ff4fd78a",
   "metadata": {},
   "outputs": [],
   "source": [
    "#Create a regressor to dynamically creates a pipeline\n",
    "def create_regressor(model,**kwargs):\n",
    "    '''\n",
    "    model: estimator instance\n",
    "    return: TransformedTargetRegressor\n",
    "    '''\n",
    "    pipeline=Pipeline(steps=[\n",
    "        ('drop_correlated',DropCorrelated(correlated_to_drop)),\n",
    "        ('ms_subclass_convert',MSSubClassConvert()),\n",
    "        ('standard_impute',StandardImpute(none=cols_to_impute_with_none,\n",
    "                                          zero=cols_to_impute_with_zero,\n",
    "                                          mode=cols_to_impute_with_mode)),\n",
    "        ('lot_frotage_impute',LotFrontageImpute()),\n",
    "        ('ordinal_to_numerical',OrdinalToNumeric()),\n",
    "        ('selector',FeatureSelector(**kwargs)),\n",
    "        ('passthrough',Passthrough()), #Passthrough step, does nothing. Only exists to allow external code to retrieve feature names.\n",
    "        ('robustscalar',RobustScaler()),\n",
    "        ('model',model)\n",
    "    ])\n",
    "    \n",
    "    return TransformedTargetRegressor(regressor=pipeline,\n",
    "                                    func=np.log1p,\n",
    "                                    inverse_func=np.expm1\n",
    "                                    )"
   ]
  },
  {
   "cell_type": "code",
   "execution_count": null,
   "id": "7b6f0c9c",
   "metadata": {},
   "outputs": [],
   "source": [
    "#set up X and Y\n",
    "X=df.drop(columns=\"SalePrice\")\n",
    "y=df[\"SalePrice\"]\n",
    "\n",
    "#make a backup copy\n",
    "X_copy=X.copy()\n",
    "y_copy=y.copy()"
   ]
  },
  {
   "cell_type": "code",
   "execution_count": null,
   "id": "5373f6ec",
   "metadata": {
    "scrolled": false
   },
   "outputs": [],
   "source": [
    "RMSE=[]\n",
    "coefficients=[]\n",
    "feature_names=None\n",
    "\n",
    "#create regressor and instruct to keep only numerical features\n",
    "lr=create_regressor(LinearRegression(),by=\"numerical\")\n",
    "\n",
    "#run 10 K Folds and store the coefficients and RMSE to a list.\n",
    "kf=KFold(n_splits=5,random_state=30,shuffle=True)\n",
    "for train_index, test_index in tqdm(kf.split(X_copy.copy())):\n",
    "    X_train, X_test = X.iloc[train_index], X.iloc[test_index]\n",
    "    y_train, y_test = y.iloc[train_index], y.iloc[test_index]\n",
    "    \n",
    "    lr.fit(X_train,y_train)\n",
    "    ypred=lr.predict(X_test)\n",
    "    RMSE.append(mean_squared_error(y_test,ypred,squared=False))\n",
    "    coefficients.append(lr.regressor_['model'].coef_)\n",
    "    feature_names=list(lr.regressor_['passthrough'].get_feature_names())"
   ]
  },
  {
   "cell_type": "code",
   "execution_count": null,
   "id": "6bb5fa9b",
   "metadata": {},
   "outputs": [],
   "source": [
    "np.mean(RMSE)"
   ]
  },
  {
   "cell_type": "markdown",
   "id": "f1cc2134",
   "metadata": {},
   "source": [
    "That's slightly better than part 2 (23350).  \n",
    "Let's iterate through all the features to find the top X again."
   ]
  },
  {
   "cell_type": "code",
   "execution_count": null,
   "id": "8c1dd08f",
   "metadata": {},
   "outputs": [],
   "source": [
    "#sort the coefficients from the regressor\n",
    "dfcoeff=np.abs(pd.DataFrame(coefficients,columns=feature_names).mean()).sort_values(ascending=False)"
   ]
  },
  {
   "cell_type": "code",
   "execution_count": null,
   "id": "953022a0",
   "metadata": {},
   "outputs": [],
   "source": [
    "results=[]\n",
    "\n",
    "for coeff_top_x in tqdm(range(3,len(feature_names)+1)):\n",
    "    # features_to_keep\n",
    "    features_to_keep=list(dfcoeff.head(coeff_top_x).index)\n",
    "    \n",
    "    RMSE=[]\n",
    "\n",
    "    lr=create_regressor(LinearRegression(),feature_names=features_to_keep)\n",
    "\n",
    "    kf=KFold(n_splits=10,random_state=30,shuffle=True)\n",
    "    for train_index, test_index in kf.split(X_copy.copy()):\n",
    "        X_train, X_test = X.iloc[train_index], X.iloc[test_index]\n",
    "        y_train, y_test = y.iloc[train_index], y.iloc[test_index]\n",
    "\n",
    "        lr.fit(X_train,y_train)\n",
    "        ypred=lr.predict(X_test)\n",
    "        RMSE.append(mean_squared_error(y_test,ypred,squared=False))\n",
    "\n",
    "    results.append({'Feature Count':coeff_top_x,'RMSE':np.mean(RMSE)})"
   ]
  },
  {
   "cell_type": "code",
   "execution_count": null,
   "id": "ae6394f4",
   "metadata": {},
   "outputs": [],
   "source": [
    "RMSE_vs_feat_count(pd.DataFrame(results),drawline=30)"
   ]
  },
  {
   "cell_type": "markdown",
   "id": "330bf039",
   "metadata": {},
   "source": [
    "Sweet spot seems to be a sweet spot at 30, about 22.0 RMSE.\n",
    "Let's pick the top 30 features here."
   ]
  },
  {
   "cell_type": "code",
   "execution_count": null,
   "id": "d3124034",
   "metadata": {},
   "outputs": [],
   "source": [
    "features_to_keep=list(dfcoeff.head(30).index)\n",
    "features_to_keep"
   ]
  },
  {
   "cell_type": "markdown",
   "id": "a9b00537",
   "metadata": {},
   "source": [
    "### Try a submission"
   ]
  },
  {
   "cell_type": "code",
   "execution_count": null,
   "id": "77ed4acd",
   "metadata": {},
   "outputs": [],
   "source": [
    "#Instantiate a copy of Tester helper class\n",
    "tester=Tester(\"../data/test.csv\")"
   ]
  },
  {
   "cell_type": "code",
   "execution_count": null,
   "id": "198822f4",
   "metadata": {},
   "outputs": [],
   "source": [
    "lr.fit(X, y)#obtain a copy of the test set\n",
    "df_test=tester.get_test_df()"
   ]
  },
  {
   "cell_type": "code",
   "execution_count": null,
   "id": "4bfd6745",
   "metadata": {},
   "outputs": [],
   "source": [
    "#reset the df\n",
    "X=X_copy.copy()\n",
    "\n",
    "#instantiate and train the model\n",
    "lr=create_regressor(LinearRegression(),feature_names=features_to_keep)\n",
    "lr.fit(X,y)"
   ]
  },
  {
   "cell_type": "code",
   "execution_count": null,
   "id": "08e71dd0",
   "metadata": {},
   "outputs": [],
   "source": [
    "#make prediction\n",
    "ypred=lr.predict(df_test)"
   ]
  },
  {
   "cell_type": "code",
   "execution_count": null,
   "id": "04d3f8d0",
   "metadata": {},
   "outputs": [],
   "source": [
    "tester.write_submission(ypred,\"../data/03_ordinals_to_numerical.csv\")"
   ]
  },
  {
   "cell_type": "markdown",
   "id": "1f0bdcd2",
   "metadata": {},
   "source": [
    "**Results**  \n",
    "Score:27856  \n",
    "Private score: 22765"
   ]
  }
 ],
 "metadata": {
  "kernelspec": {
   "display_name": "Python 3 (ipykernel)",
   "language": "python",
   "name": "python3"
  },
  "language_info": {
   "codemirror_mode": {
    "name": "ipython",
    "version": 3
   },
   "file_extension": ".py",
   "mimetype": "text/x-python",
   "name": "python",
   "nbconvert_exporter": "python",
   "pygments_lexer": "ipython3",
   "version": "3.9.12"
  }
 },
 "nbformat": 4,
 "nbformat_minor": 5
}
