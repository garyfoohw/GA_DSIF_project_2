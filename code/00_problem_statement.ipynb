{
 "cells": [
  {
   "cell_type": "markdown",
   "id": "d05cb52b",
   "metadata": {},
   "source": [
    "# Buying a house"
   ]
  },
  {
   "cell_type": "markdown",
   "id": "cf403074",
   "metadata": {},
   "source": [
    "## And how to not get ripped off"
   ]
  },
  {
   "cell_type": "markdown",
   "id": "84114ec6",
   "metadata": {},
   "source": [
    "#### The market today"
   ]
  },
  {
   "cell_type": "markdown",
   "id": "3877d065",
   "metadata": {},
   "source": [
    "If you noticed in recent years, there's been an increase in online platforms whose job is to link buyers and sellers.  \n",
    "These intermediary companies do not own any inventory, but only seek to be the middle-man and profit from the commisions.  \n",
    "E-bay and Taobao are famous e-commerce platforms are great examples.  \n",
    "Outside of e-commerce, we have Uber, AirBnB, which all do not hold any inventory themselves."
   ]
  },
  {
   "cell_type": "markdown",
   "id": "012c91be",
   "metadata": {},
   "source": [
    "#### About us"
   ]
  },
  {
   "cell_type": "markdown",
   "id": "f2c826a0",
   "metadata": {},
   "source": [
    "We are an intermediary company in the real-estate space.  \n",
    "Our core business is to link up buyers and sellers of houses.  \n",
    "This method of sales bypasses the traditional realtor (or real-estate agent), savings buyers and sellers on hefty consultancy fees."
   ]
  },
  {
   "cell_type": "markdown",
   "id": "1515383c",
   "metadata": {},
   "source": [
    "#### Customers' pain point"
   ]
  },
  {
   "cell_type": "markdown",
   "id": "a487c1fa",
   "metadata": {},
   "source": [
    "While we provide a platform for buyers and sellers to connect, we do not dictate sale prices.  \n",
    "To an inexperienced house buyer, it is difficult to know if the price of one house really warrant such a big difference from the market mean.  \n",
    "How can we help buyers (and sellers) price the house more fairly in relation to the market mean?  \n",
    "If we can equip our customers with confidence to price the property, we may seem more uptake in our platform."
   ]
  },
  {
   "cell_type": "markdown",
   "id": "f4ecd748",
   "metadata": {},
   "source": [
    "#### Problem statement"
   ]
  },
  {
   "cell_type": "markdown",
   "id": "c20b0ab1",
   "metadata": {},
   "source": [
    "We aim to create a simplified framework, one that is easy for humans to deal with without a computer.  \n",
    "The framework would comprise several major and minor features for buyers (and sellers) to look for when pricing thier house, relative to the market mean."
   ]
  },
  {
   "cell_type": "markdown",
   "id": "ce3f260b",
   "metadata": {},
   "source": [
    "#### Approach"
   ]
  },
  {
   "cell_type": "markdown",
   "id": "18eae5c2",
   "metadata": {},
   "source": [
    "We first model the sale price of the market using multiple features (numerical, ordinal & categorial).  \n",
    "Upon validating and confirming that the model is performing well,  \n",
    "we dissect the model and look at the important features driving the prediction."
   ]
  },
  {
   "cell_type": "markdown",
   "id": "07e906fc",
   "metadata": {},
   "source": [
    "## Table of Contents"
   ]
  },
  {
   "cell_type": "markdown",
   "id": "a85b8b47",
   "metadata": {},
   "source": [
    "[#01 EDA and preliminary model](01_EDA_featengineering_prelim_model.ipynb)  \n",
    "[#02 Selecting numerical features](02_feature_selection_by_coefficients.ipynb)  \n",
    "[#03 Dealing with ordinal features](03_ordinal_features.ipynb)  \n",
    "[#04 Treating categorical features](04_categorical_features.ipynb)  \n",
    "[#05 Model regularization and performance evaluation](05_L1_L2_regularization.ipynb)  \n",
    "[#06 Recommendation and conclusion](06_recommendation_conclusion.ipynb)"
   ]
  },
  {
   "cell_type": "markdown",
   "id": "a409cf0b",
   "metadata": {},
   "source": [
    "If you encounter problems running the notebooks due to uninstalled dependencies, pls run [install dependencies](install_dependencies.ipynb)."
   ]
  }
 ],
 "metadata": {
  "kernelspec": {
   "display_name": "Python 3 (ipykernel)",
   "language": "python",
   "name": "python3"
  },
  "language_info": {
   "codemirror_mode": {
    "name": "ipython",
    "version": 3
   },
   "file_extension": ".py",
   "mimetype": "text/x-python",
   "name": "python",
   "nbconvert_exporter": "python",
   "pygments_lexer": "ipython3",
   "version": "3.9.12"
  }
 },
 "nbformat": 4,
 "nbformat_minor": 5
}
