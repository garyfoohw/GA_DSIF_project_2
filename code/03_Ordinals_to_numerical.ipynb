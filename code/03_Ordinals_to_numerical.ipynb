{
 "cells": [
  {
   "cell_type": "code",
   "execution_count": 1,
   "id": "d1166032",
   "metadata": {},
   "outputs": [],
   "source": [
    "%run utils.ipynb"
   ]
  },
  {
   "cell_type": "code",
   "execution_count": 2,
   "id": "e81425e2",
   "metadata": {},
   "outputs": [],
   "source": [
    "warnings.filterwarnings('ignore')"
   ]
  },
  {
   "cell_type": "code",
   "execution_count": 3,
   "id": "46ba918d",
   "metadata": {},
   "outputs": [],
   "source": [
    "pd.set_option(\"display.max_rows\",None)\n",
    "pd.set_option(\"display.max_columns\",None)"
   ]
  },
  {
   "cell_type": "code",
   "execution_count": 4,
   "id": "4cb3c4a8",
   "metadata": {},
   "outputs": [],
   "source": [
    "df=pd.read_csv(\"../data/train.csv\")\n",
    "df_copy=df.copy()"
   ]
  },
  {
   "cell_type": "markdown",
   "id": "b09e9446",
   "metadata": {},
   "source": [
    "Let's retrieve the regressor made previously, together with some of the columns to impute"
   ]
  },
  {
   "cell_type": "raw",
   "id": "9456b551",
   "metadata": {},
   "source": [
    "#change SalePrice to log_SalePrice\n",
    "df=log_and_return(df,\"SalePrice\",drop=True)\n",
    "\n",
    "#one hot encode only categorical features\n",
    "df_new=onehot_encode_categorical_features(df)\n",
    "\n",
    "#look at correlation to log_saleprice\n",
    "single_correlation_map(df_new,\"log_SalePrice\")"
   ]
  },
  {
   "cell_type": "code",
   "execution_count": 5,
   "id": "fef9cbeb",
   "metadata": {},
   "outputs": [],
   "source": [
    "cols_to_impute_with_none=[\"Pool QC\",\"Misc Feature\",\"Alley\",\"Fence\",\"Fireplace Qu\",\n",
    "                          \"Garage Finish\",\"Garage Qual\",\"Garage Cond\",\"Garage Type\",\n",
    "                         \"Bsmt Exposure\",\"BsmtFin Type 2\",\"Bsmt Cond\",\"Bsmt Qual\",\"BsmtFin Type 1\",\n",
    "                         \"Mas Vnr Type\"]\n",
    "\n",
    "cols_to_impute_with_zero=[\"Garage Yr Blt\",\"Mas Vnr Area\",\"Bsmt Full Bath\",\"Bsmt Half Bath\",\"Garage Area\",\n",
    "                         \"Garage Cars\",\"Total Bsmt SF\",\"Bsmt Unf SF\",\"BsmtFin SF 2\",\"BsmtFin SF 1\"]\n",
    "\n",
    "cols_to_impute_with_mode=[\"Electrical\"]"
   ]
  },
  {
   "cell_type": "code",
   "execution_count": 6,
   "id": "92371a74",
   "metadata": {},
   "outputs": [],
   "source": [
    "#get a full list of one-hot-encoded feature names, as this will become misaligned once KFold splits up the training set.\n",
    "full_ohe_list=list(pd.get_dummies(df.select_dtypes(exclude='number'),drop_first=True).columns)"
   ]
  },
  {
   "cell_type": "code",
   "execution_count": 7,
   "id": "ff4fd78a",
   "metadata": {},
   "outputs": [],
   "source": [
    "#Create a regressor to dynamically creates a pipeline\n",
    "def create_regressor(model,**kwargs):\n",
    "    '''\n",
    "    model: estimator instance\n",
    "    return: TransformedTargetRegressor\n",
    "    '''\n",
    "    pipeline=Pipeline(steps=[\n",
    "#         ('selector',FeatureSelector(**kwargs)),\n",
    "        ('standard_impute',StandardImpute(none=cols_to_impute_with_none,\n",
    "                                          zero=cols_to_impute_with_zero,\n",
    "                                          mode=cols_to_impute_with_mode)),\n",
    "        ('lot_frotage_impute',LotFrontageImpute()),\n",
    "        ('ordinal_to_numerical',OrdinalToNumeric()),\n",
    "        ('selector',FeatureSelector(**kwargs)),\n",
    "#         ('onehotencode',OneHotEncode()),\n",
    "#         ('align_train_and_predict',AlignTrainPredict(full_feature_list=full_ohe_list)), #This is to align the train and predict DF in case they are different\n",
    "        ('passthrough',Passthrough()), #Passthrough step, does nothing. Only exists to allow external code to retrieve feature names.\n",
    "        ('model',model)\n",
    "    ])\n",
    "    \n",
    "    return TransformedTargetRegressor(regressor=pipeline,\n",
    "                                    func=np.log1p,\n",
    "                                    inverse_func=np.expm1\n",
    "                                    )"
   ]
  },
  {
   "cell_type": "code",
   "execution_count": 8,
   "id": "7b6f0c9c",
   "metadata": {},
   "outputs": [],
   "source": [
    "#set up X and Y\n",
    "X=df.drop(columns=\"SalePrice\")\n",
    "y=df[\"SalePrice\"]\n",
    "\n",
    "#make a backup copy\n",
    "X_copy=X.copy()\n",
    "y_copy=y.copy()"
   ]
  },
  {
   "cell_type": "code",
   "execution_count": 9,
   "id": "5373f6ec",
   "metadata": {
    "scrolled": false
   },
   "outputs": [
    {
     "data": {
      "application/vnd.jupyter.widget-view+json": {
       "model_id": "95d5501865bd41bb94fb931be3678a30",
       "version_major": 2,
       "version_minor": 0
      },
      "text/plain": [
       "0it [00:00, ?it/s]"
      ]
     },
     "metadata": {},
     "output_type": "display_data"
    }
   ],
   "source": [
    "RMSE=[]\n",
    "coefficients=[]\n",
    "feature_names=None\n",
    "\n",
    "#create regressor and instruct to keep only numerical features\n",
    "lr=create_regressor(LinearRegression(),by=\"numerical\")\n",
    "\n",
    "#run 10 K Folds and store the coefficients and RMSE to a list.\n",
    "kf=KFold(n_splits=5,random_state=30,shuffle=True)\n",
    "for train_index, test_index in tqdm(kf.split(X_copy.copy())):\n",
    "    X_train, X_test = X.iloc[train_index], X.iloc[test_index]\n",
    "    y_train, y_test = y[train_index], y[test_index]\n",
    "    \n",
    "    lr.fit(X_train,y_train)\n",
    "    ypred=lr.predict(X_test)\n",
    "    RMSE.append(mean_squared_error(y_test,ypred,squared=False))\n",
    "    coefficients.append(lr.regressor_['model'].coef_)\n",
    "    feature_names=list(lr.regressor_['passthrough'].get_feature_names())"
   ]
  },
  {
   "cell_type": "code",
   "execution_count": 10,
   "id": "6bb5fa9b",
   "metadata": {},
   "outputs": [
    {
     "data": {
      "text/plain": [
       "59998.51682492746"
      ]
     },
     "execution_count": 10,
     "metadata": {},
     "output_type": "execute_result"
    }
   ],
   "source": [
    "np.mean(RMSE)"
   ]
  },
  {
   "cell_type": "markdown",
   "id": "f1cc2134",
   "metadata": {},
   "source": [
    "That's not very good. Let's look at the coefficients."
   ]
  },
  {
   "cell_type": "code",
   "execution_count": 35,
   "id": "6671130c",
   "metadata": {},
   "outputs": [],
   "source": [
    "#retrieve list of features whose |coefficients| are top X\n",
    "coeff_top_x=10\n",
    "dfcoeff=np.abs(pd.DataFrame(coefficients,columns=feature_names).mean())\n",
    "\n",
    "# features_to_keep=list(dfcoeff.mean().loc[lambda x:np.abs(x)>coeff_cutoff].index)\n",
    "# features_to_keep\n",
    "list_=list(dfcoeff.sort_values(ascending=False).head(coeff_top_x).index)"
   ]
  },
  {
   "cell_type": "markdown",
   "id": "217a40b5",
   "metadata": {},
   "source": [
    "Let's have a new list of features from above, and those from part 2"
   ]
  },
  {
   "cell_type": "code",
   "execution_count": 36,
   "id": "00fc2328",
   "metadata": {},
   "outputs": [
    {
     "data": {
      "text/plain": [
       "['Overall Cond',\n",
       " 'Kitchen AbvGr',\n",
       " 'Fireplaces',\n",
       " 'Bsmt Full Bath',\n",
       " 'Full Bath',\n",
       " 'TotRms AbvGrd',\n",
       " 'Garage Cars',\n",
       " 'Land Slope',\n",
       " 'Overall Qual',\n",
       " 'Central Air',\n",
       " 'Yr Sold',\n",
       " 'Kitchen Qual']"
      ]
     },
     "execution_count": 36,
     "metadata": {},
     "output_type": "execute_result"
    }
   ],
   "source": [
    "features_to_keep=list(set([\n",
    "*['Overall Qual',\n",
    " 'Overall Cond',\n",
    " 'Bsmt Full Bath',\n",
    " 'Full Bath',\n",
    " 'Kitchen AbvGr',\n",
    " 'TotRms AbvGrd',\n",
    " 'Fireplaces',\n",
    " 'Garage Cars',\n",
    " 'Yr Sold'],\n",
    "    *list_]\n",
    "))\n",
    "features_to_keep"
   ]
  },
  {
   "cell_type": "code",
   "execution_count": 37,
   "id": "cc66ee0c",
   "metadata": {},
   "outputs": [
    {
     "data": {
      "application/vnd.jupyter.widget-view+json": {
       "model_id": "ca17b95f810b45eeb99d197bf22d6171",
       "version_major": 2,
       "version_minor": 0
      },
      "text/plain": [
       "0it [00:00, ?it/s]"
      ]
     },
     "metadata": {},
     "output_type": "display_data"
    }
   ],
   "source": [
    "RMSE=[]\n",
    "coefficients=[]\n",
    "feature_names=None\n",
    "\n",
    "#create regressor and instruct to keep only numerical features\n",
    "lr=create_regressor(LinearRegression(),feature_names=features_to_keep)\n",
    "\n",
    "#run 10 K Folds and store the coefficients and RMSE to a list.\n",
    "kf=KFold(n_splits=5,random_state=30,shuffle=True)\n",
    "for train_index, test_index in tqdm(kf.split(X_copy.copy())):\n",
    "    X_train, X_test = X.iloc[train_index], X.iloc[test_index]\n",
    "    y_train, y_test = y[train_index], y[test_index]\n",
    "    \n",
    "    lr.fit(X_train,y_train)\n",
    "    ypred=lr.predict(X_test)\n",
    "    RMSE.append(mean_squared_error(y_test,ypred,squared=False))\n",
    "    coefficients.append(lr.regressor_['model'].coef_)\n",
    "    feature_names=list(lr.regressor_['passthrough'].get_feature_names())"
   ]
  },
  {
   "cell_type": "code",
   "execution_count": 38,
   "id": "575c7706",
   "metadata": {},
   "outputs": [
    {
     "data": {
      "text/plain": [
       "33355.352814555205"
      ]
     },
     "execution_count": 38,
     "metadata": {},
     "output_type": "execute_result"
    }
   ],
   "source": [
    "np.mean(RMSE)"
   ]
  },
  {
   "cell_type": "markdown",
   "id": "a9b00537",
   "metadata": {},
   "source": [
    "### Try a submission"
   ]
  },
  {
   "cell_type": "code",
   "execution_count": null,
   "id": "77ed4acd",
   "metadata": {},
   "outputs": [],
   "source": [
    "#Instantiate a copy of Tester helper class\n",
    "tester=Tester(\"../data/test.csv\")"
   ]
  },
  {
   "cell_type": "code",
   "execution_count": null,
   "id": "198822f4",
   "metadata": {},
   "outputs": [],
   "source": [
    "lr.fit(X, y)#obtain a copy of the test set\n",
    "df_test=tester.get_test_df()"
   ]
  },
  {
   "cell_type": "code",
   "execution_count": null,
   "id": "4bfd6745",
   "metadata": {},
   "outputs": [],
   "source": [
    "#reset the df\n",
    "X=X_copy.copy()\n",
    "\n",
    "#instantiate and train the model\n",
    "lr=create_regressor(LinearRegression(),feature_names=features_to_keep)\n",
    "lr.fit(X,y)"
   ]
  },
  {
   "cell_type": "code",
   "execution_count": null,
   "id": "08e71dd0",
   "metadata": {},
   "outputs": [],
   "source": [
    "#make prediction\n",
    "ypred=lr.predict(df_test)"
   ]
  },
  {
   "cell_type": "code",
   "execution_count": null,
   "id": "04d3f8d0",
   "metadata": {},
   "outputs": [],
   "source": [
    "tester.write_submission(ypred,\"../data/03_ordinals_to_numerical.csv\")"
   ]
  }
 ],
 "metadata": {
  "kernelspec": {
   "display_name": "Python 3 (ipykernel)",
   "language": "python",
   "name": "python3"
  },
  "language_info": {
   "codemirror_mode": {
    "name": "ipython",
    "version": 3
   },
   "file_extension": ".py",
   "mimetype": "text/x-python",
   "name": "python",
   "nbconvert_exporter": "python",
   "pygments_lexer": "ipython3",
   "version": "3.9.12"
  }
 },
 "nbformat": 4,
 "nbformat_minor": 5
}
