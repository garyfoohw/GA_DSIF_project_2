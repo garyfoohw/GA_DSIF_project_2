{
 "cells": [
  {
   "cell_type": "code",
   "execution_count": 1,
   "id": "510558b4",
   "metadata": {},
   "outputs": [],
   "source": [
    "%run utils.ipynb"
   ]
  },
  {
   "cell_type": "code",
   "execution_count": 2,
   "id": "04283e34",
   "metadata": {},
   "outputs": [],
   "source": [
    "warnings.filterwarnings('ignore')"
   ]
  },
  {
   "cell_type": "code",
   "execution_count": 3,
   "id": "85ff2627",
   "metadata": {},
   "outputs": [],
   "source": [
    "pd.set_option(\"display.max_rows\",None)\n",
    "pd.set_option(\"display.max_columns\",None)"
   ]
  },
  {
   "cell_type": "code",
   "execution_count": 4,
   "id": "6328dc0e",
   "metadata": {},
   "outputs": [],
   "source": [
    "df=pd.read_csv(\"../data/train.csv\")\n",
    "\n",
    "#drop some useless columns\n",
    "cols_to_drop=[\"Id\",\"PID\"]\n",
    "df=df.drop(columns=cols_to_drop)\n",
    "\n",
    "#drop outliers identified in part 1\n",
    "df=df[df['Gr Liv Area']<=4500]\n",
    "df=df[df['SalePrice']>np.expm1(10)]\n",
    "\n",
    "df_copy=df.copy()"
   ]
  },
  {
   "cell_type": "code",
   "execution_count": 5,
   "id": "7f03494a",
   "metadata": {},
   "outputs": [],
   "source": [
    "correlated_to_drop=[\"1st Flr SF\",\"Garage Yr Blt\",\"TotRms AbvGrd\",\"Garage Area\"]"
   ]
  },
  {
   "cell_type": "markdown",
   "id": "4c1ce25b",
   "metadata": {},
   "source": [
    "### Let's run a simple Linear Regression using all the numerical features"
   ]
  },
  {
   "cell_type": "markdown",
   "id": "cfc7f3e8",
   "metadata": {},
   "source": [
    "### Set up model"
   ]
  },
  {
   "cell_type": "code",
   "execution_count": 6,
   "id": "718c58d1",
   "metadata": {},
   "outputs": [],
   "source": [
    "#set up X and Y\n",
    "X=df.drop(columns=\"SalePrice\")\n",
    "y=df[\"SalePrice\"]\n",
    "\n",
    "#make a backup copy\n",
    "X_copy=X.copy()\n",
    "y_copy=y.copy()"
   ]
  },
  {
   "cell_type": "markdown",
   "id": "feb447c2",
   "metadata": {},
   "source": [
    "#### Set up a `TransformedTargetRegressor` to handle the log / exponential transformation of the label  \n",
    "Uses Pipeline to perform preprocessing and prediction"
   ]
  },
  {
   "cell_type": "code",
   "execution_count": 7,
   "id": "68234628",
   "metadata": {},
   "outputs": [],
   "source": [
    "#Create a regressor to dynamically creates a pipeline\n",
    "def create_regressor(model,**kwargs):\n",
    "    '''\n",
    "    model: estimator instance\n",
    "    return: TransformedTargetRegressor\n",
    "    '''\n",
    "    pipeline=Pipeline(steps=[\n",
    "        ('drop_correlated',DropCorrelated(correlated_to_drop)),\n",
    "        ('ms_subclass_convert',MSSubClassConvert()),\n",
    "        ('selector',FeatureSelector(**kwargs)),\n",
    "        ('impute_zero',ImputeZero()),\n",
    "#         ('align_train_and_predict',AlignTrainPredict()), #This is to align the train and predict DF in case they are different\n",
    "        ('passthrough',Passthrough()), #Passthrough step, does nothing. Only exists to allow external code to retrieve feature names.\n",
    "        ('model',model)\n",
    "    ])\n",
    "        \n",
    "    return TransformedTargetRegressor(regressor=pipeline,\n",
    "                                    func=np.log1p,\n",
    "                                    inverse_func=np.expm1)"
   ]
  },
  {
   "cell_type": "code",
   "execution_count": 8,
   "id": "256e9559",
   "metadata": {},
   "outputs": [],
   "source": [
    "RMSE=[]\n",
    "coefficients=[]\n",
    "feature_names=None\n",
    "\n",
    "#create regressor and instruct to keep only numerical features\n",
    "lr=create_regressor(LinearRegression(),by=\"numerical\")\n",
    "\n",
    "#run 10 K Folds and store the coefficients and RMSE to a list.\n",
    "kf=KFold(n_splits=10,random_state=30,shuffle=True)\n",
    "for train_index, test_index in kf.split(X_copy.copy()):\n",
    "    X_train, X_test = X.iloc[train_index], X.iloc[test_index]\n",
    "    y_train, y_test = y.iloc[train_index], y.iloc[test_index]\n",
    "    \n",
    "    lr.fit(X_train,y_train)\n",
    "    ypred=lr.predict(X_test)\n",
    "    RMSE.append(mean_squared_error(y_test,ypred,squared=False))\n",
    "    coefficients.append(lr.regressor_['model'].coef_)\n",
    "    feature_names=list(lr.regressor_['passthrough'].get_feature_names())"
   ]
  },
  {
   "cell_type": "code",
   "execution_count": 9,
   "id": "310090bb",
   "metadata": {},
   "outputs": [
    {
     "data": {
      "text/plain": [
       "23331.23663436534"
      ]
     },
     "execution_count": 9,
     "metadata": {},
     "output_type": "execute_result"
    }
   ],
   "source": [
    "np.mean(RMSE)"
   ]
  },
  {
   "cell_type": "markdown",
   "id": "cdd34898",
   "metadata": {},
   "source": [
    "Wow, this is better than what we had in part 1 (27098).  \n",
    "However, this is becuase we used **all** numerical features.  \n",
    "Let's try to dynamically iterate through all variables, and find the top X numbers to use."
   ]
  },
  {
   "cell_type": "raw",
   "id": "2c8c072e",
   "metadata": {},
   "source": [
    "feature_names"
   ]
  },
  {
   "cell_type": "raw",
   "id": "bfd03c9a",
   "metadata": {},
   "source": [
    "#retrieve list of features whose |coefficients| are >= 0.01\n",
    "coeff_cutoff=0.01\n",
    "dfcoeff=pd.DataFrame(coefficients,columns=feature_names)\n",
    "features_to_keep=list(dfcoeff.mean().loc[lambda x:np.abs(x)>coeff_cutoff].index)\n",
    "features_to_keep"
   ]
  },
  {
   "cell_type": "markdown",
   "id": "8baec428",
   "metadata": {},
   "source": [
    "Let's try again with reduced number of features."
   ]
  },
  {
   "cell_type": "code",
   "execution_count": 10,
   "id": "c2a6c693",
   "metadata": {},
   "outputs": [],
   "source": [
    "dfcoeff=np.abs(pd.DataFrame(coefficients,columns=feature_names).mean()).sort_values(ascending=False)"
   ]
  },
  {
   "cell_type": "code",
   "execution_count": 11,
   "id": "c0070f64",
   "metadata": {},
   "outputs": [],
   "source": [
    "results=[]\n",
    "\n",
    "for coeff_top_x in range(3,len(feature_names)+1):\n",
    "    # features_to_keep\n",
    "    features_to_keep=list(dfcoeff.head(coeff_top_x).index)\n",
    "    \n",
    "    RMSE=[]\n",
    "\n",
    "    lr=create_regressor(LinearRegression(),feature_names=features_to_keep)\n",
    "\n",
    "    kf=KFold(n_splits=10,random_state=30,shuffle=True)\n",
    "    for train_index, test_index in kf.split(X_copy.copy()):\n",
    "        X_train, X_test = X.iloc[train_index], X.iloc[test_index]\n",
    "        y_train, y_test = y.iloc[train_index], y.iloc[test_index]\n",
    "\n",
    "        lr.fit(X_train,y_train)\n",
    "        ypred=lr.predict(X_test)\n",
    "        RMSE.append(mean_squared_error(y_test,ypred,squared=False))\n",
    "\n",
    "    results.append({'feat_count':coeff_top_x,'RMSE':np.mean(RMSE)})"
   ]
  },
  {
   "cell_type": "code",
   "execution_count": 12,
   "id": "cef1dc80",
   "metadata": {
    "scrolled": false
   },
   "outputs": [
    {
     "data": {
      "image/png": "[encoded data removed]",
      "text/plain": [
       "<Figure size 432x288 with 1 Axes>"
      ]
     },
     "metadata": {
      "needs_background": "light"
     },
     "output_type": "display_data"
    }
   ],
   "source": [
    "ax=pd.DataFrame(results).plot(x=\"feat_count\",y=\"RMSE\",grid=True)\n",
    "ax.xaxis.grid(True, which='minor', linestyle='-', linewidth=0.25)"
   ]
  },
  {
   "cell_type": "markdown",
   "id": "451cfed1",
   "metadata": {},
   "source": [
    "Sweet spot seems to be a sweet spot at 21, about 23000 RMSE.\n",
    "Let's pick the top 21 features here."
   ]
  },
  {
   "cell_type": "code",
   "execution_count": 13,
   "id": "19f98f20",
   "metadata": {},
   "outputs": [
    {
     "data": {
      "text/plain": [
       "['Kitchen AbvGr',\n",
       " 'Overall Qual',\n",
       " 'Overall Cond',\n",
       " 'Garage Cars',\n",
       " 'Fireplaces',\n",
       " 'Bsmt Full Bath',\n",
       " 'Yr Sold',\n",
       " 'Half Bath',\n",
       " 'Bsmt Half Bath',\n",
       " 'Year Built',\n",
       " 'Bedroom AbvGr',\n",
       " 'Full Bath',\n",
       " 'Year Remod/Add',\n",
       " 'Lot Frontage',\n",
       " 'Gr Liv Area',\n",
       " 'Screen Porch',\n",
       " 'Low Qual Fin SF',\n",
       " '3Ssn Porch',\n",
       " 'Enclosed Porch',\n",
       " 'Total Bsmt SF',\n",
       " 'BsmtFin SF 1',\n",
       " 'Mo Sold']"
      ]
     },
     "execution_count": 13,
     "metadata": {},
     "output_type": "execute_result"
    }
   ],
   "source": [
    "features_to_keep=list(dfcoeff.head(21).index)\n",
    "features_to_keep"
   ]
  },
  {
   "cell_type": "markdown",
   "id": "fd7b2f30",
   "metadata": {},
   "source": [
    "### Try a submission"
   ]
  },
  {
   "cell_type": "code",
   "execution_count": 15,
   "id": "8c1227e0",
   "metadata": {},
   "outputs": [],
   "source": [
    "#Instantiate a copy of Tester helper class\n",
    "tester=Tester(\"../data/test.csv\")"
   ]
  },
  {
   "cell_type": "code",
   "execution_count": 16,
   "id": "9f4fdeae",
   "metadata": {},
   "outputs": [],
   "source": [
    "#obtain a copy of the test set\n",
    "df_test=tester.get_test_df()"
   ]
  },
  {
   "cell_type": "code",
   "execution_count": 17,
   "id": "1a5dd3e6",
   "metadata": {},
   "outputs": [
    {
     "data": {
      "text/html": [
       "<style>#sk-container-id-1 {color: black;background-color: white;}#sk-container-id-1 pre{padding: 0;}#sk-container-id-1 div.sk-toggleable {background-color: white;}#sk-container-id-1 label.sk-toggleable__label {cursor: pointer;display: block;width: 100%;margin-bottom: 0;padding: 0.3em;box-sizing: border-box;text-align: center;}#sk-container-id-1 label.sk-toggleable__label-arrow:before {content: \"▸\";float: left;margin-right: 0.25em;color: #696969;}#sk-container-id-1 label.sk-toggleable__label-arrow:hover:before {color: black;}#sk-container-id-1 div.sk-estimator:hover label.sk-toggleable__label-arrow:before {color: black;}#sk-container-id-1 div.sk-toggleable__content {max-height: 0;max-width: 0;overflow: hidden;text-align: left;background-color: #f0f8ff;}#sk-container-id-1 div.sk-toggleable__content pre {margin: 0.2em;color: black;border-radius: 0.25em;background-color: #f0f8ff;}#sk-container-id-1 input.sk-toggleable__control:checked~div.sk-toggleable__content {max-height: 200px;max-width: 100%;overflow: auto;}#sk-container-id-1 input.sk-toggleable__control:checked~label.sk-toggleable__label-arrow:before {content: \"▾\";}#sk-container-id-1 div.sk-estimator input.sk-toggleable__control:checked~label.sk-toggleable__label {background-color: #d4ebff;}#sk-container-id-1 div.sk-label input.sk-toggleable__control:checked~label.sk-toggleable__label {background-color: #d4ebff;}#sk-container-id-1 input.sk-hidden--visually {border: 0;clip: rect(1px 1px 1px 1px);clip: rect(1px, 1px, 1px, 1px);height: 1px;margin: -1px;overflow: hidden;padding: 0;position: absolute;width: 1px;}#sk-container-id-1 div.sk-estimator {font-family: monospace;background-color: #f0f8ff;border: 1px dotted black;border-radius: 0.25em;box-sizing: border-box;margin-bottom: 0.5em;}#sk-container-id-1 div.sk-estimator:hover {background-color: #d4ebff;}#sk-container-id-1 div.sk-parallel-item::after {content: \"\";width: 100%;border-bottom: 1px solid gray;flex-grow: 1;}#sk-container-id-1 div.sk-label:hover label.sk-toggleable__label {background-color: #d4ebff;}#sk-container-id-1 div.sk-serial::before {content: \"\";position: absolute;border-left: 1px solid gray;box-sizing: border-box;top: 0;bottom: 0;left: 50%;z-index: 0;}#sk-container-id-1 div.sk-serial {display: flex;flex-direction: column;align-items: center;background-color: white;padding-right: 0.2em;padding-left: 0.2em;position: relative;}#sk-container-id-1 div.sk-item {position: relative;z-index: 1;}#sk-container-id-1 div.sk-parallel {display: flex;align-items: stretch;justify-content: center;background-color: white;position: relative;}#sk-container-id-1 div.sk-item::before, #sk-container-id-1 div.sk-parallel-item::before {content: \"\";position: absolute;border-left: 1px solid gray;box-sizing: border-box;top: 0;bottom: 0;left: 50%;z-index: -1;}#sk-container-id-1 div.sk-parallel-item {display: flex;flex-direction: column;z-index: 1;position: relative;background-color: white;}#sk-container-id-1 div.sk-parallel-item:first-child::after {align-self: flex-end;width: 50%;}#sk-container-id-1 div.sk-parallel-item:last-child::after {align-self: flex-start;width: 50%;}#sk-container-id-1 div.sk-parallel-item:only-child::after {width: 0;}#sk-container-id-1 div.sk-dashed-wrapped {border: 1px dashed gray;margin: 0 0.4em 0.5em 0.4em;box-sizing: border-box;padding-bottom: 0.4em;background-color: white;}#sk-container-id-1 div.sk-label label {font-family: monospace;font-weight: bold;display: inline-block;line-height: 1.2em;}#sk-container-id-1 div.sk-label-container {text-align: center;}#sk-container-id-1 div.sk-container {/* jupyter's `normalize.less` sets `[hidden] { display: none; }` but bootstrap.min.css set `[hidden] { display: none !important; }` so we also need the `!important` here to be able to override the default hidden behavior on the sphinx rendered scikit-learn.org. See: https://github.com/scikit-learn/scikit-learn/issues/21755 */display: inline-block !important;position: relative;}#sk-container-id-1 div.sk-text-repr-fallback {display: none;}</style><div id=\"sk-container-id-1\" class=\"sk-top-container\"><div class=\"sk-text-repr-fallback\"><pre>TransformedTargetRegressor(func=&lt;ufunc &#x27;log1p&#x27;&gt;, inverse_func=&lt;ufunc &#x27;expm1&#x27;&gt;,\n",
       "                           regressor=Pipeline(steps=[(&#x27;drop_correlated&#x27;,\n",
       "                                                      DropCorrelated(drop=[&#x27;1st &#x27;\n",
       "                                                                           &#x27;Flr &#x27;\n",
       "                                                                           &#x27;SF&#x27;,\n",
       "                                                                           &#x27;Garage &#x27;\n",
       "                                                                           &#x27;Yr &#x27;\n",
       "                                                                           &#x27;Blt&#x27;,\n",
       "                                                                           &#x27;TotRms &#x27;\n",
       "                                                                           &#x27;AbvGrd&#x27;,\n",
       "                                                                           &#x27;Garage &#x27;\n",
       "                                                                           &#x27;Area&#x27;])),\n",
       "                                                     (&#x27;ms_subclass_convert&#x27;,\n",
       "                                                      MSSubClassConvert()),\n",
       "                                                     (&#x27;selector&#x27;,\n",
       "                                                      FeatureSelector(feature_names=[&#x27;Kitchen &#x27;\n",
       "                                                                                     &#x27;AbvGr&#x27;,\n",
       "                                                                                     &#x27;Overall &#x27;\n",
       "                                                                                     &#x27;Qual&#x27;,\n",
       "                                                                                     &#x27;Overall &#x27;\n",
       "                                                                                     &#x27;Cond&#x27;,\n",
       "                                                                                     &#x27;Gara...\n",
       "                                                                                     &#x27;Bath&#x27;,\n",
       "                                                                                     &#x27;Yr &#x27;\n",
       "                                                                                     &#x27;Sold&#x27;,\n",
       "                                                                                     &#x27;Half &#x27;\n",
       "                                                                                     &#x27;Bath&#x27;,\n",
       "                                                                                     &#x27;Bsmt &#x27;\n",
       "                                                                                     &#x27;Half &#x27;\n",
       "                                                                                     &#x27;Bath&#x27;,\n",
       "                                                                                     &#x27;Year &#x27;\n",
       "                                                                                     &#x27;Built&#x27;,\n",
       "                                                                                     &#x27;Bedroom &#x27;\n",
       "                                                                                     &#x27;AbvGr&#x27;,\n",
       "                                                                                     &#x27;Full &#x27;\n",
       "                                                                                     &#x27;Bath&#x27;,\n",
       "                                                                                     &#x27;Year &#x27;\n",
       "                                                                                     &#x27;Remod/Add&#x27;,\n",
       "                                                                                     &#x27;Lot &#x27;\n",
       "                                                                                     &#x27;Frontage&#x27;,\n",
       "                                                                                     &#x27;Gr &#x27;\n",
       "                                                                                     &#x27;Liv &#x27;\n",
       "                                                                                     &#x27;Area&#x27;,\n",
       "                                                                                     &#x27;Screen &#x27;\n",
       "                                                                                     &#x27;Porch&#x27;,\n",
       "                                                                                     &#x27;Low &#x27;\n",
       "                                                                                     &#x27;Qual &#x27;\n",
       "                                                                                     &#x27;Fin &#x27;\n",
       "                                                                                     &#x27;SF&#x27;,\n",
       "                                                                                     &#x27;3Ssn &#x27;\n",
       "                                                                                     &#x27;Porch&#x27;,\n",
       "                                                                                     &#x27;Enclosed &#x27;\n",
       "                                                                                     &#x27;Porch&#x27;,\n",
       "                                                                                     &#x27;Total &#x27;\n",
       "                                                                                     &#x27;Bsmt &#x27;\n",
       "                                                                                     &#x27;SF&#x27;,\n",
       "                                                                                     &#x27;BsmtFin &#x27;\n",
       "                                                                                     &#x27;SF &#x27;\n",
       "                                                                                     &#x27;1&#x27;,\n",
       "                                                                                     &#x27;Mo &#x27;\n",
       "                                                                                     &#x27;Sold&#x27;])),\n",
       "                                                     (&#x27;impute_zero&#x27;,\n",
       "                                                      ImputeZero()),\n",
       "                                                     (&#x27;passthrough&#x27;,\n",
       "                                                      Passthrough()),\n",
       "                                                     (&#x27;model&#x27;,\n",
       "                                                      LinearRegression())]))</pre><b>In a Jupyter environment, please rerun this cell to show the HTML representation or trust the notebook. <br />On GitHub, the HTML representation is unable to render, please try loading this page with nbviewer.org.</b></div><div class=\"sk-container\" hidden><div class=\"sk-item sk-dashed-wrapped\"><div class=\"sk-label-container\"><div class=\"sk-label sk-toggleable\"><input class=\"sk-toggleable__control sk-hidden--visually\" id=\"sk-estimator-id-1\" type=\"checkbox\" ><label for=\"sk-estimator-id-1\" class=\"sk-toggleable__label sk-toggleable__label-arrow\">TransformedTargetRegressor</label><div class=\"sk-toggleable__content\"><pre>TransformedTargetRegressor(func=&lt;ufunc &#x27;log1p&#x27;&gt;, inverse_func=&lt;ufunc &#x27;expm1&#x27;&gt;,\n",
       "                           regressor=Pipeline(steps=[(&#x27;drop_correlated&#x27;,\n",
       "                                                      DropCorrelated(drop=[&#x27;1st &#x27;\n",
       "                                                                           &#x27;Flr &#x27;\n",
       "                                                                           &#x27;SF&#x27;,\n",
       "                                                                           &#x27;Garage &#x27;\n",
       "                                                                           &#x27;Yr &#x27;\n",
       "                                                                           &#x27;Blt&#x27;,\n",
       "                                                                           &#x27;TotRms &#x27;\n",
       "                                                                           &#x27;AbvGrd&#x27;,\n",
       "                                                                           &#x27;Garage &#x27;\n",
       "                                                                           &#x27;Area&#x27;])),\n",
       "                                                     (&#x27;ms_subclass_convert&#x27;,\n",
       "                                                      MSSubClassConvert()),\n",
       "                                                     (&#x27;selector&#x27;,\n",
       "                                                      FeatureSelector(feature_names=[&#x27;Kitchen &#x27;\n",
       "                                                                                     &#x27;AbvGr&#x27;,\n",
       "                                                                                     &#x27;Overall &#x27;\n",
       "                                                                                     &#x27;Qual&#x27;,\n",
       "                                                                                     &#x27;Overall &#x27;\n",
       "                                                                                     &#x27;Cond&#x27;,\n",
       "                                                                                     &#x27;Gara...\n",
       "                                                                                     &#x27;Bath&#x27;,\n",
       "                                                                                     &#x27;Yr &#x27;\n",
       "                                                                                     &#x27;Sold&#x27;,\n",
       "                                                                                     &#x27;Half &#x27;\n",
       "                                                                                     &#x27;Bath&#x27;,\n",
       "                                                                                     &#x27;Bsmt &#x27;\n",
       "                                                                                     &#x27;Half &#x27;\n",
       "                                                                                     &#x27;Bath&#x27;,\n",
       "                                                                                     &#x27;Year &#x27;\n",
       "                                                                                     &#x27;Built&#x27;,\n",
       "                                                                                     &#x27;Bedroom &#x27;\n",
       "                                                                                     &#x27;AbvGr&#x27;,\n",
       "                                                                                     &#x27;Full &#x27;\n",
       "                                                                                     &#x27;Bath&#x27;,\n",
       "                                                                                     &#x27;Year &#x27;\n",
       "                                                                                     &#x27;Remod/Add&#x27;,\n",
       "                                                                                     &#x27;Lot &#x27;\n",
       "                                                                                     &#x27;Frontage&#x27;,\n",
       "                                                                                     &#x27;Gr &#x27;\n",
       "                                                                                     &#x27;Liv &#x27;\n",
       "                                                                                     &#x27;Area&#x27;,\n",
       "                                                                                     &#x27;Screen &#x27;\n",
       "                                                                                     &#x27;Porch&#x27;,\n",
       "                                                                                     &#x27;Low &#x27;\n",
       "                                                                                     &#x27;Qual &#x27;\n",
       "                                                                                     &#x27;Fin &#x27;\n",
       "                                                                                     &#x27;SF&#x27;,\n",
       "                                                                                     &#x27;3Ssn &#x27;\n",
       "                                                                                     &#x27;Porch&#x27;,\n",
       "                                                                                     &#x27;Enclosed &#x27;\n",
       "                                                                                     &#x27;Porch&#x27;,\n",
       "                                                                                     &#x27;Total &#x27;\n",
       "                                                                                     &#x27;Bsmt &#x27;\n",
       "                                                                                     &#x27;SF&#x27;,\n",
       "                                                                                     &#x27;BsmtFin &#x27;\n",
       "                                                                                     &#x27;SF &#x27;\n",
       "                                                                                     &#x27;1&#x27;,\n",
       "                                                                                     &#x27;Mo &#x27;\n",
       "                                                                                     &#x27;Sold&#x27;])),\n",
       "                                                     (&#x27;impute_zero&#x27;,\n",
       "                                                      ImputeZero()),\n",
       "                                                     (&#x27;passthrough&#x27;,\n",
       "                                                      Passthrough()),\n",
       "                                                     (&#x27;model&#x27;,\n",
       "                                                      LinearRegression())]))</pre></div></div></div><div class=\"sk-parallel\"><div class=\"sk-parallel-item\"><div class=\"sk-item\"><div class=\"sk-label-container\"><div class=\"sk-label sk-toggleable\"><input class=\"sk-toggleable__control sk-hidden--visually\" id=\"sk-estimator-id-2\" type=\"checkbox\" ><label for=\"sk-estimator-id-2\" class=\"sk-toggleable__label sk-toggleable__label-arrow\">regressor: Pipeline</label><div class=\"sk-toggleable__content\"><pre>Pipeline(steps=[(&#x27;drop_correlated&#x27;,\n",
       "                 DropCorrelated(drop=[&#x27;1st Flr SF&#x27;, &#x27;Garage Yr Blt&#x27;,\n",
       "                                      &#x27;TotRms AbvGrd&#x27;, &#x27;Garage Area&#x27;])),\n",
       "                (&#x27;ms_subclass_convert&#x27;, MSSubClassConvert()),\n",
       "                (&#x27;selector&#x27;,\n",
       "                 FeatureSelector(feature_names=[&#x27;Kitchen AbvGr&#x27;, &#x27;Overall Qual&#x27;,\n",
       "                                                &#x27;Overall Cond&#x27;, &#x27;Garage Cars&#x27;,\n",
       "                                                &#x27;Fireplaces&#x27;, &#x27;Bsmt Full Bath&#x27;,\n",
       "                                                &#x27;Yr Sold&#x27;, &#x27;Half Bath&#x27;,\n",
       "                                                &#x27;Bsmt Half Bath&#x27;, &#x27;Year Built&#x27;,\n",
       "                                                &#x27;Bedroom AbvGr&#x27;, &#x27;Full Bath&#x27;,\n",
       "                                                &#x27;Year Remod/Add&#x27;,\n",
       "                                                &#x27;Lot Frontage&#x27;, &#x27;Gr Liv Area&#x27;,\n",
       "                                                &#x27;Screen Porch&#x27;,\n",
       "                                                &#x27;Low Qual Fin SF&#x27;, &#x27;3Ssn Porch&#x27;,\n",
       "                                                &#x27;Enclosed Porch&#x27;,\n",
       "                                                &#x27;Total Bsmt SF&#x27;, &#x27;BsmtFin SF 1&#x27;,\n",
       "                                                &#x27;Mo Sold&#x27;])),\n",
       "                (&#x27;impute_zero&#x27;, ImputeZero()), (&#x27;passthrough&#x27;, Passthrough()),\n",
       "                (&#x27;model&#x27;, LinearRegression())])</pre></div></div></div><div class=\"sk-serial\"><div class=\"sk-item\"><div class=\"sk-serial\"><div class=\"sk-item\"><div class=\"sk-estimator sk-toggleable\"><input class=\"sk-toggleable__control sk-hidden--visually\" id=\"sk-estimator-id-3\" type=\"checkbox\" ><label for=\"sk-estimator-id-3\" class=\"sk-toggleable__label sk-toggleable__label-arrow\">DropCorrelated</label><div class=\"sk-toggleable__content\"><pre>DropCorrelated(drop=[&#x27;1st Flr SF&#x27;, &#x27;Garage Yr Blt&#x27;, &#x27;TotRms AbvGrd&#x27;,\n",
       "                     &#x27;Garage Area&#x27;])</pre></div></div></div><div class=\"sk-item\"><div class=\"sk-estimator sk-toggleable\"><input class=\"sk-toggleable__control sk-hidden--visually\" id=\"sk-estimator-id-4\" type=\"checkbox\" ><label for=\"sk-estimator-id-4\" class=\"sk-toggleable__label sk-toggleable__label-arrow\">MSSubClassConvert</label><div class=\"sk-toggleable__content\"><pre>MSSubClassConvert()</pre></div></div></div><div class=\"sk-item\"><div class=\"sk-estimator sk-toggleable\"><input class=\"sk-toggleable__control sk-hidden--visually\" id=\"sk-estimator-id-5\" type=\"checkbox\" ><label for=\"sk-estimator-id-5\" class=\"sk-toggleable__label sk-toggleable__label-arrow\">FeatureSelector</label><div class=\"sk-toggleable__content\"><pre>FeatureSelector(feature_names=[&#x27;Kitchen AbvGr&#x27;, &#x27;Overall Qual&#x27;, &#x27;Overall Cond&#x27;,\n",
       "                               &#x27;Garage Cars&#x27;, &#x27;Fireplaces&#x27;, &#x27;Bsmt Full Bath&#x27;,\n",
       "                               &#x27;Yr Sold&#x27;, &#x27;Half Bath&#x27;, &#x27;Bsmt Half Bath&#x27;,\n",
       "                               &#x27;Year Built&#x27;, &#x27;Bedroom AbvGr&#x27;, &#x27;Full Bath&#x27;,\n",
       "                               &#x27;Year Remod/Add&#x27;, &#x27;Lot Frontage&#x27;, &#x27;Gr Liv Area&#x27;,\n",
       "                               &#x27;Screen Porch&#x27;, &#x27;Low Qual Fin SF&#x27;, &#x27;3Ssn Porch&#x27;,\n",
       "                               &#x27;Enclosed Porch&#x27;, &#x27;Total Bsmt SF&#x27;,\n",
       "                               &#x27;BsmtFin SF 1&#x27;, &#x27;Mo Sold&#x27;])</pre></div></div></div><div class=\"sk-item\"><div class=\"sk-estimator sk-toggleable\"><input class=\"sk-toggleable__control sk-hidden--visually\" id=\"sk-estimator-id-6\" type=\"checkbox\" ><label for=\"sk-estimator-id-6\" class=\"sk-toggleable__label sk-toggleable__label-arrow\">ImputeZero</label><div class=\"sk-toggleable__content\"><pre>ImputeZero()</pre></div></div></div><div class=\"sk-item\"><div class=\"sk-estimator sk-toggleable\"><input class=\"sk-toggleable__control sk-hidden--visually\" id=\"sk-estimator-id-7\" type=\"checkbox\" ><label for=\"sk-estimator-id-7\" class=\"sk-toggleable__label sk-toggleable__label-arrow\">Passthrough</label><div class=\"sk-toggleable__content\"><pre>Passthrough()</pre></div></div></div><div class=\"sk-item\"><div class=\"sk-estimator sk-toggleable\"><input class=\"sk-toggleable__control sk-hidden--visually\" id=\"sk-estimator-id-8\" type=\"checkbox\" ><label for=\"sk-estimator-id-8\" class=\"sk-toggleable__label sk-toggleable__label-arrow\">LinearRegression</label><div class=\"sk-toggleable__content\"><pre>LinearRegression()</pre></div></div></div></div></div></div></div></div></div></div></div></div>"
      ],
      "text/plain": [
       "TransformedTargetRegressor(func=<ufunc 'log1p'>, inverse_func=<ufunc 'expm1'>,\n",
       "                           regressor=Pipeline(steps=[('drop_correlated',\n",
       "                                                      DropCorrelated(drop=['1st '\n",
       "                                                                           'Flr '\n",
       "                                                                           'SF',\n",
       "                                                                           'Garage '\n",
       "                                                                           'Yr '\n",
       "                                                                           'Blt',\n",
       "                                                                           'TotRms '\n",
       "                                                                           'AbvGrd',\n",
       "                                                                           'Garage '\n",
       "                                                                           'Area'])),\n",
       "                                                     ('ms_subclass_convert',\n",
       "                                                      MSSubClassConvert()),\n",
       "                                                     ('selector',\n",
       "                                                      FeatureSelector(feature_names=['Kitchen '\n",
       "                                                                                     'AbvGr',\n",
       "                                                                                     'Overall '\n",
       "                                                                                     'Qual',\n",
       "                                                                                     'Overall '\n",
       "                                                                                     'Cond',\n",
       "                                                                                     'Gara...\n",
       "                                                                                     'Bath',\n",
       "                                                                                     'Yr '\n",
       "                                                                                     'Sold',\n",
       "                                                                                     'Half '\n",
       "                                                                                     'Bath',\n",
       "                                                                                     'Bsmt '\n",
       "                                                                                     'Half '\n",
       "                                                                                     'Bath',\n",
       "                                                                                     'Year '\n",
       "                                                                                     'Built',\n",
       "                                                                                     'Bedroom '\n",
       "                                                                                     'AbvGr',\n",
       "                                                                                     'Full '\n",
       "                                                                                     'Bath',\n",
       "                                                                                     'Year '\n",
       "                                                                                     'Remod/Add',\n",
       "                                                                                     'Lot '\n",
       "                                                                                     'Frontage',\n",
       "                                                                                     'Gr '\n",
       "                                                                                     'Liv '\n",
       "                                                                                     'Area',\n",
       "                                                                                     'Screen '\n",
       "                                                                                     'Porch',\n",
       "                                                                                     'Low '\n",
       "                                                                                     'Qual '\n",
       "                                                                                     'Fin '\n",
       "                                                                                     'SF',\n",
       "                                                                                     '3Ssn '\n",
       "                                                                                     'Porch',\n",
       "                                                                                     'Enclosed '\n",
       "                                                                                     'Porch',\n",
       "                                                                                     'Total '\n",
       "                                                                                     'Bsmt '\n",
       "                                                                                     'SF',\n",
       "                                                                                     'BsmtFin '\n",
       "                                                                                     'SF '\n",
       "                                                                                     '1',\n",
       "                                                                                     'Mo '\n",
       "                                                                                     'Sold'])),\n",
       "                                                     ('impute_zero',\n",
       "                                                      ImputeZero()),\n",
       "                                                     ('passthrough',\n",
       "                                                      Passthrough()),\n",
       "                                                     ('model',\n",
       "                                                      LinearRegression())]))"
      ]
     },
     "execution_count": 17,
     "metadata": {},
     "output_type": "execute_result"
    }
   ],
   "source": [
    "#instantiate and train the model\n",
    "lr=create_regressor(LinearRegression(),feature_names=features_to_keep)\n",
    "lr.fit(X_copy.copy(),y)"
   ]
  },
  {
   "cell_type": "code",
   "execution_count": 18,
   "id": "c7d060b6",
   "metadata": {},
   "outputs": [],
   "source": [
    "#make prediction\n",
    "ypred=lr.predict(df_test)"
   ]
  },
  {
   "cell_type": "code",
   "execution_count": 19,
   "id": "a22015b9",
   "metadata": {},
   "outputs": [
    {
     "name": "stdout",
     "output_type": "stream",
     "text": [
      "Output saved to ../data/02_all_features_submission.csv\n"
     ]
    }
   ],
   "source": [
    "tester.write_submission(ypred,\"../data/02_all_features_submission.csv\")"
   ]
  }
 ],
 "metadata": {
  "kernelspec": {
   "display_name": "Python 3 (ipykernel)",
   "language": "python",
   "name": "python3"
  },
  "language_info": {
   "codemirror_mode": {
    "name": "ipython",
    "version": 3
   },
   "file_extension": ".py",
   "mimetype": "text/x-python",
   "name": "python",
   "nbconvert_exporter": "python",
   "pygments_lexer": "ipython3",
   "version": "3.9.12"
  }
 },
 "nbformat": 4,
 "nbformat_minor": 5
}
