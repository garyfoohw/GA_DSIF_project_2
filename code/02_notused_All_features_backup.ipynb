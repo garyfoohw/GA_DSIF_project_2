{
 "cells": [
  {
   "cell_type": "code",
   "execution_count": 1,
   "id": "510558b4",
   "metadata": {},
   "outputs": [],
   "source": [
    "%run utils.ipynb"
   ]
  },
  {
   "cell_type": "code",
   "execution_count": 2,
   "id": "04283e34",
   "metadata": {},
   "outputs": [],
   "source": [
    "warnings.filterwarnings('ignore')"
   ]
  },
  {
   "cell_type": "code",
   "execution_count": 3,
   "id": "85ff2627",
   "metadata": {},
   "outputs": [],
   "source": [
    "pd.set_option(\"display.max_rows\",None)\n",
    "pd.set_option(\"display.max_columns\",None)"
   ]
  },
  {
   "cell_type": "code",
   "execution_count": 4,
   "id": "6328dc0e",
   "metadata": {},
   "outputs": [],
   "source": [
    "df=pd.read_csv(\"../data/train.csv\")\n",
    "\n",
    "#drop some useless columns\n",
    "cols_to_drop=[\"Id\",\"PID\"]\n",
    "df=df.drop(columns=cols_to_drop)\n",
    "\n",
    "#drop outliers identified in part 1\n",
    "df=df[df['Gr Liv Area']<=4500]\n",
    "df=df[df['SalePrice']>np.expm1(10)]\n",
    "\n",
    "df_copy=df.copy()"
   ]
  },
  {
   "cell_type": "raw",
   "id": "834cfcac",
   "metadata": {},
   "source": [
    "#drop some useless columns\n",
    "cols_to_drop=[\"Id\",\"PID\"]\n",
    "df=df.drop(columns=cols_to_drop)"
   ]
  },
  {
   "cell_type": "raw",
   "id": "0e30f35c",
   "metadata": {},
   "source": [
    "#change SalePrice to log_SalePrice\n",
    "df=log_and_return(df,\"SalePrice\",drop=True)"
   ]
  },
  {
   "cell_type": "raw",
   "id": "3c2ae74e",
   "metadata": {},
   "source": [
    "#look at categorical columns\n",
    "df_c=df.select_dtypes(exclude='number')\n",
    "\n",
    "#look at numerical columns\n",
    "df_n=df.select_dtypes(include='number')"
   ]
  },
  {
   "cell_type": "markdown",
   "id": "225fe69e",
   "metadata": {},
   "source": [
    "Let's look at the rows which have null, and the numbers"
   ]
  },
  {
   "cell_type": "code",
   "execution_count": 5,
   "id": "098883e9",
   "metadata": {},
   "outputs": [
    {
     "data": {
      "text/plain": [
       "Pool QC           2039\n",
       "Misc Feature      1983\n",
       "Alley             1907\n",
       "Fence             1647\n",
       "Fireplace Qu       999\n",
       "Lot Frontage       330\n",
       "Garage Finish      114\n",
       "Garage Qual        114\n",
       "Garage Yr Blt      114\n",
       "Garage Cond        114\n",
       "Garage Type        113\n",
       "Bsmt Exposure       57\n",
       "BsmtFin Type 2      55\n",
       "Bsmt Cond           54\n",
       "Bsmt Qual           54\n",
       "BsmtFin Type 1      54\n",
       "Mas Vnr Area        22\n",
       "Mas Vnr Type        22\n",
       "Bsmt Full Bath       2\n",
       "Bsmt Half Bath       2\n",
       "Garage Area          1\n",
       "Garage Cars          1\n",
       "Total Bsmt SF        1\n",
       "Bsmt Unf SF          1\n",
       "BsmtFin SF 2         1\n",
       "BsmtFin SF 1         1\n",
       "dtype: int64"
      ]
     },
     "execution_count": 5,
     "metadata": {},
     "output_type": "execute_result"
    }
   ],
   "source": [
    "df_null=df.isnull().sum().sort_values(ascending=False).loc[lambda x: x>0]\n",
    "df_null"
   ]
  },
  {
   "cell_type": "markdown",
   "id": "c7058992",
   "metadata": {},
   "source": [
    "We will impute these columns one way or another."
   ]
  },
  {
   "cell_type": "markdown",
   "id": "330daff7",
   "metadata": {},
   "source": [
    "### Missing values"
   ]
  },
  {
   "cell_type": "code",
   "execution_count": 6,
   "id": "b54ef75b",
   "metadata": {},
   "outputs": [],
   "source": [
    "cols_to_impute_with_none=[\"Pool QC\",\"Misc Feature\",\"Alley\",\"Fence\",\"Fireplace Qu\",\n",
    "                          \"Garage Finish\",\"Garage Qual\",\"Garage Cond\",\"Garage Type\",\n",
    "                         \"Bsmt Exposure\",\"BsmtFin Type 2\",\"Bsmt Cond\",\"Bsmt Qual\",\"BsmtFin Type 1\",\n",
    "                         \"Mas Vnr Type\"]\n",
    "\n",
    "cols_to_impute_with_zero=[\"Garage Yr Blt\",\"Mas Vnr Area\",\"Bsmt Full Bath\",\"Bsmt Half Bath\",\"Garage Area\",\n",
    "                         \"Garage Cars\",\"Total Bsmt SF\",\"Bsmt Unf SF\",\"BsmtFin SF 2\",\"BsmtFin SF 1\"]\n",
    "\n",
    "cols_to_impute_with_mode=[\"Electrical\"]"
   ]
  },
  {
   "cell_type": "raw",
   "id": "8dd79205",
   "metadata": {},
   "source": [
    "for i in cols_to_impute_with_none:\n",
    "    df[i]=df[i].fillna(\"None\")\n",
    "    \n",
    "for j in cols_to_impute_with_zero:\n",
    "    df[j]=df[j].fillna(0)"
   ]
  },
  {
   "cell_type": "raw",
   "id": "99fab154",
   "metadata": {},
   "source": [
    "#Replace Lot Frontage with the median of the Neighborhood\n",
    "df['Lot Frontage']=df.groupby(by=\"Neighborhood\")['Lot Frontage'].transform(\n",
    "    lambda x: x.fillna(x.median() if not np.isnan(x.median()) else df['Lot Frontage'].median()))"
   ]
  },
  {
   "cell_type": "raw",
   "id": "d639634f",
   "metadata": {},
   "source": [
    "#Should show as 0, to ensure no more nulls\n",
    "df.isnull().sum().sum()"
   ]
  },
  {
   "cell_type": "markdown",
   "id": "30316523",
   "metadata": {},
   "source": [
    "Ok! everything looks good now."
   ]
  },
  {
   "cell_type": "markdown",
   "id": "16ced6a5",
   "metadata": {},
   "source": [
    "### We will change ordinal features to numerical"
   ]
  },
  {
   "cell_type": "raw",
   "id": "22d165d7",
   "metadata": {},
   "source": [
    "df=ordinal_to_rank(df)"
   ]
  },
  {
   "cell_type": "raw",
   "id": "bc43d8a1",
   "metadata": {},
   "source": [
    "#look at categorical columns\n",
    "df_c=df.select_dtypes(exclude='number')\n",
    "\n",
    "#look at numerical columns\n",
    "df_n=df.select_dtypes(include='number')\n",
    "\n",
    "df_c=pd.get_dummies(df_c,drop_first=True)\n",
    "\n",
    "df_new=pd.concat([df_n,df_c],axis=1)"
   ]
  },
  {
   "cell_type": "markdown",
   "id": "6ddda9ab",
   "metadata": {},
   "source": [
    "### We will one hot encode categorical features"
   ]
  },
  {
   "cell_type": "raw",
   "id": "cc656a93",
   "metadata": {},
   "source": [
    "df_new=onehot_encode_categorical_features(df)"
   ]
  },
  {
   "cell_type": "raw",
   "id": "f4a665f5",
   "metadata": {},
   "source": []
  },
  {
   "cell_type": "raw",
   "id": "33e86144",
   "metadata": {},
   "source": [
    "corrmap=df.corr()['log_SalePrice']"
   ]
  },
  {
   "cell_type": "raw",
   "id": "b9854dd9",
   "metadata": {},
   "source": [
    "corrmap.sort_values(ascending=False)[1:]*100"
   ]
  },
  {
   "cell_type": "markdown",
   "id": "a57b853d",
   "metadata": {},
   "source": [
    "Let's take a look at the correlation heatmap"
   ]
  },
  {
   "cell_type": "raw",
   "id": "74cb46ad",
   "metadata": {
    "scrolled": true
   },
   "source": [
    "correlation_map(df_new,title=\"Correlation map of all features\")"
   ]
  },
  {
   "cell_type": "markdown",
   "id": "32e79cd8",
   "metadata": {},
   "source": [
    "Not very useful, so let's just ignore for now."
   ]
  },
  {
   "cell_type": "raw",
   "id": "9ac484eb",
   "metadata": {},
   "source": [
    "single_correlation_map(df_new,\"log_SalePrice\")"
   ]
  },
  {
   "cell_type": "markdown",
   "id": "2a4054d8",
   "metadata": {},
   "source": [
    "From the 7 primary variables we had from part 1,  \n",
    "`Overall Qual`, `Gr Liv Area`, `Garage Cars`, `Year Built`, `Total Bsmt SF`, `Year Remod/Add`, `Full Bath`,   \n",
    "we now have a few more:  \n",
    "`Exter Qual`, `Kitchen Qual`, `Bsmt Qual`, `Garage Finish`, `Foundation_PConc`,`Fireplace Qu`, `Heating QC`."
   ]
  },
  {
   "cell_type": "raw",
   "id": "d8ff2408",
   "metadata": {},
   "source": [
    "features_to_keep=['Overall Qual','Gr Liv Area','Garage Cars','Year Built','Total Bsmt SF','Year Remod/Add','Full Bath',\n",
    "             'Exter Qual', 'Kitchen Qual', 'Bsmt Qual', 'Garage Finish', 'Foundation_PConc','Fireplace Qu', 'Heating QC']\n",
    "#include the label 'SalePrice' as all columns to keep\n",
    "cols_to_keep=[*features_to_keep,'SalePrice'] "
   ]
  },
  {
   "cell_type": "raw",
   "id": "a5f770e5",
   "metadata": {},
   "source": [
    "features_to_keep=['Overall Qual','Gr Liv Area','Garage Cars','Year Built','Total Bsmt SF','Year Remod/Add','Full Bath']\n",
    "#include the label 'SalePrice' as all columns to keep\n",
    "cols_to_keep=[*features_to_keep,'SalePrice'] "
   ]
  },
  {
   "cell_type": "markdown",
   "id": "4c1ce25b",
   "metadata": {},
   "source": [
    "### Let's run a simple Linear Regression using all the numerical features"
   ]
  },
  {
   "cell_type": "markdown",
   "id": "cfc7f3e8",
   "metadata": {},
   "source": [
    "### Set up model"
   ]
  },
  {
   "cell_type": "code",
   "execution_count": 7,
   "id": "718c58d1",
   "metadata": {},
   "outputs": [],
   "source": [
    "#retrieve df_train from backup\n",
    "df=df_copy.copy()\n",
    "\n",
    "#set up X and Y\n",
    "X=df.drop(columns=\"SalePrice\")\n",
    "y=df[\"SalePrice\"]\n",
    "\n",
    "#make a backup copy\n",
    "X_copy=X.copy()\n",
    "y_copy=y.copy()"
   ]
  },
  {
   "cell_type": "markdown",
   "id": "feb447c2",
   "metadata": {},
   "source": [
    "#### Set up a `TransformedTargetRegressor` to handle the log / exponential transformation of the label  \n",
    "Uses Pipeline to perform preprocessing and prediction"
   ]
  },
  {
   "cell_type": "code",
   "execution_count": 8,
   "id": "68234628",
   "metadata": {},
   "outputs": [],
   "source": [
    "#Create a regressor to dynamically creates a pipeline\n",
    "def create_regressor(model,**kwargs):\n",
    "    '''\n",
    "    model: estimator instance\n",
    "    return: TransformedTargetRegressor\n",
    "    '''\n",
    "    pipeline=Pipeline(steps=[\n",
    "        ('selector',FeatureSelector(**kwargs)),\n",
    "        ('simple_imputer',SimpleImputer(strategy=\"constant\",fill_value=0)),\n",
    "#         ('standard_impute',StandardImpute(none=cols_to_impute_with_none,\n",
    "#                                           zero=cols_to_impute_with_zero,\n",
    "#                                           mode=cols_to_impute_with_mode)),\n",
    "#         ('lot_frontage_impute',LotFrontageImpute()),\n",
    "#         ('ordinal_to_numerical',OrdinalToNumeric()),\n",
    "#         ('numerical_scaling',Scaling()) reserved for scaling\n",
    "#         ('onehotencode',OneHotEncode()),\n",
    "#         ('selector',FeatureSelector(features_to_keep)),\n",
    "        \n",
    "        \n",
    "#         ('categorical_numerical_split',Categorical_Numerical_Split),\n",
    "#         ('align_train_and_predict',AlignTrainPredict()),\n",
    "        ('passthrough',Passthrough()),\n",
    "        ('model',model)\n",
    "    ])\n",
    "    \n",
    "#     display(pipeline)\n",
    "    \n",
    "    return TransformedTargetRegressor(regressor=pipeline,\n",
    "                                    func=np.log1p,\n",
    "                                    inverse_func=np.expm1)"
   ]
  },
  {
   "cell_type": "raw",
   "id": "3a77b338",
   "metadata": {},
   "source": [
    "#Create a regressor to dynamically creates a pipeline\n",
    "def create_regressor(model,**kwargs):\n",
    "    '''\n",
    "    model: estimator instance\n",
    "    return: TransformedTargetRegressor\n",
    "    '''\n",
    "    pipeline=Pipeline(steps=[\n",
    "        ('standard_impute',StandardImpute(none=cols_to_impute_with_none,\n",
    "                                          zero=cols_to_impute_with_zero,\n",
    "                                          mode=cols_to_impute_with_mode)),\n",
    "        ('lot_frontage_impute',LotFrontageImpute()),\n",
    "        ('ordinal_to_numerical',OrdinalToNumeric()),\n",
    "#         ('numerical_scaling',Scaling()) reserved for scaling\n",
    "#         ('onehotencode',OneHotEncode()),\n",
    "#         ('selector',FeatureSelector(features_to_keep)),\n",
    "        ('selector',FeatureSelector(**kwargs)),\n",
    "        \n",
    "#         ('categorical_numerical_split',Categorical_Numerical_Split),\n",
    "        ('align_train_and_predict',AlignTrainPredict()),\n",
    "        ('display',DispStep()),\n",
    "        ('model',model)\n",
    "    ])\n",
    "    \n",
    "#     display(pipeline)\n",
    "    \n",
    "    return TransformedTargetRegressor(regressor=pipeline,\n",
    "                                    func=np.log1p,\n",
    "                                    inverse_func=np.expm1)"
   ]
  },
  {
   "cell_type": "raw",
   "id": "7ccb868c",
   "metadata": {
    "scrolled": true
   },
   "source": [
    "lr=create_regressor(LinearRegression())\n",
    "lr.fit(X, y)"
   ]
  },
  {
   "cell_type": "raw",
   "id": "874c5b9c",
   "metadata": {},
   "source": [
    "#Look at Training RMSE\n",
    "X=X_copy.copy()\n",
    "mean_squared_error(y,lr.predict(X),squared=False)"
   ]
  },
  {
   "cell_type": "code",
   "execution_count": 9,
   "id": "929f7c9b",
   "metadata": {
    "scrolled": true
   },
   "outputs": [],
   "source": [
    "X=X_copy.copy()\n",
    "\n",
    "lr=create_regressor(LinearRegression(),by=\"numerical\")\n",
    "\n",
    "# np.sqrt(-cross_val_score(lr,X,y,cv=5,scoring='neg_mean_squared_error')).mean()"
   ]
  },
  {
   "cell_type": "code",
   "execution_count": 10,
   "id": "3e89b293",
   "metadata": {},
   "outputs": [
    {
     "data": {
      "text/html": [
       "<style>#sk-container-id-1 {color: black;background-color: white;}#sk-container-id-1 pre{padding: 0;}#sk-container-id-1 div.sk-toggleable {background-color: white;}#sk-container-id-1 label.sk-toggleable__label {cursor: pointer;display: block;width: 100%;margin-bottom: 0;padding: 0.3em;box-sizing: border-box;text-align: center;}#sk-container-id-1 label.sk-toggleable__label-arrow:before {content: \"▸\";float: left;margin-right: 0.25em;color: #696969;}#sk-container-id-1 label.sk-toggleable__label-arrow:hover:before {color: black;}#sk-container-id-1 div.sk-estimator:hover label.sk-toggleable__label-arrow:before {color: black;}#sk-container-id-1 div.sk-toggleable__content {max-height: 0;max-width: 0;overflow: hidden;text-align: left;background-color: #f0f8ff;}#sk-container-id-1 div.sk-toggleable__content pre {margin: 0.2em;color: black;border-radius: 0.25em;background-color: #f0f8ff;}#sk-container-id-1 input.sk-toggleable__control:checked~div.sk-toggleable__content {max-height: 200px;max-width: 100%;overflow: auto;}#sk-container-id-1 input.sk-toggleable__control:checked~label.sk-toggleable__label-arrow:before {content: \"▾\";}#sk-container-id-1 div.sk-estimator input.sk-toggleable__control:checked~label.sk-toggleable__label {background-color: #d4ebff;}#sk-container-id-1 div.sk-label input.sk-toggleable__control:checked~label.sk-toggleable__label {background-color: #d4ebff;}#sk-container-id-1 input.sk-hidden--visually {border: 0;clip: rect(1px 1px 1px 1px);clip: rect(1px, 1px, 1px, 1px);height: 1px;margin: -1px;overflow: hidden;padding: 0;position: absolute;width: 1px;}#sk-container-id-1 div.sk-estimator {font-family: monospace;background-color: #f0f8ff;border: 1px dotted black;border-radius: 0.25em;box-sizing: border-box;margin-bottom: 0.5em;}#sk-container-id-1 div.sk-estimator:hover {background-color: #d4ebff;}#sk-container-id-1 div.sk-parallel-item::after {content: \"\";width: 100%;border-bottom: 1px solid gray;flex-grow: 1;}#sk-container-id-1 div.sk-label:hover label.sk-toggleable__label {background-color: #d4ebff;}#sk-container-id-1 div.sk-serial::before {content: \"\";position: absolute;border-left: 1px solid gray;box-sizing: border-box;top: 0;bottom: 0;left: 50%;z-index: 0;}#sk-container-id-1 div.sk-serial {display: flex;flex-direction: column;align-items: center;background-color: white;padding-right: 0.2em;padding-left: 0.2em;position: relative;}#sk-container-id-1 div.sk-item {position: relative;z-index: 1;}#sk-container-id-1 div.sk-parallel {display: flex;align-items: stretch;justify-content: center;background-color: white;position: relative;}#sk-container-id-1 div.sk-item::before, #sk-container-id-1 div.sk-parallel-item::before {content: \"\";position: absolute;border-left: 1px solid gray;box-sizing: border-box;top: 0;bottom: 0;left: 50%;z-index: -1;}#sk-container-id-1 div.sk-parallel-item {display: flex;flex-direction: column;z-index: 1;position: relative;background-color: white;}#sk-container-id-1 div.sk-parallel-item:first-child::after {align-self: flex-end;width: 50%;}#sk-container-id-1 div.sk-parallel-item:last-child::after {align-self: flex-start;width: 50%;}#sk-container-id-1 div.sk-parallel-item:only-child::after {width: 0;}#sk-container-id-1 div.sk-dashed-wrapped {border: 1px dashed gray;margin: 0 0.4em 0.5em 0.4em;box-sizing: border-box;padding-bottom: 0.4em;background-color: white;}#sk-container-id-1 div.sk-label label {font-family: monospace;font-weight: bold;display: inline-block;line-height: 1.2em;}#sk-container-id-1 div.sk-label-container {text-align: center;}#sk-container-id-1 div.sk-container {/* jupyter's `normalize.less` sets `[hidden] { display: none; }` but bootstrap.min.css set `[hidden] { display: none !important; }` so we also need the `!important` here to be able to override the default hidden behavior on the sphinx rendered scikit-learn.org. See: https://github.com/scikit-learn/scikit-learn/issues/21755 */display: inline-block !important;position: relative;}#sk-container-id-1 div.sk-text-repr-fallback {display: none;}</style><div id=\"sk-container-id-1\" class=\"sk-top-container\"><div class=\"sk-text-repr-fallback\"><pre>TransformedTargetRegressor(func=&lt;ufunc &#x27;log1p&#x27;&gt;, inverse_func=&lt;ufunc &#x27;expm1&#x27;&gt;,\n",
       "                           regressor=Pipeline(steps=[(&#x27;selector&#x27;,\n",
       "                                                      FeatureSelector(by=&#x27;numerical&#x27;)),\n",
       "                                                     (&#x27;simple_imputer&#x27;,\n",
       "                                                      SimpleImputer(fill_value=0,\n",
       "                                                                    strategy=&#x27;constant&#x27;)),\n",
       "                                                     (&#x27;passthrough&#x27;,\n",
       "                                                      Passthrough()),\n",
       "                                                     (&#x27;model&#x27;,\n",
       "                                                      LinearRegression())]))</pre><b>In a Jupyter environment, please rerun this cell to show the HTML representation or trust the notebook. <br />On GitHub, the HTML representation is unable to render, please try loading this page with nbviewer.org.</b></div><div class=\"sk-container\" hidden><div class=\"sk-item sk-dashed-wrapped\"><div class=\"sk-label-container\"><div class=\"sk-label sk-toggleable\"><input class=\"sk-toggleable__control sk-hidden--visually\" id=\"sk-estimator-id-1\" type=\"checkbox\" ><label for=\"sk-estimator-id-1\" class=\"sk-toggleable__label sk-toggleable__label-arrow\">TransformedTargetRegressor</label><div class=\"sk-toggleable__content\"><pre>TransformedTargetRegressor(func=&lt;ufunc &#x27;log1p&#x27;&gt;, inverse_func=&lt;ufunc &#x27;expm1&#x27;&gt;,\n",
       "                           regressor=Pipeline(steps=[(&#x27;selector&#x27;,\n",
       "                                                      FeatureSelector(by=&#x27;numerical&#x27;)),\n",
       "                                                     (&#x27;simple_imputer&#x27;,\n",
       "                                                      SimpleImputer(fill_value=0,\n",
       "                                                                    strategy=&#x27;constant&#x27;)),\n",
       "                                                     (&#x27;passthrough&#x27;,\n",
       "                                                      Passthrough()),\n",
       "                                                     (&#x27;model&#x27;,\n",
       "                                                      LinearRegression())]))</pre></div></div></div><div class=\"sk-parallel\"><div class=\"sk-parallel-item\"><div class=\"sk-item\"><div class=\"sk-label-container\"><div class=\"sk-label sk-toggleable\"><input class=\"sk-toggleable__control sk-hidden--visually\" id=\"sk-estimator-id-2\" type=\"checkbox\" ><label for=\"sk-estimator-id-2\" class=\"sk-toggleable__label sk-toggleable__label-arrow\">regressor: Pipeline</label><div class=\"sk-toggleable__content\"><pre>Pipeline(steps=[(&#x27;selector&#x27;, FeatureSelector(by=&#x27;numerical&#x27;)),\n",
       "                (&#x27;simple_imputer&#x27;,\n",
       "                 SimpleImputer(fill_value=0, strategy=&#x27;constant&#x27;)),\n",
       "                (&#x27;passthrough&#x27;, Passthrough()), (&#x27;model&#x27;, LinearRegression())])</pre></div></div></div><div class=\"sk-serial\"><div class=\"sk-item\"><div class=\"sk-serial\"><div class=\"sk-item\"><div class=\"sk-estimator sk-toggleable\"><input class=\"sk-toggleable__control sk-hidden--visually\" id=\"sk-estimator-id-3\" type=\"checkbox\" ><label for=\"sk-estimator-id-3\" class=\"sk-toggleable__label sk-toggleable__label-arrow\">FeatureSelector</label><div class=\"sk-toggleable__content\"><pre>FeatureSelector(by=&#x27;numerical&#x27;)</pre></div></div></div><div class=\"sk-item\"><div class=\"sk-estimator sk-toggleable\"><input class=\"sk-toggleable__control sk-hidden--visually\" id=\"sk-estimator-id-4\" type=\"checkbox\" ><label for=\"sk-estimator-id-4\" class=\"sk-toggleable__label sk-toggleable__label-arrow\">SimpleImputer</label><div class=\"sk-toggleable__content\"><pre>SimpleImputer(fill_value=0, strategy=&#x27;constant&#x27;)</pre></div></div></div><div class=\"sk-item\"><div class=\"sk-estimator sk-toggleable\"><input class=\"sk-toggleable__control sk-hidden--visually\" id=\"sk-estimator-id-5\" type=\"checkbox\" ><label for=\"sk-estimator-id-5\" class=\"sk-toggleable__label sk-toggleable__label-arrow\">Passthrough</label><div class=\"sk-toggleable__content\"><pre>Passthrough()</pre></div></div></div><div class=\"sk-item\"><div class=\"sk-estimator sk-toggleable\"><input class=\"sk-toggleable__control sk-hidden--visually\" id=\"sk-estimator-id-6\" type=\"checkbox\" ><label for=\"sk-estimator-id-6\" class=\"sk-toggleable__label sk-toggleable__label-arrow\">LinearRegression</label><div class=\"sk-toggleable__content\"><pre>LinearRegression()</pre></div></div></div></div></div></div></div></div></div></div></div></div>"
      ],
      "text/plain": [
       "TransformedTargetRegressor(func=<ufunc 'log1p'>, inverse_func=<ufunc 'expm1'>,\n",
       "                           regressor=Pipeline(steps=[('selector',\n",
       "                                                      FeatureSelector(by='numerical')),\n",
       "                                                     ('simple_imputer',\n",
       "                                                      SimpleImputer(fill_value=0,\n",
       "                                                                    strategy='constant')),\n",
       "                                                     ('passthrough',\n",
       "                                                      Passthrough()),\n",
       "                                                     ('model',\n",
       "                                                      LinearRegression())]))"
      ]
     },
     "execution_count": 10,
     "metadata": {},
     "output_type": "execute_result"
    }
   ],
   "source": [
    "lr.fit(X,y)"
   ]
  },
  {
   "cell_type": "code",
   "execution_count": 11,
   "id": "a9aff821",
   "metadata": {},
   "outputs": [],
   "source": [
    "RMSE=[]\n",
    "coefficients=[]\n",
    "feature_names=None"
   ]
  },
  {
   "cell_type": "code",
   "execution_count": 12,
   "id": "256e9559",
   "metadata": {},
   "outputs": [
    {
     "ename": "KeyError",
     "evalue": "'[183, 960, 1628, 1885] not in index'",
     "output_type": "error",
     "traceback": [
      "\u001b[1;31m---------------------------------------------------------------------------\u001b[0m",
      "\u001b[1;31mKeyError\u001b[0m                                  Traceback (most recent call last)",
      "Input \u001b[1;32mIn [12]\u001b[0m, in \u001b[0;36m<cell line: 2>\u001b[1;34m()\u001b[0m\n\u001b[0;32m      2\u001b[0m \u001b[38;5;28;01mfor\u001b[39;00m train_index, test_index \u001b[38;5;129;01min\u001b[39;00m kf\u001b[38;5;241m.\u001b[39msplit(X_copy\u001b[38;5;241m.\u001b[39mcopy()):\n\u001b[0;32m      3\u001b[0m     X_train, X_test \u001b[38;5;241m=\u001b[39m X\u001b[38;5;241m.\u001b[39miloc[train_index], X\u001b[38;5;241m.\u001b[39miloc[test_index]\n\u001b[1;32m----> 4\u001b[0m     y_train, y_test \u001b[38;5;241m=\u001b[39m \u001b[43my\u001b[49m\u001b[43m[\u001b[49m\u001b[43mtrain_index\u001b[49m\u001b[43m]\u001b[49m, y[test_index]\n\u001b[0;32m      6\u001b[0m     lr\u001b[38;5;241m.\u001b[39mfit(X_train,y_train)\n\u001b[0;32m      7\u001b[0m     ypred\u001b[38;5;241m=\u001b[39mlr\u001b[38;5;241m.\u001b[39mpredict(X_test)\n",
      "File \u001b[1;32m~\\anaconda3\\lib\\site-packages\\pandas\\core\\series.py:984\u001b[0m, in \u001b[0;36mSeries.__getitem__\u001b[1;34m(self, key)\u001b[0m\n\u001b[0;32m    981\u001b[0m     key \u001b[38;5;241m=\u001b[39m np\u001b[38;5;241m.\u001b[39masarray(key, dtype\u001b[38;5;241m=\u001b[39m\u001b[38;5;28mbool\u001b[39m)\n\u001b[0;32m    982\u001b[0m     \u001b[38;5;28;01mreturn\u001b[39;00m \u001b[38;5;28mself\u001b[39m\u001b[38;5;241m.\u001b[39m_get_values(key)\n\u001b[1;32m--> 984\u001b[0m \u001b[38;5;28;01mreturn\u001b[39;00m \u001b[38;5;28;43mself\u001b[39;49m\u001b[38;5;241;43m.\u001b[39;49m\u001b[43m_get_with\u001b[49m\u001b[43m(\u001b[49m\u001b[43mkey\u001b[49m\u001b[43m)\u001b[49m\n",
      "File \u001b[1;32m~\\anaconda3\\lib\\site-packages\\pandas\\core\\series.py:1019\u001b[0m, in \u001b[0;36mSeries._get_with\u001b[1;34m(self, key)\u001b[0m\n\u001b[0;32m   1015\u001b[0m \u001b[38;5;28;01mif\u001b[39;00m key_type \u001b[38;5;241m==\u001b[39m \u001b[38;5;124m\"\u001b[39m\u001b[38;5;124minteger\u001b[39m\u001b[38;5;124m\"\u001b[39m:\n\u001b[0;32m   1016\u001b[0m     \u001b[38;5;66;03m# We need to decide whether to treat this as a positional indexer\u001b[39;00m\n\u001b[0;32m   1017\u001b[0m     \u001b[38;5;66;03m#  (i.e. self.iloc) or label-based (i.e. self.loc)\u001b[39;00m\n\u001b[0;32m   1018\u001b[0m     \u001b[38;5;28;01mif\u001b[39;00m \u001b[38;5;129;01mnot\u001b[39;00m \u001b[38;5;28mself\u001b[39m\u001b[38;5;241m.\u001b[39mindex\u001b[38;5;241m.\u001b[39m_should_fallback_to_positional:\n\u001b[1;32m-> 1019\u001b[0m         \u001b[38;5;28;01mreturn\u001b[39;00m \u001b[38;5;28;43mself\u001b[39;49m\u001b[38;5;241;43m.\u001b[39;49m\u001b[43mloc\u001b[49m\u001b[43m[\u001b[49m\u001b[43mkey\u001b[49m\u001b[43m]\u001b[49m\n\u001b[0;32m   1020\u001b[0m     \u001b[38;5;28;01melse\u001b[39;00m:\n\u001b[0;32m   1021\u001b[0m         \u001b[38;5;28;01mreturn\u001b[39;00m \u001b[38;5;28mself\u001b[39m\u001b[38;5;241m.\u001b[39miloc[key]\n",
      "File \u001b[1;32m~\\anaconda3\\lib\\site-packages\\pandas\\core\\indexing.py:967\u001b[0m, in \u001b[0;36m_LocationIndexer.__getitem__\u001b[1;34m(self, key)\u001b[0m\n\u001b[0;32m    964\u001b[0m axis \u001b[38;5;241m=\u001b[39m \u001b[38;5;28mself\u001b[39m\u001b[38;5;241m.\u001b[39maxis \u001b[38;5;129;01mor\u001b[39;00m \u001b[38;5;241m0\u001b[39m\n\u001b[0;32m    966\u001b[0m maybe_callable \u001b[38;5;241m=\u001b[39m com\u001b[38;5;241m.\u001b[39mapply_if_callable(key, \u001b[38;5;28mself\u001b[39m\u001b[38;5;241m.\u001b[39mobj)\n\u001b[1;32m--> 967\u001b[0m \u001b[38;5;28;01mreturn\u001b[39;00m \u001b[38;5;28;43mself\u001b[39;49m\u001b[38;5;241;43m.\u001b[39;49m\u001b[43m_getitem_axis\u001b[49m\u001b[43m(\u001b[49m\u001b[43mmaybe_callable\u001b[49m\u001b[43m,\u001b[49m\u001b[43m \u001b[49m\u001b[43maxis\u001b[49m\u001b[38;5;241;43m=\u001b[39;49m\u001b[43maxis\u001b[49m\u001b[43m)\u001b[49m\n",
      "File \u001b[1;32m~\\anaconda3\\lib\\site-packages\\pandas\\core\\indexing.py:1191\u001b[0m, in \u001b[0;36m_LocIndexer._getitem_axis\u001b[1;34m(self, key, axis)\u001b[0m\n\u001b[0;32m   1188\u001b[0m     \u001b[38;5;28;01mif\u001b[39;00m \u001b[38;5;28mhasattr\u001b[39m(key, \u001b[38;5;124m\"\u001b[39m\u001b[38;5;124mndim\u001b[39m\u001b[38;5;124m\"\u001b[39m) \u001b[38;5;129;01mand\u001b[39;00m key\u001b[38;5;241m.\u001b[39mndim \u001b[38;5;241m>\u001b[39m \u001b[38;5;241m1\u001b[39m:\n\u001b[0;32m   1189\u001b[0m         \u001b[38;5;28;01mraise\u001b[39;00m \u001b[38;5;167;01mValueError\u001b[39;00m(\u001b[38;5;124m\"\u001b[39m\u001b[38;5;124mCannot index with multidimensional key\u001b[39m\u001b[38;5;124m\"\u001b[39m)\n\u001b[1;32m-> 1191\u001b[0m     \u001b[38;5;28;01mreturn\u001b[39;00m \u001b[38;5;28;43mself\u001b[39;49m\u001b[38;5;241;43m.\u001b[39;49m\u001b[43m_getitem_iterable\u001b[49m\u001b[43m(\u001b[49m\u001b[43mkey\u001b[49m\u001b[43m,\u001b[49m\u001b[43m \u001b[49m\u001b[43maxis\u001b[49m\u001b[38;5;241;43m=\u001b[39;49m\u001b[43maxis\u001b[49m\u001b[43m)\u001b[49m\n\u001b[0;32m   1193\u001b[0m \u001b[38;5;66;03m# nested tuple slicing\u001b[39;00m\n\u001b[0;32m   1194\u001b[0m \u001b[38;5;28;01mif\u001b[39;00m is_nested_tuple(key, labels):\n",
      "File \u001b[1;32m~\\anaconda3\\lib\\site-packages\\pandas\\core\\indexing.py:1132\u001b[0m, in \u001b[0;36m_LocIndexer._getitem_iterable\u001b[1;34m(self, key, axis)\u001b[0m\n\u001b[0;32m   1129\u001b[0m \u001b[38;5;28mself\u001b[39m\u001b[38;5;241m.\u001b[39m_validate_key(key, axis)\n\u001b[0;32m   1131\u001b[0m \u001b[38;5;66;03m# A collection of keys\u001b[39;00m\n\u001b[1;32m-> 1132\u001b[0m keyarr, indexer \u001b[38;5;241m=\u001b[39m \u001b[38;5;28;43mself\u001b[39;49m\u001b[38;5;241;43m.\u001b[39;49m\u001b[43m_get_listlike_indexer\u001b[49m\u001b[43m(\u001b[49m\u001b[43mkey\u001b[49m\u001b[43m,\u001b[49m\u001b[43m \u001b[49m\u001b[43maxis\u001b[49m\u001b[43m)\u001b[49m\n\u001b[0;32m   1133\u001b[0m \u001b[38;5;28;01mreturn\u001b[39;00m \u001b[38;5;28mself\u001b[39m\u001b[38;5;241m.\u001b[39mobj\u001b[38;5;241m.\u001b[39m_reindex_with_indexers(\n\u001b[0;32m   1134\u001b[0m     {axis: [keyarr, indexer]}, copy\u001b[38;5;241m=\u001b[39m\u001b[38;5;28;01mTrue\u001b[39;00m, allow_dups\u001b[38;5;241m=\u001b[39m\u001b[38;5;28;01mTrue\u001b[39;00m\n\u001b[0;32m   1135\u001b[0m )\n",
      "File \u001b[1;32m~\\anaconda3\\lib\\site-packages\\pandas\\core\\indexing.py:1327\u001b[0m, in \u001b[0;36m_LocIndexer._get_listlike_indexer\u001b[1;34m(self, key, axis)\u001b[0m\n\u001b[0;32m   1324\u001b[0m ax \u001b[38;5;241m=\u001b[39m \u001b[38;5;28mself\u001b[39m\u001b[38;5;241m.\u001b[39mobj\u001b[38;5;241m.\u001b[39m_get_axis(axis)\n\u001b[0;32m   1325\u001b[0m axis_name \u001b[38;5;241m=\u001b[39m \u001b[38;5;28mself\u001b[39m\u001b[38;5;241m.\u001b[39mobj\u001b[38;5;241m.\u001b[39m_get_axis_name(axis)\n\u001b[1;32m-> 1327\u001b[0m keyarr, indexer \u001b[38;5;241m=\u001b[39m \u001b[43max\u001b[49m\u001b[38;5;241;43m.\u001b[39;49m\u001b[43m_get_indexer_strict\u001b[49m\u001b[43m(\u001b[49m\u001b[43mkey\u001b[49m\u001b[43m,\u001b[49m\u001b[43m \u001b[49m\u001b[43maxis_name\u001b[49m\u001b[43m)\u001b[49m\n\u001b[0;32m   1329\u001b[0m \u001b[38;5;28;01mreturn\u001b[39;00m keyarr, indexer\n",
      "File \u001b[1;32m~\\anaconda3\\lib\\site-packages\\pandas\\core\\indexes\\base.py:5782\u001b[0m, in \u001b[0;36mIndex._get_indexer_strict\u001b[1;34m(self, key, axis_name)\u001b[0m\n\u001b[0;32m   5779\u001b[0m \u001b[38;5;28;01melse\u001b[39;00m:\n\u001b[0;32m   5780\u001b[0m     keyarr, indexer, new_indexer \u001b[38;5;241m=\u001b[39m \u001b[38;5;28mself\u001b[39m\u001b[38;5;241m.\u001b[39m_reindex_non_unique(keyarr)\n\u001b[1;32m-> 5782\u001b[0m \u001b[38;5;28;43mself\u001b[39;49m\u001b[38;5;241;43m.\u001b[39;49m\u001b[43m_raise_if_missing\u001b[49m\u001b[43m(\u001b[49m\u001b[43mkeyarr\u001b[49m\u001b[43m,\u001b[49m\u001b[43m \u001b[49m\u001b[43mindexer\u001b[49m\u001b[43m,\u001b[49m\u001b[43m \u001b[49m\u001b[43maxis_name\u001b[49m\u001b[43m)\u001b[49m\n\u001b[0;32m   5784\u001b[0m keyarr \u001b[38;5;241m=\u001b[39m \u001b[38;5;28mself\u001b[39m\u001b[38;5;241m.\u001b[39mtake(indexer)\n\u001b[0;32m   5785\u001b[0m \u001b[38;5;28;01mif\u001b[39;00m \u001b[38;5;28misinstance\u001b[39m(key, Index):\n\u001b[0;32m   5786\u001b[0m     \u001b[38;5;66;03m# GH 42790 - Preserve name from an Index\u001b[39;00m\n",
      "File \u001b[1;32m~\\anaconda3\\lib\\site-packages\\pandas\\core\\indexes\\base.py:5845\u001b[0m, in \u001b[0;36mIndex._raise_if_missing\u001b[1;34m(self, key, indexer, axis_name)\u001b[0m\n\u001b[0;32m   5842\u001b[0m     \u001b[38;5;28;01mraise\u001b[39;00m \u001b[38;5;167;01mKeyError\u001b[39;00m(\u001b[38;5;124mf\u001b[39m\u001b[38;5;124m\"\u001b[39m\u001b[38;5;124mNone of [\u001b[39m\u001b[38;5;132;01m{\u001b[39;00mkey\u001b[38;5;132;01m}\u001b[39;00m\u001b[38;5;124m] are in the [\u001b[39m\u001b[38;5;132;01m{\u001b[39;00maxis_name\u001b[38;5;132;01m}\u001b[39;00m\u001b[38;5;124m]\u001b[39m\u001b[38;5;124m\"\u001b[39m)\n\u001b[0;32m   5844\u001b[0m not_found \u001b[38;5;241m=\u001b[39m \u001b[38;5;28mlist\u001b[39m(ensure_index(key)[missing_mask\u001b[38;5;241m.\u001b[39mnonzero()[\u001b[38;5;241m0\u001b[39m]]\u001b[38;5;241m.\u001b[39munique())\n\u001b[1;32m-> 5845\u001b[0m \u001b[38;5;28;01mraise\u001b[39;00m \u001b[38;5;167;01mKeyError\u001b[39;00m(\u001b[38;5;124mf\u001b[39m\u001b[38;5;124m\"\u001b[39m\u001b[38;5;132;01m{\u001b[39;00mnot_found\u001b[38;5;132;01m}\u001b[39;00m\u001b[38;5;124m not in index\u001b[39m\u001b[38;5;124m\"\u001b[39m)\n",
      "\u001b[1;31mKeyError\u001b[0m: '[183, 960, 1628, 1885] not in index'"
     ]
    }
   ],
   "source": [
    "kf=KFold(n_splits=10,random_state=30,shuffle=True)\n",
    "for train_index, test_index in kf.split(X_copy.copy()):\n",
    "    X_train, X_test = X.iloc[train_index], X.iloc[test_index]\n",
    "    y_train, y_test = y[train_index], y[test_index]\n",
    "    \n",
    "    lr.fit(X_train,y_train)\n",
    "    ypred=lr.predict(X_test)\n",
    "    RMSE.append(mean_squared_error(y_test,ypred,squared=False))\n",
    "#     display(lr.regressor_['model'].coef_)\n",
    "    coefficients.append(lr.regressor_['model'].coef_)\n",
    "    feature_names=list(lr.regressor_['display'].get_feature_names())"
   ]
  },
  {
   "cell_type": "code",
   "execution_count": null,
   "id": "310090bb",
   "metadata": {},
   "outputs": [],
   "source": [
    "np.mean(RMSE)"
   ]
  },
  {
   "cell_type": "markdown",
   "id": "cdd34898",
   "metadata": {},
   "source": [
    "Ok, this is slightly better!"
   ]
  },
  {
   "cell_type": "code",
   "execution_count": null,
   "id": "12ff266b",
   "metadata": {},
   "outputs": [],
   "source": [
    "dfcoeff=pd.DataFrame(coefficients,columns=feature_names)"
   ]
  },
  {
   "cell_type": "code",
   "execution_count": null,
   "id": "e84435d9",
   "metadata": {},
   "outputs": [],
   "source": [
    "features_to_keep=list(dfcoeff.mean().loc[lambda x:np.abs(x)>0.01].index)\n",
    "features_to_keep"
   ]
  },
  {
   "cell_type": "markdown",
   "id": "e735313b",
   "metadata": {},
   "source": [
    "Let's look at coefficient."
   ]
  },
  {
   "cell_type": "markdown",
   "id": "fd7b2f30",
   "metadata": {},
   "source": [
    "### Try a submission"
   ]
  },
  {
   "cell_type": "code",
   "execution_count": null,
   "id": "8c1227e0",
   "metadata": {},
   "outputs": [],
   "source": [
    "#Instantiate a copy of Tester helper class\n",
    "tester=Tester(\"../data/test.csv\")"
   ]
  },
  {
   "cell_type": "code",
   "execution_count": null,
   "id": "9f4fdeae",
   "metadata": {},
   "outputs": [],
   "source": [
    "#obtain a copy of the test set\n",
    "df_test=tester.get_test_df()"
   ]
  },
  {
   "cell_type": "code",
   "execution_count": null,
   "id": "1a5dd3e6",
   "metadata": {},
   "outputs": [],
   "source": [
    "#reset the df\n",
    "X=X_copy.copy()\n",
    "\n",
    "#instantiate and train the model\n",
    "lr=create_regressor(LinearRegression())\n",
    "lr.fit(X,y)"
   ]
  },
  {
   "cell_type": "raw",
   "id": "a5ac3fbf",
   "metadata": {},
   "source": [
    "df_test=ordinal_to_rank(df_test)\n",
    "df_test=onehot_encode_categorical_features(df_test)"
   ]
  },
  {
   "cell_type": "code",
   "execution_count": null,
   "id": "c7d060b6",
   "metadata": {},
   "outputs": [],
   "source": [
    "#make prediction\n",
    "ypred=lr.predict(df_test)"
   ]
  },
  {
   "cell_type": "raw",
   "id": "6bec5995",
   "metadata": {},
   "source": [
    "#retain columns required for modelling\n",
    "df_test=df_test[cols_to_keep]\n",
    "\n",
    "#predict SalePrice. Remmber to np.exp to reverse the log.\n",
    "ypred=np.exp(lr.predict(df_test))"
   ]
  },
  {
   "cell_type": "code",
   "execution_count": null,
   "id": "a22015b9",
   "metadata": {},
   "outputs": [],
   "source": [
    "tester.write_submission(ypred,\"../data/02_all_features_submission.csv\")"
   ]
  }
 ],
 "metadata": {
  "kernelspec": {
   "display_name": "Python 3 (ipykernel)",
   "language": "python",
   "name": "python3"
  },
  "language_info": {
   "codemirror_mode": {
    "name": "ipython",
    "version": 3
   },
   "file_extension": ".py",
   "mimetype": "text/x-python",
   "name": "python",
   "nbconvert_exporter": "python",
   "pygments_lexer": "ipython3",
   "version": "3.9.12"
  }
 },
 "nbformat": 4,
 "nbformat_minor": 5
}
